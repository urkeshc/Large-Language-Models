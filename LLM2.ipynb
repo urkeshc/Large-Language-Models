{
  "cells": [
    {
      "cell_type": "markdown",
      "source": [
        "# **Urkesh Cusack, NLP > Large Language Models**"
      ],
      "metadata": {
        "id": "EcYZSatyJt5p"
      }
    },
    {
      "cell_type": "code",
      "execution_count": null,
      "metadata": {
        "colab": {
          "base_uri": "https://localhost:8080/"
        },
        "id": "Kkq_2mcmwd1D",
        "outputId": "333f4b61-67d2-44ed-ef20-ec703fa0ff8d"
      },
      "outputs": [
        {
          "output_type": "stream",
          "name": "stdout",
          "text": [
            "Mounted at /content/drive\n",
            "/content/drive/My Drive/YALE/LLM/hw2\n"
          ]
        }
      ],
      "source": [
        "from google.colab import drive\n",
        "import os\n",
        "drive.mount('/content/drive', force_remount=True)\n",
        "%cd /content/drive/My Drive/YALE/LLM/hw2"
      ]
    },
    {
      "cell_type": "code",
      "source": [],
      "metadata": {
        "id": "o0B7_i2bJsqb"
      },
      "execution_count": null,
      "outputs": []
    },
    {
      "cell_type": "code",
      "execution_count": null,
      "metadata": {
        "colab": {
          "base_uri": "https://localhost:8080/"
        },
        "id": "2dIouhnOzVwX",
        "outputId": "bb368490-24f3-4d02-d537-a3ac10abe484"
      },
      "outputs": [
        {
          "output_type": "stream",
          "name": "stdout",
          "text": [
            "'Generative AI-Future of work in America.pdf'   restaurant-dine-in-menu.pdf\n",
            " hw2.ipynb\t\t\t\t       'Untitled document.gdoc'\n",
            " key.py\n"
          ]
        }
      ],
      "source": [
        "#Check directory to see if files needed are in the directory\n",
        "!ls '/content/drive/My Drive/YALE/LLM/hw2'"
      ]
    },
    {
      "cell_type": "code",
      "execution_count": null,
      "metadata": {
        "id": "nofojA7oznMD"
      },
      "outputs": [],
      "source": [
        "%%capture\n",
        "!pip install  langchain     #Langchain\n",
        "!pip install  \"openai<=0.28.1\"  #OpenAI pre-11/07\n",
        "\n",
        "!pip install pypdf          #loader for pdfs // https://pypdf.readthedocs.io/en/stable/\n",
        "!pip install unstructured   #loader for unstructured text data\n",
        "!pip install pypandoc       #universal document converter\n",
        "!pip install chromadb       #Vector database\n",
        "\n",
        "!pip install tiktoken       #tokenizer for Open AI models\n",
        "!pip install streamlit      #GUI for apps\n",
        "!pip install cohere         #RAG\n",
        "!pip install wikipedia\n",
        "!pip install google-search-results    #Google Search for SerpAPI\n",
        "!pip install yfinance         #Yahoo Finance\n",
        "!pip install wolframalpha     #Wolfram Alpha for fancy science computations,algebraic solutions, and scientific facts\n",
        "!pip install pyowm            #Openweathermap\n",
        "!pip install serpapi\n"
      ]
    },
    {
      "cell_type": "code",
      "execution_count": null,
      "metadata": {
        "id": "tWMK8xXL0O-m"
      },
      "outputs": [],
      "source": [
        "# Import the OPEN AI API key from key.py\n",
        "from key import OPENAI_API_KEY\n",
        "#openai.api_key = OPENAI_API_KEY\n",
        "os.environ[\"OPENAI_API_KEY\"] = OPENAI_API_KEY\n",
        "\n",
        "# Import the COHERE API key from key.py\n",
        "from key import COHERE_API_KEY\n",
        "os.environ[\"COHERE_API_KEY\"] = COHERE_API_KEY\n",
        "\n",
        "from key import WOLFRAM_ALPHA_APPID\n",
        "os.environ[\"WOLFRAM_ALPHA_APPID\"] = WOLFRAM_ALPHA_APPID\n",
        "\n",
        "from key import SERPAPI_API_KEY\n",
        "os.environ[\"SERPAPI_API_KEY\"] = SERPAPI_API_KEY\n",
        "\n",
        "from key import OPENWEATHERMAP_API_KEY\n",
        "os.environ[\"OPENWEATHERMAP_API_KEY\"] = OPENWEATHERMAP_API_KEY\n",
        "\n",
        "from key import GOOGLE_API_KEY\n",
        "os.environ[\"GOOGLE_API_KEY\"] = GOOGLE_API_KEY\n",
        "\n",
        "from key import GOOGLE_CSE_ID\n",
        "os.environ[\"GOOGLE_CSE_ID\"] = GOOGLE_CSE_ID\n",
        "\n",
        "# Specify the path to your uploaded .py file\n",
        "\n",
        "# Open and read the file\n",
        "# with open(file_path, 'r') as file:\n",
        "#   file_contents = file.read()\n",
        "\n",
        "# Display the file contents\n",
        "# print(file_contents)"
      ]
    },
    {
      "cell_type": "markdown",
      "metadata": {
        "id": "d-lFL7voaJYy"
      },
      "source": [
        "# Question 1"
      ]
    },
    {
      "cell_type": "markdown",
      "metadata": {
        "id": "UuO3aJJWaQKc"
      },
      "source": [
        "## Part 1: Comparing OpenAI embeddings with Different Chunking Sizes"
      ]
    },
    {
      "cell_type": "markdown",
      "metadata": {
        "id": "iQnQ0p3_ZMpo"
      },
      "source": [
        "### a. Result using: (chunk_size=2000, chunk_overlap=500)"
      ]
    },
    {
      "cell_type": "code",
      "execution_count": null,
      "metadata": {
        "colab": {
          "base_uri": "https://localhost:8080/"
        },
        "id": "T8tp7jDl0ZFL",
        "outputId": "5b31e69d-af74-4484-a755-dc0e8896135b"
      },
      "outputs": [
        {
          "output_type": "stream",
          "name": "stdout",
          "text": [
            "page_content='July 2023\\nAuthors\\nKweilin Ellingrud\\nSaurabh Sanghvi\\nGurneet Singh Dandona\\nAnu Madgavkar\\nMichael Chui\\nOlivia White\\nPaige Hasebe\\nEditor \\nLisa RenaudMcKinsey Center for Government \\nGenerative \\nAI and the \\nfuture of work \\nin America' metadata={'source': 'Generative AI-Future of work in America.pdf', 'page': 0}\n",
            "page_content='Cover illustration by Matt Murphy' metadata={'source': 'Generative AI-Future of work in America.pdf', 'page': 1}\n",
            "\n",
            "\n",
            "What share of the U.S. jobs will be affected by automation?\n",
            "By 2030, activities that account for up to 30 percent of hours currently\n",
            "worked across the US economy could be automated. However, it is important\n",
            "to note that this does not necessarily mean that 30 percent of jobs will be\n",
            "eliminated. Automation is likely to have a greater impact on certain job\n",
            "categories, such as office support, customer service, and food service\n",
            "employment, which could continue to decline. On the other hand, automation\n",
            "is expected to enhance the way STEM, creative, and business and legal\n",
            "professionals work rather than eliminating a significant number of jobs\n",
            "outright.\n",
            "\n",
            "\n",
            "How will generative AI impact the importance of credentials relative to experience in hiring?\n",
            "The provided context does not directly address the impact of generative AI\n",
            "on the importance of credentials relative to experience in hiring.\n",
            "Therefore, it is unclear how generative AI will specifically affect the\n",
            "importance of credentials in the hiring process.\n"
          ]
        }
      ],
      "source": [
        "import os\n",
        "import key\n",
        "import openai\n",
        "import textwrap\n",
        "\n",
        "#Libraries for Document Loaders\n",
        "from langchain.document_loaders import PyPDFLoader\n",
        "\n",
        "#Libraries for Document Splitting, embeddings and vector stores\n",
        "from langchain.text_splitter import RecursiveCharacterTextSplitter\n",
        "from langchain.embeddings.openai import OpenAIEmbeddings\n",
        "from langchain.vectorstores import Chroma\n",
        "\n",
        "#Chain for Q&A after retrieving external documents\n",
        "from langchain.chains import RetrievalQA\n",
        "\n",
        "#Using ChatOpenAI\n",
        "from langchain.chat_models import ChatOpenAI            #used for GPT3.5/4 model\n",
        "os.environ[\"OPENAI_API_KEY\"] = key.OPENAI_API_KEY\n",
        "\n",
        "# Loading documents (A scholarly paper)\n",
        "loader = PyPDFLoader(\"Generative AI-Future of work in America.pdf\")\n",
        "documents = loader.load()\n",
        "#print(documents)          # print to ensure document loaded correctly--comment out after checking\n",
        "#print('\\n')\n",
        "\n",
        "#Splitting Documents into Chunks for embeddings and the store them in vector stores\n",
        "# chunksize and chunkoverlap are key parameters to ensure that things work\n",
        "\n",
        "# text_splitter = RecursiveCharacterTextSplitter(chunk_size=20, chunk_overlap=5)\n",
        "# text_splitter = RecursiveCharacterTextSplitter(chunk_size=100, chunk_overlap=25)\n",
        "text_splitter = RecursiveCharacterTextSplitter(chunk_size=2000, chunk_overlap=500)\n",
        "# text_splitter = RecursiveCharacterTextSplitter(chunk_size=10000, chunk_overlap=2500)\n",
        "chunks = text_splitter.split_documents(documents)\n",
        "\n",
        "# to see the chunks\n",
        "print(chunks[0])\n",
        "print(chunks[1])\n",
        "print(\"\\n\")\n",
        "\n",
        "#Store the chunks as embeddings within a vector store\n",
        "\n",
        "#from chromadb.utils import embedding_functions\n",
        "from langchain.embeddings import CohereEmbeddings\n",
        "######\n",
        "\n",
        "# Import the COHERE API key from key.py\n",
        "from key import COHERE_API_KEY\n",
        "os.environ[\"COHERE_API_KEY\"] = COHERE_API_KEY\n",
        "embeddings = OpenAIEmbeddings()\n",
        "\n",
        "# embeddings = CohereEmbeddings(model=\"embed-english-light-v3.0\", cohere_api_key=COHERE_API_KEY) # https://api.python.langchain.com/en/latest/embeddings/langchain.embeddings.cohere.CohereEmbeddings.html\n",
        "######\n",
        "\n",
        "################## I have found a way to prevent the dimensionality error ##################\n",
        "from chromadb.errors import InvalidDimensionException\n",
        "try:\n",
        "    vector_store = Chroma.from_documents(chunks, embeddings)\n",
        "except InvalidDimensionException:\n",
        "    Chroma().delete_collection()\n",
        "    vector_store = Chroma.from_documents(chunks, embeddings)\n",
        "############################################################################################\n",
        "\n",
        "# initialize OpenAI instance and set up a chain for Q&A from an LLM and a vector score\n",
        "llm = ChatOpenAI(model='gpt-3.5-turbo', temperature=0)\n",
        "retriever=vector_store.as_retriever()\n",
        "chain = RetrievalQA.from_chain_type(llm, retriever=retriever)\n",
        "\n",
        "\n",
        "# Run chain with question\n",
        "question = \"What share of the U.S. jobs will be affected by automation?\"\n",
        "response = chain.run(question)\n",
        "print(question)\n",
        "print(textwrap.fill(response,75))\n",
        "print('\\n')\n",
        "question = \"How will generative AI impact the importance of credentials relative to experience in hiring?\"\n",
        "response = chain.run(question)\n",
        "print(question)\n",
        "print(textwrap.fill(response,75))"
      ]
    },
    {
      "cell_type": "markdown",
      "metadata": {
        "id": "msrXiPy0nP89"
      },
      "source": [
        "!!! Disclaimer: During the debugging process sometimes is necesary to re-start runtime to clean cache. So the answers that the code return may differ from what it is manually written as maybe it was copy&pasted before"
      ]
    },
    {
      "cell_type": "markdown",
      "metadata": {
        "id": "UCgOv4WEkHTV"
      },
      "source": [
        "What share of the U.S. jobs will be affected by automation?"
      ]
    },
    {
      "cell_type": "markdown",
      "metadata": {
        "id": "TKdUNzMPZRtT"
      },
      "source": [
        "\n",
        "\n",
        "According to the information provided, without generative AI, automation\n",
        "could take over tasks accounting for 21.5 percent of the hours worked in\n",
        "the US economy by 2030. However, with generative AI added to the picture,\n",
        "that share has now jumped to 29.5 percent. It's important to note that this\n",
        "is the midpoint estimate, representing the average of a wide range, from\n",
        "3.7 to 55.3 percent."
      ]
    },
    {
      "cell_type": "markdown",
      "metadata": {
        "id": "JsWMoeeokJtA"
      },
      "source": [
        "How will generative AI impact the importance of credentials relative to experience in hiring?"
      ]
    },
    {
      "cell_type": "markdown",
      "metadata": {
        "id": "r57-Ezc1kL-R"
      },
      "source": [
        "Generative AI has the potential to impact the importance of credentials\n",
        "relative to experience in hiring. Currently, many employers prioritize\n",
        "candidates with prior experience that closely matches the responsibilities\n",
        "of the open role. However, with the introduction of generative AI tools,\n",
        "employers can evaluate candidates based on their capacity to learn,\n",
        "intrinsic capabilities, and transferable skills. This broader lens in\n",
        "hiring allows employers to focus on a candidate's potential rather than\n",
        "solely relying on their past experience. Generative AI can assist in\n",
        "identifying patterns and generating new content, which can be valuable in\n",
        "various work activities. As a result, employers may place less emphasis on\n",
        "specific credentials and instead prioritize candidates who demonstrate the\n",
        "ability to adapt and learn new skills, as well as possess transferable\n",
        "skills that can be applied to different roles."
      ]
    },
    {
      "cell_type": "markdown",
      "metadata": {
        "id": "-sDzUU5IZU8D"
      },
      "source": [
        "### b. Result using: (chunk_size=100, chunk_overlap=25)"
      ]
    },
    {
      "cell_type": "code",
      "execution_count": null,
      "metadata": {
        "colab": {
          "base_uri": "https://localhost:8080/"
        },
        "id": "WGzvzT8Tj8Oa",
        "outputId": "5c079cb2-a4c0-4152-bd19-f3445f9785fc"
      },
      "outputs": [
        {
          "output_type": "stream",
          "name": "stdout",
          "text": [
            "page_content='July 2023\\nAuthors\\nKweilin Ellingrud\\nSaurabh Sanghvi\\nGurneet Singh Dandona\\nAnu Madgavkar\\nMichael Chui' metadata={'source': 'Generative AI-Future of work in America.pdf', 'page': 0}\n",
            "page_content='Michael Chui\\nOlivia White\\nPaige Hasebe\\nEditor \\nLisa RenaudMcKinsey Center for Government' metadata={'source': 'Generative AI-Future of work in America.pdf', 'page': 0}\n",
            "\n",
            "\n",
            "What share of the U.S. jobs will be affected by automation?\n",
            "According to the information provided, it is stated that millions of jobs\n",
            "could potentially be eliminated by automation. However, the exact share or\n",
            "percentage of U.S. jobs that will be affected by automation is not\n",
            "specified.\n",
            "\n",
            "\n",
            "How will generative AI impact the importance of credentials relative to experience in hiring?\n",
            "The provided context does not directly address the impact of generative AI\n",
            "on the importance of credentials relative to experience in hiring.\n",
            "Therefore, it is unclear how generative AI will specifically affect the\n",
            "importance of credentials in the hiring process.\n"
          ]
        }
      ],
      "source": [
        "import os\n",
        "import key\n",
        "import openai\n",
        "import textwrap\n",
        "\n",
        "#Libraries for Document Loaders\n",
        "from langchain.document_loaders import PyPDFLoader\n",
        "\n",
        "#Libraries for Document Splitting, embeddings and vector stores\n",
        "from langchain.text_splitter import RecursiveCharacterTextSplitter\n",
        "from langchain.embeddings.openai import OpenAIEmbeddings\n",
        "from langchain.vectorstores import Chroma\n",
        "\n",
        "#Chain for Q&A after retrieving external documents\n",
        "from langchain.chains import RetrievalQA\n",
        "\n",
        "#Using ChatOpenAI\n",
        "from langchain.chat_models import ChatOpenAI            #used for GPT3.5/4 model\n",
        "os.environ[\"OPENAI_API_KEY\"] = key.OPENAI_API_KEY\n",
        "\n",
        "# Loading documents (A scholarly paper)\n",
        "loader = PyPDFLoader(\"Generative AI-Future of work in America.pdf\")\n",
        "documents = loader.load()\n",
        "#print(documents)          # print to ensure document loaded correctly--comment out after checking\n",
        "#print('\\n')\n",
        "\n",
        "#Splitting Documents into Chunks for embeddings and the store them in vector stores\n",
        "# chunksize and chunkoverlap are key parameters to ensure that things work\n",
        "\n",
        "# text_splitter = RecursiveCharacterTextSplitter(chunk_size=20, chunk_overlap=5)\n",
        "text_splitter = RecursiveCharacterTextSplitter(chunk_size=100, chunk_overlap=25)\n",
        "# text_splitter = RecursiveCharacterTextSplitter(chunk_size=2000, chunk_overlap=500)\n",
        "# text_splitter = RecursiveCharacterTextSplitter(chunk_size=10000, chunk_overlap=2500)\n",
        "chunks = text_splitter.split_documents(documents)\n",
        "\n",
        "# to see the chunks\n",
        "print(chunks[0])\n",
        "print(chunks[1])\n",
        "print(\"\\n\")\n",
        "\n",
        "#Store the chunks as embeddings within a vector store\n",
        "\n",
        "#from chromadb.utils import embedding_functions\n",
        "from langchain.embeddings import CohereEmbeddings\n",
        "######\n",
        "\n",
        "# Import the COHERE API key from key.py\n",
        "from key import COHERE_API_KEY\n",
        "os.environ[\"COHERE_API_KEY\"] = COHERE_API_KEY\n",
        "embeddings = OpenAIEmbeddings()\n",
        "\n",
        "# embeddings = CohereEmbeddings(model=\"embed-english-light-v3.0\", cohere_api_key=COHERE_API_KEY) # https://api.python.langchain.com/en/latest/embeddings/langchain.embeddings.cohere.CohereEmbeddings.html\n",
        "######\n",
        "\n",
        "################## I have found a way to prevent the dimensionality error ##################\n",
        "from chromadb.errors import InvalidDimensionException\n",
        "try:\n",
        "    vector_store = Chroma.from_documents(chunks, embeddings)\n",
        "except InvalidDimensionException:\n",
        "    Chroma().delete_collection()\n",
        "    vector_store = Chroma.from_documents(chunks, embeddings)\n",
        "############################################################################################\n",
        "\n",
        "\n",
        "\n",
        "# initialize OpenAI instance and set up a chain for Q&A from an LLM and a vector score\n",
        "llm = ChatOpenAI(model='gpt-3.5-turbo', temperature=0)\n",
        "retriever=vector_store.as_retriever()\n",
        "chain = RetrievalQA.from_chain_type(llm, retriever=retriever)\n",
        "\n",
        "\n",
        "# Run chain with question\n",
        "question = \"What share of the U.S. jobs will be affected by automation?\"\n",
        "response = chain.run(question)\n",
        "print(question)\n",
        "print(textwrap.fill(response,75))\n",
        "print('\\n')\n",
        "question = \"How will generative AI impact the importance of credentials relative to experience in hiring?\"\n",
        "response = chain.run(question)\n",
        "print(question)\n",
        "print(textwrap.fill(response,75))"
      ]
    },
    {
      "cell_type": "markdown",
      "metadata": {
        "id": "IZzVvbNQnsso"
      },
      "source": [
        "!!! Disclaimer: During the debugging process sometimes is necesary to re-start runtime to clean cache. So the answers that the code return may differ from what it is manually written as maybe it was copy&pasted before"
      ]
    },
    {
      "cell_type": "markdown",
      "metadata": {
        "id": "zm0aX0cWkToM"
      },
      "source": [
        "What share of the U.S. jobs will be affected by automation?"
      ]
    },
    {
      "cell_type": "markdown",
      "metadata": {
        "id": "sV402TTwkbWk"
      },
      "source": [
        "By 2030, activities that account for up to 30 percent of hours currently\n",
        "worked across the US economy could be automated. However, it is important\n",
        "to note that this does not necessarily mean that 30 percent of jobs will be\n",
        "eliminated. Automation is more likely to impact specific tasks within jobs\n",
        "rather than entire occupations. The effects of automation are expected to\n",
        "vary across different job categories, with office support, customer\n",
        "service, and food service employment being more susceptible to decline."
      ]
    },
    {
      "cell_type": "markdown",
      "metadata": {
        "id": "HxLTckgTkW1I"
      },
      "source": [
        "How will generative AI impact the importance of credentials relative to experience in hiring?"
      ]
    },
    {
      "cell_type": "markdown",
      "metadata": {
        "id": "PtaffhTKaZH6"
      },
      "source": [
        "The provided context does not directly address the impact of generative AI\n",
        "on the importance of credentials relative to experience in hiring.\n",
        "Therefore, it is not possible to determine how generative AI will\n",
        "specifically impact the importance of credentials compared to experience in the hiring process."
      ]
    },
    {
      "cell_type": "markdown",
      "metadata": {
        "id": "gMdc4eiikui1"
      },
      "source": [
        "### Analysis"
      ]
    },
    {
      "cell_type": "markdown",
      "metadata": {
        "id": "Bq-XA_50kz5J"
      },
      "source": [
        "Having a bigger chunk size and overlap makes the LLM perform better. It is intuitive that if you gave less information the answer will be poorer and the results are also shorter an less precise."
      ]
    },
    {
      "cell_type": "markdown",
      "metadata": {
        "id": "zoPn-qaOlnsR"
      },
      "source": [
        "## Part 2: Comparing OpenAI and Cohere Embeddings"
      ]
    },
    {
      "cell_type": "code",
      "execution_count": null,
      "metadata": {
        "colab": {
          "base_uri": "https://localhost:8080/"
        },
        "id": "wmlrJEwClWxg",
        "outputId": "14732300-f041-4541-9398-de6905887ed6"
      },
      "outputs": [
        {
          "output_type": "stream",
          "name": "stdout",
          "text": [
            "page_content='July 2023\\nAuthors\\nKweilin Ellingrud\\nSaurabh Sanghvi\\nGurneet Singh Dandona\\nAnu Madgavkar\\nMichael Chui\\nOlivia White\\nPaige Hasebe\\nEditor \\nLisa RenaudMcKinsey Center for Government \\nGenerative \\nAI and the \\nfuture of work \\nin America' metadata={'source': 'Generative AI-Future of work in America.pdf', 'page': 0}\n",
            "page_content='Cover illustration by Matt Murphy' metadata={'source': 'Generative AI-Future of work in America.pdf', 'page': 1}\n",
            "\n",
            "\n",
            "What share of the U.S. jobs will be affected by automation?\n",
            "The provided context does not explicitly state the share of U.S. jobs that\n",
            "will be affected by automation. However, it mentions that automation has\n",
            "the biggest impact among the factors considered in the research. The\n",
            "research incorporates data from the Bureau of Labor Statistics (BLS) and\n",
            "O*NET to assess the potential for automation in about 2,100 constituent\n",
            "activities across 850 occupations. It also mentions estimating occupational\n",
            "transitions and job losses due to various factors, including automation. To\n",
            "determine the exact share of U.S. jobs affected by automation, further\n",
            "information or specific data from the research would be required.\n",
            "\n",
            "\n",
            "How will generative AI impact the importance of credentials relative to experience in hiring?\n",
            "Generative AI is expected to impact the importance of credentials relative\n",
            "to experience in hiring. As the technology advances, employers may shift\n",
            "their focus from traditional credentials, such as degrees and\n",
            "certifications, towards evaluating candidates based on their capacity to\n",
            "learn, intrinsic capabilities, and transferable skills. This means that\n",
            "employers may prioritize candidates who demonstrate the ability to adapt\n",
            "and learn new skills, rather than solely relying on formal qualifications.\n",
            "Additionally, generative AI can help identify individuals who have taken\n",
            "unconventional career paths but possess the necessary skills and potential\n",
            "for success. Overall, the impact of generative AI on hiring practices\n",
            "suggests a potential shift towards a more skills-based and adaptable\n",
            "workforce.\n"
          ]
        }
      ],
      "source": [
        "import os\n",
        "import key\n",
        "import openai\n",
        "import textwrap\n",
        "\n",
        "#Libraries for Document Loaders\n",
        "from langchain.document_loaders import PyPDFLoader\n",
        "\n",
        "#Libraries for Document Splitting, embeddings and vector stores\n",
        "from langchain.text_splitter import RecursiveCharacterTextSplitter\n",
        "from langchain.embeddings.openai import OpenAIEmbeddings\n",
        "from langchain.vectorstores import Chroma\n",
        "\n",
        "#Chain for Q&A after retrieving external documents\n",
        "from langchain.chains import RetrievalQA\n",
        "\n",
        "#Using ChatOpenAI\n",
        "from langchain.chat_models import ChatOpenAI            #used for GPT3.5/4 model\n",
        "os.environ[\"OPENAI_API_KEY\"] = key.OPENAI_API_KEY\n",
        "\n",
        "# Loading documents (A scholarly paper)\n",
        "loader = PyPDFLoader(\"Generative AI-Future of work in America.pdf\")\n",
        "documents = loader.load()\n",
        "#print(documents)          # print to ensure document loaded correctly--comment out after checking\n",
        "#print('\\n')\n",
        "\n",
        "#Splitting Documents into Chunks for embeddings and the store them in vector stores\n",
        "# chunksize and chunkoverlap are key parameters to ensure that things work\n",
        "\n",
        "# text_splitter = RecursiveCharacterTextSplitter(chunk_size=20, chunk_overlap=5)\n",
        "# text_splitter = RecursiveCharacterTextSplitter(chunk_size=100, chunk_overlap=25)\n",
        "text_splitter = RecursiveCharacterTextSplitter(chunk_size=2000, chunk_overlap=500)\n",
        "# text_splitter = RecursiveCharacterTextSplitter(chunk_size=10000, chunk_overlap=2500)\n",
        "chunks = text_splitter.split_documents(documents)\n",
        "\n",
        "# to see the chunks\n",
        "print(chunks[0])\n",
        "print(chunks[1])\n",
        "print(\"\\n\")\n",
        "\n",
        "#Store the chunks as embeddings within a vector store\n",
        "\n",
        "from chromadb.utils import embedding_functions\n",
        "from langchain.embeddings import CohereEmbeddings\n",
        "######\n",
        "\n",
        "# Import the COHERE API key from key.py\n",
        "from key import COHERE_API_KEY\n",
        "os.environ[\"COHERE_API_KEY\"] = COHERE_API_KEY\n",
        "#embeddings = OpenAIEmbeddings()\n",
        "\n",
        "embeddings = CohereEmbeddings( model=\"embed-english-v3.0\", cohere_api_key=COHERE_API_KEY) # https://api.python.langchain.com/en/latest/embeddings/langchain.embeddings.cohere.CohereEmbeddings.html\n",
        "######\n",
        "\n",
        "################## I have found a way to prevent the dimensionality error ##################\n",
        "from chromadb.errors import InvalidDimensionException\n",
        "try:\n",
        "    vector_store = Chroma.from_documents(chunks, embeddings)\n",
        "except InvalidDimensionException:\n",
        "    Chroma().delete_collection()\n",
        "    vector_store = Chroma.from_documents(chunks, embeddings)\n",
        "############################################################################################\n",
        "\n",
        "# initialize OpenAI instance and set up a chain for Q&A from an LLM and a vector score\n",
        "llm = ChatOpenAI(model='gpt-3.5-turbo', temperature=0)\n",
        "retriever=vector_store.as_retriever()\n",
        "chain = RetrievalQA.from_chain_type(llm, retriever=retriever)\n",
        "\n",
        "\n",
        "# Run chain with question\n",
        "question = \"What share of the U.S. jobs will be affected by automation?\"\n",
        "response = chain.run(question)\n",
        "print(question)\n",
        "print(textwrap.fill(response,75))\n",
        "print('\\n')\n",
        "question = \"How will generative AI impact the importance of credentials relative to experience in hiring?\"\n",
        "response = chain.run(question)\n",
        "print(question)\n",
        "print(textwrap.fill(response,75))"
      ]
    },
    {
      "cell_type": "markdown",
      "metadata": {
        "id": "3jC3Kv95gJOw"
      },
      "source": [
        "What share of the U.S. jobs will be affected by automation?"
      ]
    },
    {
      "cell_type": "markdown",
      "source": [
        "The provided context does not explicitly state the share of U.S. jobs that\n",
        "will be affected by automation. However, it mentions that automation has\n",
        "the biggest impact among the factors considered in the research. The\n",
        "research incorporates data from the Bureau of Labor Statistics (BLS) and\n",
        "O*NET to assess the potential for automation in about 2,100 constituent\n",
        "activities across 850 occupations. It also considers the feasibility of\n",
        "automation adoption and deployment. The analysis estimates occupational\n",
        "transitions and job losses but does not provide a specific share of jobs\n",
        "affected by automation.\n"
      ],
      "metadata": {
        "id": "9NWbRO4-z1i1"
      }
    },
    {
      "cell_type": "markdown",
      "source": [
        "How will generative AI impact the importance of credentials relative to experience in hiring?"
      ],
      "metadata": {
        "id": "h2XS2aZqz3g7"
      }
    },
    {
      "cell_type": "markdown",
      "source": [
        "Generative AI is expected to impact the importance of credentials relative\n",
        "to experience in hiring. As the technology advances, employers may shift\n",
        "their focus from traditional credentials, such as degrees and\n",
        "certifications, towards evaluating candidates based on their capacity to\n",
        "learn, intrinsic capabilities, and transferable skills. This means that\n",
        "employers may prioritize candidates who demonstrate the ability to adapt\n",
        "and learn new skills, rather than solely relying on formal qualifications.\n",
        "Additionally, generative AI can help identify individuals who have taken\n",
        "unconventional career paths but possess the necessary skills and potential\n",
        "for success. Overall, the impact of generative AI on hiring practices\n",
        "suggests a potential shift towards a more skills-based and adaptable\n",
        "workforce."
      ],
      "metadata": {
        "id": "LQKPjroWz5do"
      }
    },
    {
      "cell_type": "markdown",
      "source": [
        "#### Analysis"
      ],
      "metadata": {
        "id": "166xTcOvz_ST"
      }
    },
    {
      "cell_type": "markdown",
      "source": [
        "Looks like the result with Coherence is considerable worse than using OpenAI Embeddings. The first question was not even answered, and the second looks similar but there are parts with awkward redaction."
      ],
      "metadata": {
        "id": "mMnnk4Vi0AuQ"
      }
    },
    {
      "cell_type": "markdown",
      "metadata": {
        "id": "JyyEWAy-RK8y"
      },
      "source": [
        "# Question 2"
      ]
    },
    {
      "cell_type": "markdown",
      "metadata": {
        "id": "k5paK1rwG984"
      },
      "source": [
        "Q1: Who reached the peak of Mount Everest first? \\\n",
        "Q2: When was that? \\\n",
        "Q3: What is the typical pace of a climber trying to scale the peak in feet per hour? \\\n",
        "Q4: If one could hold that steady space, how long would it take to scale the peak?"
      ]
    },
    {
      "cell_type": "markdown",
      "metadata": {
        "id": "yGc8MFLARNTE"
      },
      "source": [
        "## Part 1"
      ]
    },
    {
      "cell_type": "markdown",
      "metadata": {
        "id": "TkYU5riD9tc8"
      },
      "source": [
        "### a. Which type of Agent in LangChain would you need? Explain briefly"
      ]
    },
    {
      "cell_type": "markdown",
      "metadata": {
        "id": "FRDUFprnBR9f"
      },
      "source": [
        "If you want to do something siple, we would need ConversationalRetrievalChain alongside with a memory, which can be ConversationBufferMemory(),ConversationBufferWindowMemory(k=n), or ConversationTokenBufferMemory(llm=llm, max_token_limit=n)."
      ]
    },
    {
      "cell_type": "markdown",
      "metadata": {
        "id": "K5djM8coFJdj"
      },
      "source": [
        "However, the result might be unaccurate as the information might not be in the LLMs and we might need to access to external data."
      ]
    },
    {
      "cell_type": "markdown",
      "metadata": {
        "id": "wElOTJ7tFboj"
      },
      "source": [
        "I this case, I would suggest using ReAct framework, and access to Wikipedia. I would use a conversational Agent with zero shots- ZERO_SHOTS_REACT_DESCRIPTION"
      ]
    },
    {
      "cell_type": "markdown",
      "metadata": {
        "id": "lZ0hdwRO9xsd"
      },
      "source": [
        "### b. What tools would you need? Explain briefly in 1-2 sentences for each tool."
      ]
    },
    {
      "cell_type": "markdown",
      "metadata": {
        "id": "WI1V10XYGeMV"
      },
      "source": [
        "A piori I would say that 'Wikipedia' tool can give as a nice output but only for Q1 and Q2. As LLMs are not equipped to do math, for Q3 I might need Google 'wolfram-alpha' just to ask for the typical pace of a climber, and for Q4 we would need an additional Tool to do calculations 'llm-math' \\\n",
        "\n",
        "'Wikipedia' tool allows us to search for information in real time in the website of Wikipedia. This is a great way to coplement the information that the LLMs have in their training data, as that data is limited and can be outdated. This will help us to get the answers for Q1 (who) and Q2 (when), and partially Q3 (peak). \\\n",
        "\n",
        "\n",
        "'llm-math' tool allows us to so come calculations needed. The LLMs cannot do calculations, so rely in this kind of tools that basically transform the NLP to Python code (or other language), create a snippet to solve the problem, solve the problem, and give us the output in an NLP way. In this case we will use it for Q4 (how long) \\\n",
        "\n",
        "In addition to that, it would be preferable to find some information for Q3 (pace) using SerpApi to connect to Google Search, or directly google-search."
      ]
    },
    {
      "cell_type": "markdown",
      "metadata": {
        "id": "ilmN0sCB92-D"
      },
      "source": [
        "### c. What type of memory would you use by default?"
      ]
    },
    {
      "cell_type": "markdown",
      "metadata": {
        "id": "QUHhK_C8Kjvu"
      },
      "source": [
        "Answers to Questions Q2, Q3 and Q4 depends on the answers of the previous ones, so for a accurate answer we would at least need ConversationBufferWindowMemory(k=4). In order to have the best possible result I would use ConversationTokenBufferMemory(llm=llm, max_token_limit=n) with a max_token_limit set to prevent us to spend too much tokens (i.e. money) during the process."
      ]
    },
    {
      "cell_type": "markdown",
      "metadata": {
        "id": "Es0kn0PN-Ih9"
      },
      "source": [
        "## Part 2"
      ]
    },
    {
      "cell_type": "markdown",
      "metadata": {
        "id": "Jqw1O38F-MvA"
      },
      "source": [
        "Write the code for this agent. Show the python code and the output of the conversation with\n",
        "each question."
      ]
    },
    {
      "cell_type": "code",
      "execution_count": null,
      "metadata": {
        "id": "JUU4vOS1Ue9F"
      },
      "outputs": [],
      "source": [
        "from langchain.agents import load_tools, AgentType, initialize_agent, tool\n",
        "from langchain.chat_models import ChatOpenAI\n",
        "from langchain.llms import OpenAI\n",
        "\n",
        "from langchain.chains import ConversationChain\n",
        "from langchain.memory import ConversationBufferMemory\n",
        "from langchain.memory import ConversationBufferWindowMemory\n",
        "from langchain.memory import ConversationTokenBufferMemory\n",
        "from langchain.memory import ConversationSummaryBufferMemory\n",
        "\n",
        "\n",
        "llm = ChatOpenAI(openai_api_key=OPENAI_API_KEY, temperature=0)\n",
        "\n",
        "tool_names =[\"google-search\", 'wikipedia', \"openweathermap-api\", \"llm-math\"] ## I did not use SerpAPI, I used google-seacrh directly :)\n",
        "tools = load_tools(tool_names, llm)\n",
        "\n",
        "memory = ConversationTokenBufferMemory(memory_key='chat_history', return_messages=True, llm=llm, max_token_limit=500)\n",
        "memory.save_context({\"input\": \"Give me a direct answer. Spartan mode. Without too much explanation\"}, {\"output\": \"ok\"}) ## I added this context to have a more direct answer\n",
        "memory.load_memory_variables({})\n",
        "\n",
        "agent = initialize_agent(\n",
        "    tools,\n",
        "    llm,\n",
        "    agent=AgentType.CHAT_CONVERSATIONAL_REACT_DESCRIPTION,\n",
        "    verbose=True,\n",
        "    memory=memory,\n",
        ")\n",
        "\n",
        "\n",
        "## https://github.com/serpapi/google-search-results-python"
      ]
    },
    {
      "cell_type": "markdown",
      "metadata": {
        "id": "XjvxwG41GBdb"
      },
      "source": [
        "Q1 run by Agent:"
      ]
    },
    {
      "cell_type": "code",
      "execution_count": null,
      "metadata": {
        "id": "qyhZi1qpGA9a",
        "colab": {
          "base_uri": "https://localhost:8080/"
        },
        "outputId": "93aead27-8c17-49d1-ffa5-d1bf79394a8f"
      },
      "outputs": [
        {
          "output_type": "stream",
          "name": "stdout",
          "text": [
            "\n",
            "\n",
            "\u001b[1m> Entering new AgentExecutor chain...\u001b[0m\n",
            "\u001b[32;1m\u001b[1;3m{\n",
            "    \"action\": \"Wikipedia\",\n",
            "    \"action_input\": \"First ascent of Mount Everest\"\n",
            "}\u001b[0m"
          ]
        },
        {
          "output_type": "stream",
          "name": "stderr",
          "text": [
            "/usr/local/lib/python3.10/dist-packages/wikipedia/wikipedia.py:389: GuessedAtParserWarning: No parser was explicitly specified, so I'm using the best available HTML parser for this system (\"lxml\"). This usually isn't a problem, but if you run this code on another system, or in a different virtual environment, it may use a different parser and behave differently.\n",
            "\n",
            "The code that caused this warning is on line 389 of the file /usr/local/lib/python3.10/dist-packages/wikipedia/wikipedia.py. To get rid of this warning, pass the additional argument 'features=\"lxml\"' to the BeautifulSoup constructor.\n",
            "\n",
            "  lis = BeautifulSoup(html).find_all('li')\n"
          ]
        },
        {
          "output_type": "stream",
          "name": "stdout",
          "text": [
            "\n",
            "Observation: \u001b[33;1m\u001b[1;3mPage: 1953 British Mount Everest expedition\n",
            "Summary: The 1953 British Mount Everest expedition was the ninth mountaineering expedition to attempt the first ascent of Mount Everest, and the first confirmed to have succeeded when Tenzing Norgay and Edmund Hillary reached the summit on 29 May 1953. Led by Colonel John Hunt, it was organised and financed by the Joint Himalayan Committee. News of the expedition's success reached London in time to be released on the morning of Queen Elizabeth II's coronation, on 2 June that year.\n",
            "\n",
            "Page: 1924 British Mount Everest expedition\n",
            "Summary: The 1924 British Mount Everest expedition was—after the 1922 British Mount Everest expedition—the 2nd expedition with the goal of achieving the first ascent of Mount Everest.: 1  After two summit attempts in which Edward Norton set a world altitude record of 8,572.8 metres (28,126 ft),: 11  the mountaineers George Mallory and Andrew \"Sandy\" Irvine disappeared on the third attempt. Their disappearance has given rise to the long-standing speculation of whether or not the pair might – under a narrow set of assumptions – have reached the summit.: 1  Mallory's body was found in 1999 at 8,156 metres (26,760 ft), but the resulting clues did not provide any conclusive evidence as to whether the summit was reached.\u001b[0m\n",
            "Thought:\u001b[32;1m\u001b[1;3m{\n",
            "    \"action\": \"Final Answer\",\n",
            "    \"action_input\": \"Tenzing Norgay and Edmund Hillary reached the peak of Mount Everest first in 1953.\"\n",
            "}\u001b[0m\n",
            "\n",
            "\u001b[1m> Finished chain.\u001b[0m\n",
            "Tenzing Norgay and Edmund Hillary reached the peak of Mount Everest first in 1953.\n"
          ]
        }
      ],
      "source": [
        "input_data = {\n",
        "    'chat_history': memory,\n",
        "    'input': 'Who reached the peak of Mount Everest first?'\n",
        "}\n",
        "print(agent.run(input_data))"
      ]
    },
    {
      "cell_type": "markdown",
      "metadata": {
        "id": "6PkD4nQ9GGpL"
      },
      "source": [
        "Q2 run by Agent"
      ]
    },
    {
      "cell_type": "code",
      "execution_count": null,
      "metadata": {
        "id": "NBmPbCMWv87n",
        "colab": {
          "base_uri": "https://localhost:8080/"
        },
        "outputId": "3cf26ec5-d2b5-4c15-937e-cbdafb9acabe"
      },
      "outputs": [
        {
          "output_type": "stream",
          "name": "stdout",
          "text": [
            "\n",
            "\n",
            "\u001b[1m> Entering new AgentExecutor chain...\u001b[0m\n",
            "\u001b[32;1m\u001b[1;3m{\n",
            "    \"action\": \"Final Answer\",\n",
            "    \"action_input\": \"1953\"\n",
            "}\u001b[0m\n",
            "\n",
            "\u001b[1m> Finished chain.\u001b[0m\n",
            "1953\n"
          ]
        }
      ],
      "source": [
        "input_data = {\n",
        "    'chat_history': memory,\n",
        "    'input': 'When was that?'\n",
        "}\n",
        "print(agent.run(input_data))"
      ]
    },
    {
      "cell_type": "markdown",
      "metadata": {
        "id": "DIWeuIn8GY1n"
      },
      "source": [
        "Q3 run by Agent"
      ]
    },
    {
      "cell_type": "code",
      "execution_count": null,
      "metadata": {
        "id": "zglxjTqcx2gX",
        "colab": {
          "base_uri": "https://localhost:8080/"
        },
        "outputId": "ae0f703b-d3b9-471f-842c-0df5cfd0b32e"
      },
      "outputs": [
        {
          "output_type": "stream",
          "name": "stdout",
          "text": [
            "\n",
            "\n",
            "\u001b[1m> Entering new AgentExecutor chain...\u001b[0m\n",
            "\u001b[32;1m\u001b[1;3m{\n",
            "    \"action\": \"Wikipedia\",\n",
            "    \"action_input\": \"Mount Everest\"\n",
            "}\u001b[0m\n",
            "Observation: \u001b[33;1m\u001b[1;3mPage: Mount Everest\n",
            "Summary: Mount Everest (Nepali: सगरमाथा, romanized: Sagarmāthā; Tibetan: Chomolungma ཇོ་མོ་གླང་མ; Chinese: 珠穆朗玛峰; pinyin: Zhūmùlǎngmǎ Fēng) is Earth's highest mountain above sea level, located in the Mahalangur Himal sub-range of the Himalayas. The China–Nepal border runs across its summit point. Its elevation (snow height) of 8,848.86 m (29,031 ft 8+1⁄2 in) was most recently established in 2020 by the Chinese and Nepali authorities.Mount Everest attracts many climbers, including highly experienced mountaineers. There are two main climbing routes, one approaching the summit from the southeast in Nepal (known as the \"standard route\") and the other from the north in Tibet. While not posing substantial technical climbing challenges on the standard route, Everest presents dangers such as altitude sickness, weather, and wind, as well as hazards from avalanches and the Khumbu Icefall. As of November 2022, 310 people have died on Everest. Over 200 bodies remain on the mountain and have not been removed due to the dangerous conditions.The first recorded efforts to reach Everest's summit were made by British mountaineers. As Nepal did not allow foreigners to enter the country at the time, the British made several attempts on the north ridge route from the Tibetan side. After the first reconnaissance expedition by the British in 1921 reached 7,000 m (22,970 ft) on the North Col, the 1922 expedition pushed the north ridge route up to 8,320 m (27,300 ft), marking the first time a human had climbed above 8,000 m (26,247 ft). The 1924 expedition resulted in one of the greatest mysteries on Everest to this day: George Mallory and Andrew Irvine made a final summit attempt on 8 June but never returned, sparking debate as to whether they were the first to reach the top. Tenzing Norgay and Edmund Hillary made the first documented ascent of Everest in 1953, using the southeast ridge route. Norgay had reached 8,595 m (28,199 ft) the previous year as a member of the 1952 Swiss expedition. The Chinese mountaineering team of Wang Fuzhou, Gonpo, and Qu Yinhua made the first reported ascent of the peak from the north ridge on 25 May 1960.\n",
            "\n",
            "Page: List of people who died climbing Mount Everest\n",
            "Summary: Over 330 people have died attempting to reach the summit of Mount Everest which, at 8,848.86 m (29,031 ft 8+1⁄2 in), is Earth's highest mountain and a particularly desirable peak for mountaineers. This makes it the mountain with the most deaths, although it does not have the highest death rate. The most recent years without known deaths on the mountain are 1977, in which only two people reached the summit, and 2020, when permits were suspended by Nepal because of the COVID-19 pandemic.Deaths have been attributed to avalanches, falls, serac collapse, exposure, frostbite, or health problems related to conditions on the mountain. Not all bodies have been located, so details on those deaths are not available.\n",
            "The upper reaches of the mountain are in the death zone, a mountaineering term for altitudes above a certain point – around 8,000 m (26,000 ft), or less than 356 millibars (5.16 psi) of atmospheric pressure – where the oxygen pressure level is not sufficient to sustain human life. Many deaths in high-altitude mountaineering have been caused by the effects of the death zone, either directly (loss of vital functions) or indirectly (unwise decisions made under stress or physical weakening leading to accidents). In the death zone, the human body cannot acclimatize, as it uses oxygen faster than it can be replenished. An extended stay in the zone without supplementary oxygen will result in deterioration of bodily functions, loss of consciousness, and death.\n",
            "\n",
            "Page: 1996 Mount Everest disaster\n",
            "Summary: The 1996 Mount Everest disaster occurred on 10–11 May 1996 when eight climbers caught in a blizzard died on Mount Everest while attempting to descend from the summit. Over the entire season, 12 people died trying to reach the summit, making it \u001b[0m\n",
            "Thought:\u001b[32;1m\u001b[1;3m{\n",
            "    \"action\": \"Wikipedia\",\n",
            "    \"action_input\": \"Climbing Mount Everest\"\n",
            "}\u001b[0m\n",
            "Observation: \u001b[33;1m\u001b[1;3mPage: List of people who died climbing Mount Everest\n",
            "Summary: Over 330 people have died attempting to reach the summit of Mount Everest which, at 8,848.86 m (29,031 ft 8+1⁄2 in), is Earth's highest mountain and a particularly desirable peak for mountaineers. This makes it the mountain with the most deaths, although it does not have the highest death rate. The most recent years without known deaths on the mountain are 1977, in which only two people reached the summit, and 2020, when permits were suspended by Nepal because of the COVID-19 pandemic.Deaths have been attributed to avalanches, falls, serac collapse, exposure, frostbite, or health problems related to conditions on the mountain. Not all bodies have been located, so details on those deaths are not available.\n",
            "The upper reaches of the mountain are in the death zone, a mountaineering term for altitudes above a certain point – around 8,000 m (26,000 ft), or less than 356 millibars (5.16 psi) of atmospheric pressure – where the oxygen pressure level is not sufficient to sustain human life. Many deaths in high-altitude mountaineering have been caused by the effects of the death zone, either directly (loss of vital functions) or indirectly (unwise decisions made under stress or physical weakening leading to accidents). In the death zone, the human body cannot acclimatize, as it uses oxygen faster than it can be replenished. An extended stay in the zone without supplementary oxygen will result in deterioration of bodily functions, loss of consciousness, and death.\n",
            "\n",
            "Page: Timeline of Mount Everest expeditions\n",
            "Summary: Mount Everest is the world's highest mountain, with a peak at 8,849 metres (29,031.7 ft) above sea level. It is situated in the Himalayan range of Solukhumbu district (Province 1 in present days), Nepal.\n",
            "\n",
            "Page: List of Indian summiters of Mount Everest\n",
            "Summary: The first successful attempts to summit Mount Everest by Indians were in 1960. The first Indians to reach the summit were a group led by Captain M.S. Kohli in 1965. 422 Indians made a total of 465 attempts between 1965 and 2018. These include 43 repeat attempts by 29 summiteers. There have been 81 attempts by 74 women and 7 repeat attempts by 4 female summiteers from India.\u001b[0m\n",
            "Thought:\u001b[32;1m\u001b[1;3m{\n",
            "    \"action\": \"Final Answer\",\n",
            "    \"action_input\": \"The typical pace of a climber trying to scale the peak of Mount Everest is highly variable and depends on various factors such as the climber's fitness level, acclimatization, weather conditions, and the specific route taken. However, on average, climbers aim to maintain a pace of around 100-200 feet per hour during the ascent.\"\n",
            "}\u001b[0m\n",
            "\n",
            "\u001b[1m> Finished chain.\u001b[0m\n",
            "The typical pace of a climber trying to scale the peak of Mount Everest is highly variable and depends on various factors such as the climber's fitness level, acclimatization, weather conditions, and the specific route taken. However, on average, climbers aim to maintain a pace of around 100-200 feet per hour during the ascent.\n"
          ]
        }
      ],
      "source": [
        "input_data = {\n",
        "    'chat_history': memory,\n",
        "    'input': 'What is the typical pace of a climber trying to scale the peak in feet per hour?'\n",
        "}\n",
        "print(agent.run(input_data))"
      ]
    },
    {
      "cell_type": "markdown",
      "metadata": {
        "id": "_q57seE2d6xW"
      },
      "source": [
        "Q4 run by Agent"
      ]
    },
    {
      "cell_type": "code",
      "execution_count": null,
      "metadata": {
        "id": "tLQTKzCid84i",
        "colab": {
          "base_uri": "https://localhost:8080/"
        },
        "outputId": "9b2eff4e-fb9c-4787-a8bd-db73a332f342"
      },
      "outputs": [
        {
          "output_type": "stream",
          "name": "stdout",
          "text": [
            "\n",
            "\n",
            "\u001b[1m> Entering new AgentExecutor chain...\u001b[0m\n",
            "\u001b[32;1m\u001b[1;3m{\n",
            "    \"action\": \"Final Answer\",\n",
            "    \"action_input\": \"Scaling the peak of Mount Everest typically takes several weeks, with climbers spending time acclimatizing at various camps along the way. The actual time it takes to reach the summit can vary depending on factors such as weather conditions, the climber's fitness level, and the specific route taken. On average, it can take anywhere from 7 to 10 days to reach the summit from the base camp.\"\n",
            "}\u001b[0m\n",
            "\n",
            "\u001b[1m> Finished chain.\u001b[0m\n",
            "Scaling the peak of Mount Everest typically takes several weeks, with climbers spending time acclimatizing at various camps along the way. The actual time it takes to reach the summit can vary depending on factors such as weather conditions, the climber's fitness level, and the specific route taken. On average, it can take anywhere from 7 to 10 days to reach the summit from the base camp.\n"
          ]
        }
      ],
      "source": [
        "input_data = {\n",
        "    'chat_history': memory,\n",
        "    'input': 'If one could hold that steady space, how long would it take to scale the peak?'\n",
        "}\n",
        "print(agent.run(input_data))"
      ]
    },
    {
      "cell_type": "markdown",
      "metadata": {
        "id": "oDuWiC-z-TIU"
      },
      "source": [
        "## Part 3"
      ]
    },
    {
      "cell_type": "markdown",
      "metadata": {
        "id": "2GEnGyo5-Uao"
      },
      "source": [
        "How would these results compare if you had tried to do the step by search yourself? Would your answer differ? What are the reasons for any difference you identify?"
      ]
    },
    {
      "cell_type": "markdown",
      "source": [
        "What I understood from this question is that the intention is to do the process without memory. I also changed the Agent to CHAT_ZERO_SHOT_REACT_DESCRIPTION. I also set a timeout=60  "
      ],
      "metadata": {
        "id": "umHKGBt42rGc"
      }
    },
    {
      "cell_type": "code",
      "source": [
        "from langchain.agents import load_tools, AgentType, initialize_agent, tool\n",
        "from langchain.chat_models import ChatOpenAI\n",
        "from langchain.llms import OpenAI\n",
        "\n",
        "from langchain.chains import ConversationChain\n",
        "\n",
        "llm = ChatOpenAI(openai_api_key=OPENAI_API_KEY, temperature=0)\n",
        "\n",
        "tool_names =[\"google-search\", 'wikipedia', \"openweathermap-api\", \"llm-math\"]\n",
        "tools = load_tools(tool_names, llm)\n",
        "\n",
        "agent = initialize_agent(\n",
        "    tools,\n",
        "    llm,\n",
        "    agent=AgentType.CHAT_ZERO_SHOT_REACT_DESCRIPTION,\n",
        "    handle_parsing_errors=True,\n",
        "    verbose=True,\n",
        "    timeout=60  # Set a timeout of 60 seconds\n",
        ")\n",
        "\n"
      ],
      "metadata": {
        "id": "udycTXmf2n6j"
      },
      "execution_count": null,
      "outputs": []
    },
    {
      "cell_type": "code",
      "source": [
        "print(agent.run(\"Who reached the peak of Mount Everest first?\"))"
      ],
      "metadata": {
        "colab": {
          "base_uri": "https://localhost:8080/"
        },
        "id": "MaZsV8yp4qUB",
        "outputId": "92c71f7e-56d9-4f22-c373-5fc07937ad80"
      },
      "execution_count": null,
      "outputs": [
        {
          "output_type": "stream",
          "name": "stdout",
          "text": [
            "\n",
            "\n",
            "\u001b[1m> Entering new AgentExecutor chain...\u001b[0m\n",
            "\u001b[32;1m\u001b[1;3mThought: I need to find out who reached the peak of Mount Everest first. I can use Wikipedia to search for this information.\n",
            "\n",
            "Action:\n",
            "```\n",
            "{\n",
            "  \"action\": \"Wikipedia\",\n",
            "  \"action_input\": \"First ascent of Mount Everest\"\n",
            "}\n",
            "```\u001b[0m"
          ]
        },
        {
          "output_type": "stream",
          "name": "stderr",
          "text": [
            "/usr/local/lib/python3.10/dist-packages/wikipedia/wikipedia.py:389: GuessedAtParserWarning: No parser was explicitly specified, so I'm using the best available HTML parser for this system (\"lxml\"). This usually isn't a problem, but if you run this code on another system, or in a different virtual environment, it may use a different parser and behave differently.\n",
            "\n",
            "The code that caused this warning is on line 389 of the file /usr/local/lib/python3.10/dist-packages/wikipedia/wikipedia.py. To get rid of this warning, pass the additional argument 'features=\"lxml\"' to the BeautifulSoup constructor.\n",
            "\n",
            "  lis = BeautifulSoup(html).find_all('li')\n"
          ]
        },
        {
          "output_type": "stream",
          "name": "stdout",
          "text": [
            "\n",
            "Observation: \u001b[33;1m\u001b[1;3mPage: 1953 British Mount Everest expedition\n",
            "Summary: The 1953 British Mount Everest expedition was the ninth mountaineering expedition to attempt the first ascent of Mount Everest, and the first confirmed to have succeeded when Tenzing Norgay and Edmund Hillary reached the summit on 29 May 1953. Led by Colonel John Hunt, it was organised and financed by the Joint Himalayan Committee. News of the expedition's success reached London in time to be released on the morning of Queen Elizabeth II's coronation, on 2 June that year.\n",
            "\n",
            "Page: 1924 British Mount Everest expedition\n",
            "Summary: The 1924 British Mount Everest expedition was—after the 1922 British Mount Everest expedition—the 2nd expedition with the goal of achieving the first ascent of Mount Everest.: 1  After two summit attempts in which Edward Norton set a world altitude record of 8,572.8 metres (28,126 ft),: 11  the mountaineers George Mallory and Andrew \"Sandy\" Irvine disappeared on the third attempt. Their disappearance has given rise to the long-standing speculation of whether or not the pair might – under a narrow set of assumptions – have reached the summit.: 1  Mallory's body was found in 1999 at 8,156 metres (26,760 ft), but the resulting clues did not provide any conclusive evidence as to whether the summit was reached.\u001b[0m\n",
            "Thought:\u001b[32;1m\u001b[1;3mBased on the information from Wikipedia, Tenzing Norgay and Edmund Hillary were the first to reach the peak of Mount Everest.\n",
            "\n",
            "Final Answer: Tenzing Norgay and Edmund Hillary reached the peak of Mount Everest first.\u001b[0m\n",
            "\n",
            "\u001b[1m> Finished chain.\u001b[0m\n",
            "Tenzing Norgay and Edmund Hillary reached the peak of Mount Everest first.\n"
          ]
        }
      ]
    },
    {
      "cell_type": "code",
      "source": [
        "print(agent.run(\"When was that?\"))"
      ],
      "metadata": {
        "colab": {
          "base_uri": "https://localhost:8080/"
        },
        "id": "zh0CnD234z1s",
        "outputId": "b508e05c-4c4d-40bc-8fd3-431fcbba4859"
      },
      "execution_count": null,
      "outputs": [
        {
          "output_type": "stream",
          "name": "stdout",
          "text": [
            "\n",
            "\n",
            "\u001b[1m> Entering new AgentExecutor chain...\u001b[0m\n",
            "\u001b[32;1m\u001b[1;3mCould not parse LLM output: I'm sorry, but I need more information to answer your question. What specifically are you referring to?\u001b[0m\n",
            "Observation: Invalid or incomplete response\n",
            "Thought:\u001b[32;1m\u001b[1;3mCould not parse LLM output: I need more information to answer the question. What specifically are you referring to?\u001b[0m\n",
            "Observation: Invalid or incomplete response\n",
            "Thought:\u001b[32;1m\u001b[1;3mCould not parse LLM output: I need more information to answer the question. What specifically are you referring to?\u001b[0m\n",
            "Observation: Invalid or incomplete response\n",
            "Thought:\u001b[32;1m\u001b[1;3mCould not parse LLM output: I need more information to answer the question. What specifically are you referring to?\u001b[0m\n",
            "Observation: Invalid or incomplete response\n",
            "Thought:\u001b[32;1m\u001b[1;3mCould not parse LLM output: I need more information to answer the question. What specifically are you referring to?\u001b[0m\n",
            "Observation: Invalid or incomplete response\n",
            "Thought:\u001b[32;1m\u001b[1;3mCould not parse LLM output: I need more information to answer the question. What specifically are you referring to?\u001b[0m\n",
            "Observation: Invalid or incomplete response\n",
            "Thought:\u001b[32;1m\u001b[1;3mCould not parse LLM output: I apologize for the confusion. Can you please provide more context or specify what you are referring to?\u001b[0m\n",
            "Observation: Invalid or incomplete response\n",
            "Thought:\u001b[32;1m\u001b[1;3mCould not parse LLM output: Could not parse LLM output: I apologize for the confusion. Can you please provide more context or specify what you are referring to?\u001b[0m\n",
            "Observation: Invalid or incomplete response\n",
            "Thought:\u001b[32;1m\u001b[1;3mCould not parse LLM output: Could not parse LLM output: I apologize for the confusion. Can you please provide more context or specify what you are referring to?\u001b[0m\n",
            "Observation: Invalid or incomplete response\n",
            "Thought:\u001b[32;1m\u001b[1;3mCould not parse LLM output: Could not parse LLM output: I apologize for the confusion. Can you please provide more context or specify what you are referring to?\u001b[0m\n",
            "Observation: Invalid or incomplete response\n",
            "Thought:\u001b[32;1m\u001b[1;3mCould not parse LLM output: Could not parse LLM output: I apologize for the confusion. Can you please provide more context or specify what you are referring to?\u001b[0m\n",
            "Observation: Invalid or incomplete response\n",
            "Thought:\u001b[32;1m\u001b[1;3mCould not parse LLM output: I apologize for the confusion. Can you please provide more context or specify what you are referring to?\u001b[0m\n",
            "Observation: Invalid or incomplete response\n",
            "Thought:\u001b[32;1m\u001b[1;3mCould not parse LLM output: I apologize for the confusion. Can you please provide more context or specify what you are referring to?\u001b[0m\n",
            "Observation: Invalid or incomplete response\n",
            "Thought:\u001b[32;1m\u001b[1;3mCould not parse LLM output: I apologize for the confusion. Can you please provide more context or specify what you are referring to?\u001b[0m\n",
            "Observation: Invalid or incomplete response\n",
            "Thought:\u001b[32;1m\u001b[1;3mCould not parse LLM output: I apologize for the confusion. Can you please provide more context or specify what you are referring to?\u001b[0m\n",
            "Observation: Invalid or incomplete response\n",
            "Thought:\u001b[32;1m\u001b[1;3m\u001b[0m\n",
            "\n",
            "\u001b[1m> Finished chain.\u001b[0m\n",
            "Agent stopped due to iteration limit or time limit.\n"
          ]
        }
      ]
    },
    {
      "cell_type": "code",
      "source": [
        "print(agent.run(\"What is the typical pace of a climber trying to scale the peak in feet per hour?\"))"
      ],
      "metadata": {
        "colab": {
          "base_uri": "https://localhost:8080/"
        },
        "id": "DEasOqcZ44NI",
        "outputId": "32a7de59-8fdf-42dc-d93c-952d110b3467"
      },
      "execution_count": null,
      "outputs": [
        {
          "output_type": "stream",
          "name": "stdout",
          "text": [
            "\n",
            "\n",
            "\u001b[1m> Entering new AgentExecutor chain...\u001b[0m\n",
            "\u001b[32;1m\u001b[1;3mCould not parse LLM output: Thought: I don't have the specific information about the typical pace of a climber trying to scale a peak. I should use the Wikipedia tool to search for information about climbing paces.\n",
            "\n",
            "Action:\n",
            "{\n",
            "  \"action\": \"Wikipedia\",\n",
            "  \"action_input\": \"climbing pace\"\n",
            "}\u001b[0m\n",
            "Observation: Invalid or incomplete response\n",
            "Thought:\u001b[32;1m\u001b[1;3mCould not parse LLM output: I don't have the specific information about the typical pace of a climber trying to scale a peak. I should use the Wikipedia tool to search for information about climbing paces.\n",
            "\n",
            "Action:\n",
            "{\n",
            "  \"action\": \"Wikipedia\",\n",
            "  \"action_input\": \"climbing pace\"\n",
            "}\u001b[0m\n",
            "Observation: Invalid or incomplete response\n",
            "Thought:\u001b[32;1m\u001b[1;3mCould not parse LLM output: I don't have the specific information about the typical pace of a climber trying to scale a peak. I should use the Wikipedia tool to search for information about climbing paces.\n",
            "\n",
            "Action:\n",
            "{\n",
            "  \"action\": \"Wikipedia\",\n",
            "  \"action_input\": \"climbing pace\"\n",
            "}\u001b[0m\n",
            "Observation: Invalid or incomplete response\n",
            "Thought:\u001b[32;1m\u001b[1;3mCould not parse LLM output: I don't have the specific information about the typical pace of a climber trying to scale a peak. I should use the Wikipedia tool to search for information about climbing paces.\n",
            "\n",
            "Action:\n",
            "{\n",
            "  \"action\": \"Wikipedia\",\n",
            "  \"action_input\": \"climbing pace\"\n",
            "}\u001b[0m\n",
            "Observation: Invalid or incomplete response\n",
            "Thought:\u001b[32;1m\u001b[1;3mCould not parse LLM output: Thought: I don't have the specific information about the typical pace of a climber trying to scale a peak. I should use the Wikipedia tool to search for information about climbing paces.\n",
            "\n",
            "Action:\n",
            "{\n",
            "  \"action\": \"Wikipedia\",\n",
            "  \"action_input\": \"climbing pace\"\n",
            "}\u001b[0m\n",
            "Observation: Invalid or incomplete response\n",
            "Thought:\u001b[32;1m\u001b[1;3mCould not parse LLM output: Thought: I have been unable to find the specific information about the typical pace of a climber trying to scale a peak using the Wikipedia tool. I should try using a different approach.\n",
            "\n",
            "Action:\n",
            "{\n",
            "  \"action\": \"google_search\",\n",
            "  \"action_input\": \"typical pace of a climber scaling a peak\"\n",
            "}\u001b[0m\n",
            "Observation: Invalid or incomplete response\n",
            "Thought:\u001b[32;1m\u001b[1;3mCould not parse LLM output: Thought: I have been unable to find the specific information about the typical pace of a climber trying to scale a peak using both the Wikipedia tool and a Google search. I should try using a different approach.\n",
            "\n",
            "Action:\n",
            "{\n",
            "  \"action\": \"google_search\",\n",
            "  \"action_input\": \"average climbing pace per hour\"\n",
            "}\u001b[0m\n",
            "Observation: Invalid or incomplete response\n",
            "Thought:\u001b[32;1m\u001b[1;3mCould not parse LLM output: Could not parse LLM output: Thought: I have been unable to find the specific information about the typical pace of a climber trying to scale a peak using both the Wikipedia tool and a Google search. I should try using a different approach.\n",
            "\n",
            "Action:\n",
            "{\n",
            "  \"action\": \"google_search\",\n",
            "  \"action_input\": \"average climbing pace per hour\"\n",
            "}\u001b[0m\n",
            "Observation: Invalid or incomplete response\n",
            "Thought:\u001b[32;1m\u001b[1;3mCould not parse LLM output: Thought: I have been unable to find the specific information about the typical pace of a climber trying to scale a peak using both the Wikipedia tool and a Google search. I should try using a different approach.\n",
            "\n",
            "Action:\n",
            "{\n",
            "  \"action\": \"google_search\",\n",
            "  \"action_input\": \"average climbing speed per hour\"\n",
            "}\u001b[0m\n",
            "Observation: Invalid or incomplete response\n",
            "Thought:\u001b[32;1m\u001b[1;3mCould not parse LLM output: Thought: I have been unable to find the specific information about the typical pace of a climber trying to scale a peak using both the Wikipedia tool and a Google search. I should try using a different approach.\n",
            "\n",
            "Action:\n",
            "{\n",
            "  \"action\": \"google_search\",\n",
            "  \"action_input\": \"average climbing pace per hour\"\n",
            "}\u001b[0m\n",
            "Observation: Invalid or incomplete response\n",
            "Thought:\u001b[32;1m\u001b[1;3mCould not parse LLM output: Thought: I have been unable to find the specific information about the typical pace of a climber trying to scale a peak using both the Wikipedia tool and a Google search. I should try using a different approach.\n",
            "\n",
            "Action:\n",
            "{\n",
            "  \"action\": \"google_search\",\n",
            "  \"action_input\": \"average climbing speed per hour\"\n",
            "}\u001b[0m\n",
            "Observation: Invalid or incomplete response\n",
            "Thought:\u001b[32;1m\u001b[1;3mCould not parse LLM output: Thought: I have been unable to find the specific information about the typical pace of a climber trying to scale a peak using both the Wikipedia tool and a Google search. I should try using a different approach.\n",
            "\n",
            "Action:\n",
            "{\n",
            "  \"action\": \"google_search\",\n",
            "  \"action_input\": \"average climbing pace per hour\"\n",
            "}\u001b[0m\n",
            "Observation: Invalid or incomplete response\n",
            "Thought:\u001b[32;1m\u001b[1;3mCould not parse LLM output: Thought: I have exhausted my options with the available tools and have been unable to find the specific information about the typical pace of a climber trying to scale a peak. Unfortunately, I do not have the answer to this question. I apologize for the inconvenience.\u001b[0m\n",
            "Observation: Invalid or incomplete response\n",
            "Thought:\u001b[32;1m\u001b[1;3mFinal Answer: I apologize, but I was unable to find the specific information about the typical pace of a climber trying to scale a peak.\u001b[0m\n",
            "\n",
            "\u001b[1m> Finished chain.\u001b[0m\n",
            "I apologize, but I was unable to find the specific information about the typical pace of a climber trying to scale a peak.\n"
          ]
        }
      ]
    },
    {
      "cell_type": "code",
      "source": [
        "print(agent.run(\"If one could hold that steady space, how long would it take to scale the peak?\"))"
      ],
      "metadata": {
        "colab": {
          "base_uri": "https://localhost:8080/"
        },
        "id": "mOXrr4iO4-Fd",
        "outputId": "06afba5a-21be-48a8-9859-bbab70c1fa6d"
      },
      "execution_count": null,
      "outputs": [
        {
          "output_type": "stream",
          "name": "stdout",
          "text": [
            "\n",
            "\n",
            "\u001b[1m> Entering new AgentExecutor chain...\u001b[0m\n",
            "\u001b[32;1m\u001b[1;3mThought: The question seems to be asking about the time it would take to reach the peak of a mountain or some other high point in space. However, it is not clear what \"steady space\" refers to. I will need to clarify this before proceeding.\n",
            "\n",
            "Action:\n",
            "```\n",
            "{\n",
            "  \"action\": \"Wikipedia\",\n",
            "  \"action_input\": \"steady space\"\n",
            "}\n",
            "```\u001b[0m\n",
            "Observation: \u001b[33;1m\u001b[1;3mPage: Steady-state model\n",
            "Summary: In cosmology, the steady-state model or steady state theory is an alternative to the Big Bang theory of evolution of the universe. In the steady-state model, the density of matter in the expanding universe remains unchanged due to a continuous creation of matter,  thus adhering to the perfect cosmological principle, a principle that says that the observable universe is always the same at any time and any place.\n",
            "From the 1940s to the 1960s, the astrophysical community was divided between supporters of the Big Bang theory and supporters of the steady-state theory. The steady-state model is now rejected by most cosmologists, astrophysicists, and astronomers. The observational evidence points to a hot Big Bang cosmology with a finite age of the universe, which the steady-state model does not predict.\n",
            "\n",
            "\n",
            "\n",
            "Page: Steady-state economy\n",
            "Summary: A steady-state economy is an economy made up of a constant stock of physical wealth (capital) and a constant population size. In effect, such an economy does not grow in the course of time.: 366–369  : 545  The term usually refers to the national economy of a particular country, but it is also applicable to the economic system of a city, a region, or the entire world. Early in the history of economic thought, classical economist Adam Smith of the 18th century developed the concept of a stationary state of an economy: Smith believed that any national economy in the world would sooner or later settle in a final state of stationarity.: 78 Since the 1970s, the concept of a steady-state economy has been associated mainly with the work of leading ecological economist Herman Daly.: 303  : 32f  : 85  As Daly's concept of a steady-state includes the ecological analysis of natural resource flows through the economy, his concept differs from the original classical concept of a stationary state. One other difference is that Daly recommends immediate political action to establish the steady-state economy by imposing permanent government restrictions on all resource use, whereas economists of the classical period believed that the final stationary state of any economy would evolve by itself without any government intervention.: 295f : 55f Critics of the steady-state economy usually object to it by arguing that resource decoupling, technological development, and the operation of market mechanisms are capable of overcoming resource scarcity, pollution, or population overshoot. Proponents of the steady-state economy, on the other hand, maintain that these objections remain insubstantial and mistaken — and that the need for a steady-state economy is becoming more compelling every day.: 148–155 A steady-state economy is not to be confused with economic stagnation: Whereas a steady-state economy is established as the result of deliberate political action, economic stagnation is the unexpected and unwelcome failure of a growth economy. An ideological contrast to the steady-state economy is formed by the concept of a post-scarcity economy.\n",
            "\n",
            "Page: Outer space\n",
            "Summary: Outer space, commonly referred to simply as space, is the expanse that exists beyond Earth and its atmosphere and between celestial bodies. Outer space is not completely empty; it is a near-perfect vacuum containing a low density of particles, predominantly a plasma of hydrogen and helium as well as electromagnetic radiation, magnetic fields, neutrinos, dust, and cosmic rays. The baseline temperature of outer space, as set by the background radiation from the Big Bang, is 2.7 kelvins (−270 °C; −455 °F).The plasma between galaxies is thought to account for about half of the baryonic (ordinary) matter in the universe, having a number density of less than one hydrogen atom per cubic metre and a kinetic temperature of millions of kelvins. Local concentrations of matter have condensed into stars and galaxies. Intergalactic space takes up most of the volume of the universe, but even galaxies and star systems consist almost enti\u001b[0m\n",
            "Thought:\u001b[32;1m\u001b[1;3mThe term \"steady space\" does not seem to have a specific meaning or definition. It could be referring to the concept of a steady-state model in cosmology, a steady-state economy, or simply outer space itself. Without further clarification, it is difficult to determine the exact meaning of \"steady space\" in the context of scaling a peak.\n",
            "\n",
            "However, if we assume that \"steady space\" refers to outer space, we can proceed with answering the question based on that assumption.\n",
            "\n",
            "Thought: Since the question mentions scaling a peak, it is likely referring to climbing a mountain or reaching a high point in space. To answer the question, we need to know the specific peak or high point in space that is being referred to.\n",
            "\n",
            "Action:\n",
            "```\n",
            "{\n",
            "  \"action\": \"Wikipedia\",\n",
            "  \"action_input\": \"peak in space\"\n",
            "}\n",
            "```\n",
            "\n",
            "\u001b[0m\n",
            "Observation: \u001b[33;1m\u001b[1;3mPage: Outer space\n",
            "Summary: Outer space, commonly referred to simply as space, is the expanse that exists beyond Earth and its atmosphere and between celestial bodies. Outer space is not completely empty; it is a near-perfect vacuum containing a low density of particles, predominantly a plasma of hydrogen and helium as well as electromagnetic radiation, magnetic fields, neutrinos, dust, and cosmic rays. The baseline temperature of outer space, as set by the background radiation from the Big Bang, is 2.7 kelvins (−270 °C; −455 °F).The plasma between galaxies is thought to account for about half of the baryonic (ordinary) matter in the universe, having a number density of less than one hydrogen atom per cubic metre and a kinetic temperature of millions of kelvins. Local concentrations of matter have condensed into stars and galaxies. Intergalactic space takes up most of the volume of the universe, but even galaxies and star systems consist almost entirely of empty space. Most of the remaining mass-energy in the observable universe is made up of an unknown form, dubbed dark matter and dark energy.Outer space does not begin at a definite altitude above Earth's surface. The Kármán line, an altitude of 100 km (62 mi) above sea level, is conventionally used as the start of outer space in space treaties and for aerospace records keeping. Certain portions of the upper stratosphere and the mesosphere are sometimes referred to as \"near space\". The framework for international space law was established by the Outer Space Treaty, which entered into force on 10 October 1967. This treaty precludes any claims of national sovereignty and permits all states to freely explore outer space. Despite the drafting of UN resolutions for the peaceful uses of outer space, anti-satellite weapons have been tested in Earth orbit.\n",
            "Humans began the physical exploration of space during the 20th century with the advent of high-altitude balloon flights. This was followed by crewed rocket flights and, then, crewed Earth orbit, first achieved by Yuri Gagarin of the Soviet Union in 1961. The economic cost of putting objects, including humans, into space is very high, limiting human spaceflight to low Earth orbit and the Moon. On the other hand, uncrewed spacecraft have reached all of the known planets in the Solar System. Outer space represents a challenging environment for human exploration because of the hazards of vacuum and radiation. Microgravity has a negative effect on human physiology that causes both muscle atrophy and bone loss.\n",
            "\n",
            "\n",
            "\n",
            "Page: Space Shuttle program\n",
            "Summary: The Space Shuttle program was the fourth human spaceflight program carried out by the U.S. National Aeronautics and Space Administration (NASA), which accomplished routine transportation for Earth-to-orbit crew and cargo from 1981 to 2011. Its official name, Space Transportation System (STS), was taken from a 1969 plan for a system of reusable spacecraft of which it was the only item funded for development. It flew 135 missions and carried 355 astronauts from 16 countries, many on multiple trips. \n",
            "The Space Shuttle, composed of an orbiter launched with two reusable solid rocket boosters and a disposable external fuel tank, carried up to eight astronauts and up to 50,000 lb (23,000 kg) of payload into low Earth orbit (LEO). When its mission was complete, the orbiter would reenter the Earth's atmosphere and land like a glider at either the Kennedy Space Center or Edwards Air Force Base.\n",
            "The Shuttle is the only winged crewed spacecraft to have achieved orbit and landing, and the first reusable crewed space vehicle that made multiple flights into orbit. Its missions involved carrying large payloads to various orbits including the International Space Station (ISS), providing crew rotation for the space station, and performing service missions on the Hubble Space Telescope. The orbiter also recovered satellites and other payloads (e.g., from the ISS) from orbit and returned them to Earth, though it\u001b[0m\n",
            "Thought:\u001b[32;1m\u001b[1;3mCould not parse LLM output: Based on the information from Wikipedia, \"steady space\" does not have a specific meaning or definition. It could refer to the concept of a steady-state model in cosmology, a steady-state economy, or simply outer space itself. Without further clarification, it is difficult to determine the exact meaning of \"steady space\" in the context of scaling a peak.\n",
            "\n",
            "However, if we assume that \"steady space\" refers to outer space, we can proceed with answering the question based on that assumption. Scaling a peak in outer space would require space travel and reaching a high point in space, such as a mountain on another celestial body.\n",
            "\n",
            "To answer the question accurately, we would need more specific information about the peak in question and the means of reaching it.\u001b[0m\n",
            "Observation: Invalid or incomplete response\n",
            "Thought:\u001b[32;1m\u001b[1;3mCould not parse LLM output: Based on the information gathered, it is still unclear what \"steady space\" refers to in the context of scaling a peak. Without further clarification, it is not possible to determine how long it would take to scale the peak.\u001b[0m\n",
            "Observation: Invalid or incomplete response\n",
            "Thought:\u001b[32;1m\u001b[1;3mBased on the information gathered, it is still unclear what \"steady space\" refers to in the context of scaling a peak. Without further clarification, it is not possible to determine how long it would take to scale the peak.\n",
            "\n",
            "Final Answer: It is not possible to determine the time it would take to scale the peak without more specific information.\u001b[0m\n",
            "\n",
            "\u001b[1m> Finished chain.\u001b[0m\n",
            "It is not possible to determine the time it would take to scale the peak without more specific information.\n"
          ]
        }
      ]
    },
    {
      "cell_type": "markdown",
      "source": [
        "Under this escenario, the answer to Question 1 is similar. It makes sense as the information could be easily retrieve from Google without any context. However, for answers to Question 2, 3, and 4, some context as the answer of the first question is mandatory to do a reasonable answer. In Q2 \"That\" refers to Mount Everest that was mentioned in Q1; in Q3 \"Peak\" refers to the same mountain. Finally, in Q4 \"Pace\" is the answer of Q3."
      ],
      "metadata": {
        "id": "o2gWWHDJ857I"
      }
    },
    {
      "cell_type": "markdown",
      "metadata": {
        "id": "n8cAh-Hp-XWi"
      },
      "source": [
        "## Part 4"
      ]
    },
    {
      "cell_type": "markdown",
      "metadata": {
        "id": "9xNVkrFP-ZJX"
      },
      "source": [
        "Show how the output would change if you used\n",
        "ConversationBufferWindowMemory(k=2) when designing the agent."
      ]
    },
    {
      "cell_type": "code",
      "source": [
        "from langchain.agents import load_tools, AgentType, initialize_agent, tool\n",
        "from langchain.chat_models import ChatOpenAI\n",
        "from langchain.llms import OpenAI\n",
        "\n",
        "from langchain.chains import ConversationChain\n",
        "from langchain.memory import ConversationBufferMemory\n",
        "from langchain.memory import ConversationBufferWindowMemory\n",
        "from langchain.memory import ConversationTokenBufferMemory\n",
        "from langchain.memory import ConversationSummaryBufferMemory\n",
        "\n",
        "\n",
        "llm = ChatOpenAI(openai_api_key=OPENAI_API_KEY, temperature=0)\n",
        "\n",
        "tool_names =[\"google-search\", 'wikipedia', \"openweathermap-api\", \"llm-math\"]\n",
        "tools = load_tools(tool_names, llm)\n",
        "\n",
        "memory = ConversationBufferWindowMemory(memory_key='chat_history', return_messages=True, llm=llm, k=2)\n",
        "memory.save_context({\"input\": \"Give me a direct answer. Spartan mode. Without too much explanation\"}, {\"output\": \"ok\"}) ## I added this context to have a more direct answer\n",
        "memory.load_memory_variables({})\n",
        "\n",
        "agent = initialize_agent(\n",
        "    tools,\n",
        "    llm,\n",
        "    agent=AgentType.CHAT_CONVERSATIONAL_REACT_DESCRIPTION,\n",
        "    verbose=True,\n",
        "    memory=memory,\n",
        "    handle_parsing_errors=True,\n",
        "    timeout=60  # Set a timeout of 60 seconds\n",
        ")\n",
        "\n",
        "\n",
        "## https://github.com/serpapi/google-search-results-python"
      ],
      "metadata": {
        "id": "VxAGkSPo-Ce5"
      },
      "execution_count": null,
      "outputs": []
    },
    {
      "cell_type": "code",
      "source": [
        "print(agent.run(\"Who reached the peak of Mount Everest first?\"))"
      ],
      "metadata": {
        "colab": {
          "base_uri": "https://localhost:8080/"
        },
        "id": "gyKSLQA3-Kwp",
        "outputId": "21f6cbea-faa1-463c-87f1-e856a8fba8a6"
      },
      "execution_count": null,
      "outputs": [
        {
          "output_type": "stream",
          "name": "stdout",
          "text": [
            "\n",
            "\n",
            "\u001b[1m> Entering new AgentExecutor chain...\u001b[0m\n",
            "\u001b[32;1m\u001b[1;3m{\n",
            "    \"action\": \"Wikipedia\",\n",
            "    \"action_input\": \"First ascent of Mount Everest\"\n",
            "}\u001b[0m"
          ]
        },
        {
          "output_type": "stream",
          "name": "stderr",
          "text": [
            "/usr/local/lib/python3.10/dist-packages/wikipedia/wikipedia.py:389: GuessedAtParserWarning: No parser was explicitly specified, so I'm using the best available HTML parser for this system (\"lxml\"). This usually isn't a problem, but if you run this code on another system, or in a different virtual environment, it may use a different parser and behave differently.\n",
            "\n",
            "The code that caused this warning is on line 389 of the file /usr/local/lib/python3.10/dist-packages/wikipedia/wikipedia.py. To get rid of this warning, pass the additional argument 'features=\"lxml\"' to the BeautifulSoup constructor.\n",
            "\n",
            "  lis = BeautifulSoup(html).find_all('li')\n"
          ]
        },
        {
          "output_type": "stream",
          "name": "stdout",
          "text": [
            "\n",
            "Observation: \u001b[33;1m\u001b[1;3mPage: 1953 British Mount Everest expedition\n",
            "Summary: The 1953 British Mount Everest expedition was the ninth mountaineering expedition to attempt the first ascent of Mount Everest, and the first confirmed to have succeeded when Tenzing Norgay and Edmund Hillary reached the summit on 29 May 1953. Led by Colonel John Hunt, it was organised and financed by the Joint Himalayan Committee. News of the expedition's success reached London in time to be released on the morning of Queen Elizabeth II's coronation, on 2 June that year.\n",
            "\n",
            "Page: 1924 British Mount Everest expedition\n",
            "Summary: The 1924 British Mount Everest expedition was—after the 1922 British Mount Everest expedition—the 2nd expedition with the goal of achieving the first ascent of Mount Everest.: 1  After two summit attempts in which Edward Norton set a world altitude record of 8,572.8 metres (28,126 ft),: 11  the mountaineers George Mallory and Andrew \"Sandy\" Irvine disappeared on the third attempt. Their disappearance has given rise to the long-standing speculation of whether or not the pair might – under a narrow set of assumptions – have reached the summit.: 1  Mallory's body was found in 1999 at 8,156 metres (26,760 ft), but the resulting clues did not provide any conclusive evidence as to whether the summit was reached.\u001b[0m\n",
            "Thought:\u001b[32;1m\u001b[1;3m{\n",
            "    \"action\": \"Final Answer\",\n",
            "    \"action_input\": \"Tenzing Norgay and Edmund Hillary reached the peak of Mount Everest first in 1953.\"\n",
            "}\u001b[0m\n",
            "\n",
            "\u001b[1m> Finished chain.\u001b[0m\n",
            "Tenzing Norgay and Edmund Hillary reached the peak of Mount Everest first in 1953.\n"
          ]
        }
      ]
    },
    {
      "cell_type": "code",
      "source": [
        "print(agent.run(\"When was that?\"))"
      ],
      "metadata": {
        "colab": {
          "base_uri": "https://localhost:8080/"
        },
        "id": "9_sr4w8I-Ncf",
        "outputId": "01398ae8-a735-44b5-c64a-976aa1611e45"
      },
      "execution_count": null,
      "outputs": [
        {
          "output_type": "stream",
          "name": "stdout",
          "text": [
            "\n",
            "\n",
            "\u001b[1m> Entering new AgentExecutor chain...\u001b[0m\n",
            "\u001b[32;1m\u001b[1;3m{\n",
            "    \"action\": \"Final Answer\",\n",
            "    \"action_input\": \"1953\"\n",
            "}\u001b[0m\n",
            "\n",
            "\u001b[1m> Finished chain.\u001b[0m\n",
            "1953\n"
          ]
        }
      ]
    },
    {
      "cell_type": "code",
      "source": [
        "print(agent.run(\"What is the typical pace of a climber trying to scale the peak in feet per hour?\"))"
      ],
      "metadata": {
        "colab": {
          "base_uri": "https://localhost:8080/"
        },
        "id": "Fj8sO1xo-QCq",
        "outputId": "b667b4a8-edcd-4616-a47f-84746fdc5c27"
      },
      "execution_count": null,
      "outputs": [
        {
          "output_type": "stream",
          "name": "stdout",
          "text": [
            "\n",
            "\n",
            "\u001b[1m> Entering new AgentExecutor chain...\u001b[0m\n",
            "\u001b[32;1m\u001b[1;3m{\n",
            "    \"action\": \"Wikipedia\",\n",
            "    \"action_input\": \"Mount Everest\"\n",
            "}\u001b[0m\n",
            "Observation: \u001b[33;1m\u001b[1;3mPage: Mount Everest\n",
            "Summary: Mount Everest (Nepali: सगरमाथा, romanized: Sagarmāthā; Tibetan: Chomolungma ཇོ་མོ་གླང་མ; Chinese: 珠穆朗玛峰; pinyin: Zhūmùlǎngmǎ Fēng) is Earth's highest mountain above sea level, located in the Mahalangur Himal sub-range of the Himalayas. The China–Nepal border runs across its summit point. Its elevation (snow height) of 8,848.86 m (29,031 ft 8+1⁄2 in) was most recently established in 2020 by the Chinese and Nepali authorities.Mount Everest attracts many climbers, including highly experienced mountaineers. There are two main climbing routes, one approaching the summit from the southeast in Nepal (known as the \"standard route\") and the other from the north in Tibet. While not posing substantial technical climbing challenges on the standard route, Everest presents dangers such as altitude sickness, weather, and wind, as well as hazards from avalanches and the Khumbu Icefall. As of November 2022, 310 people have died on Everest. Over 200 bodies remain on the mountain and have not been removed due to the dangerous conditions.The first recorded efforts to reach Everest's summit were made by British mountaineers. As Nepal did not allow foreigners to enter the country at the time, the British made several attempts on the north ridge route from the Tibetan side. After the first reconnaissance expedition by the British in 1921 reached 7,000 m (22,970 ft) on the North Col, the 1922 expedition pushed the north ridge route up to 8,320 m (27,300 ft), marking the first time a human had climbed above 8,000 m (26,247 ft). The 1924 expedition resulted in one of the greatest mysteries on Everest to this day: George Mallory and Andrew Irvine made a final summit attempt on 8 June but never returned, sparking debate as to whether they were the first to reach the top. Tenzing Norgay and Edmund Hillary made the first documented ascent of Everest in 1953, using the southeast ridge route. Norgay had reached 8,595 m (28,199 ft) the previous year as a member of the 1952 Swiss expedition. The Chinese mountaineering team of Wang Fuzhou, Gonpo, and Qu Yinhua made the first reported ascent of the peak from the north ridge on 25 May 1960.\n",
            "\n",
            "Page: List of people who died climbing Mount Everest\n",
            "Summary: Over 330 people have died attempting to reach the summit of Mount Everest which, at 8,848.86 m (29,031 ft 8+1⁄2 in), is Earth's highest mountain and a particularly desirable peak for mountaineers. This makes it the mountain with the most deaths, although it does not have the highest death rate. The most recent years without known deaths on the mountain are 1977, in which only two people reached the summit, and 2020, when permits were suspended by Nepal because of the COVID-19 pandemic.Deaths have been attributed to avalanches, falls, serac collapse, exposure, frostbite, or health problems related to conditions on the mountain. Not all bodies have been located, so details on those deaths are not available.\n",
            "The upper reaches of the mountain are in the death zone, a mountaineering term for altitudes above a certain point – around 8,000 m (26,000 ft), or less than 356 millibars (5.16 psi) of atmospheric pressure – where the oxygen pressure level is not sufficient to sustain human life. Many deaths in high-altitude mountaineering have been caused by the effects of the death zone, either directly (loss of vital functions) or indirectly (unwise decisions made under stress or physical weakening leading to accidents). In the death zone, the human body cannot acclimatize, as it uses oxygen faster than it can be replenished. An extended stay in the zone without supplementary oxygen will result in deterioration of bodily functions, loss of consciousness, and death.\n",
            "\n",
            "Page: 1996 Mount Everest disaster\n",
            "Summary: The 1996 Mount Everest disaster occurred on 10–11 May 1996 when eight climbers caught in a blizzard died on Mount Everest while attempting to descend from the summit. Over the entire season, 12 people died trying to reach the summit, making it \u001b[0m\n",
            "Thought:\u001b[32;1m\u001b[1;3m{\n",
            "    \"action\": \"Wikipedia\",\n",
            "    \"action_input\": \"Climbing Mount Everest\"\n",
            "}\u001b[0m\n",
            "Observation: \u001b[33;1m\u001b[1;3mPage: List of people who died climbing Mount Everest\n",
            "Summary: Over 330 people have died attempting to reach the summit of Mount Everest which, at 8,848.86 m (29,031 ft 8+1⁄2 in), is Earth's highest mountain and a particularly desirable peak for mountaineers. This makes it the mountain with the most deaths, although it does not have the highest death rate. The most recent years without known deaths on the mountain are 1977, in which only two people reached the summit, and 2020, when permits were suspended by Nepal because of the COVID-19 pandemic.Deaths have been attributed to avalanches, falls, serac collapse, exposure, frostbite, or health problems related to conditions on the mountain. Not all bodies have been located, so details on those deaths are not available.\n",
            "The upper reaches of the mountain are in the death zone, a mountaineering term for altitudes above a certain point – around 8,000 m (26,000 ft), or less than 356 millibars (5.16 psi) of atmospheric pressure – where the oxygen pressure level is not sufficient to sustain human life. Many deaths in high-altitude mountaineering have been caused by the effects of the death zone, either directly (loss of vital functions) or indirectly (unwise decisions made under stress or physical weakening leading to accidents). In the death zone, the human body cannot acclimatize, as it uses oxygen faster than it can be replenished. An extended stay in the zone without supplementary oxygen will result in deterioration of bodily functions, loss of consciousness, and death.\n",
            "\n",
            "Page: Timeline of Mount Everest expeditions\n",
            "Summary: Mount Everest is the world's highest mountain, with a peak at 8,849 metres (29,031.7 ft) above sea level. It is situated in the Himalayan range of Solukhumbu district (Province 1 in present days), Nepal.\n",
            "\n",
            "Page: List of Indian summiters of Mount Everest\n",
            "Summary: The first successful attempts to summit Mount Everest by Indians were in 1960. The first Indians to reach the summit were a group led by Captain M.S. Kohli in 1965. 422 Indians made a total of 465 attempts between 1965 and 2018. These include 43 repeat attempts by 29 summiteers. There have been 81 attempts by 74 women and 7 repeat attempts by 4 female summiteers from India.\u001b[0m\n",
            "Thought:\u001b[32;1m\u001b[1;3m{\n",
            "    \"action\": \"Final Answer\",\n",
            "    \"action_input\": \"The typical pace of a climber trying to scale the peak of Mount Everest is highly variable and depends on various factors such as the climber's fitness level, acclimatization, weather conditions, and the specific route taken. However, a rough estimate is that climbers typically ascend at a pace of around 1,000 to 1,500 feet per hour during the final push to the summit.\"\n",
            "}\u001b[0m\n",
            "\n",
            "\u001b[1m> Finished chain.\u001b[0m\n",
            "The typical pace of a climber trying to scale the peak of Mount Everest is highly variable and depends on various factors such as the climber's fitness level, acclimatization, weather conditions, and the specific route taken. However, a rough estimate is that climbers typically ascend at a pace of around 1,000 to 1,500 feet per hour during the final push to the summit.\n"
          ]
        }
      ]
    },
    {
      "cell_type": "code",
      "source": [
        "print(agent.run(\"If one could hold that steady space, how long would it take to scale the peak?\"))"
      ],
      "metadata": {
        "colab": {
          "base_uri": "https://localhost:8080/"
        },
        "id": "efOgk4El-VyY",
        "outputId": "7145ea32-9564-45b3-cf16-0b46476ae110"
      },
      "execution_count": null,
      "outputs": [
        {
          "output_type": "stream",
          "name": "stdout",
          "text": [
            "\n",
            "\n",
            "\u001b[1m> Entering new AgentExecutor chain...\u001b[0m\n",
            "\u001b[32;1m\u001b[1;3mCould not parse LLM output: {\n",
            "    \"action\": \"Final Answer\",\n",
            "    \"action_input\": \"To determine how long it would take to scale the peak, we would need more information such as the specific peak being referred to and the climbing route. Additionally, factors such as the climber's experience, fitness level, and weather conditions would also play a significant role in determining the time required. Scaling a peak can take anywhere from a few hours to several days or even weeks, depending on these factors.\u001b[0m\n",
            "Observation: Invalid or incomplete response\n",
            "Thought:\u001b[32;1m\u001b[1;3m{\n",
            "    \"action\": \"Final Answer\",\n",
            "    \"action_input\": \"To determine how long it would take to scale the peak, we would need more information such as the specific peak being referred to and the climbing route. Additionally, factors such as the climber's experience, fitness level, and weather conditions would also play a significant role in determining the time required. Scaling a peak can take anywhere from a few hours to several days or even weeks, depending on these factors.\"\n",
            "}\u001b[0m\n",
            "\n",
            "\u001b[1m> Finished chain.\u001b[0m\n",
            "To determine how long it would take to scale the peak, we would need more information such as the specific peak being referred to and the climbing route. Additionally, factors such as the climber's experience, fitness level, and weather conditions would also play a significant role in determining the time required. Scaling a peak can take anywhere from a few hours to several days or even weeks, depending on these factors.\n"
          ]
        }
      ]
    },
    {
      "cell_type": "markdown",
      "source": [
        "Q1 do not need context, and Q2 and Q3 had a good answer as they have context from the previous 2. However, Q4 lost context from Q1 (as k=2) then the answer was incorrect."
      ],
      "metadata": {
        "id": "vJNJKID6AM-5"
      }
    },
    {
      "cell_type": "markdown",
      "metadata": {
        "id": "0nMCASC7-yh5"
      },
      "source": [
        "## Part 5"
      ]
    },
    {
      "cell_type": "markdown",
      "metadata": {
        "id": "wixNK1Mu-1gU"
      },
      "source": [
        "Show how the output would change if you used\n",
        "memory =\n",
        "ConversationSummaryBufferMemory(llm=llm,memory_key='chat_history',\n",
        "max_token_limit=100, return_messages=True) when designing the agent.\n"
      ]
    },
    {
      "cell_type": "code",
      "source": [
        "from langchain.agents import load_tools, AgentType, initialize_agent, tool\n",
        "from langchain.chat_models import ChatOpenAI\n",
        "from langchain.llms import OpenAI\n",
        "\n",
        "from langchain.chains import ConversationChain\n",
        "from langchain.memory import ConversationBufferMemory\n",
        "from langchain.memory import ConversationBufferWindowMemory\n",
        "from langchain.memory import ConversationTokenBufferMemory\n",
        "from langchain.memory import ConversationSummaryBufferMemory\n",
        "\n",
        "\n",
        "llm = ChatOpenAI(openai_api_key=OPENAI_API_KEY, temperature=0)\n",
        "\n",
        "tool_names =[\"google-search\", 'wikipedia', \"openweathermap-api\", \"llm-math\"]\n",
        "tools = load_tools(tool_names, llm)\n",
        "\n",
        "memory = ConversationSummaryBufferMemory(memory_key='chat_history', return_messages=True, llm=llm, max_token_limit=100)\n",
        "memory.save_context({\"input\": \"Give me a direct answer. Spartan mode. Without too much explanation\"}, {\"output\": \"ok\"}) ## I added this context to have a more direct answer\n",
        "memory.load_memory_variables({})\n",
        "\n",
        "agent = initialize_agent(\n",
        "    tools,\n",
        "    llm,\n",
        "    agent=AgentType.CHAT_CONVERSATIONAL_REACT_DESCRIPTION,\n",
        "    verbose=True,\n",
        "    memory=memory,\n",
        "    handle_parsing_errors=True,\n",
        "    timeout=60  # Set a timeout of 60 seconds\n",
        ")\n",
        "\n",
        "\n",
        "## https://github.com/serpapi/google-search-results-python"
      ],
      "metadata": {
        "id": "a1_EIJEVAxb0"
      },
      "execution_count": null,
      "outputs": []
    },
    {
      "cell_type": "code",
      "source": [
        "print(agent.run(\"Who reached the peak of Mount Everest first?\"))"
      ],
      "metadata": {
        "colab": {
          "base_uri": "https://localhost:8080/"
        },
        "id": "SnQUz_vsBAla",
        "outputId": "d28ca1db-9db6-467c-a07e-8fc7a137dfe9"
      },
      "execution_count": null,
      "outputs": [
        {
          "output_type": "stream",
          "name": "stdout",
          "text": [
            "\n",
            "\n",
            "\u001b[1m> Entering new AgentExecutor chain...\u001b[0m\n",
            "\u001b[32;1m\u001b[1;3m{\n",
            "    \"action\": \"Wikipedia\",\n",
            "    \"action_input\": \"First ascent of Mount Everest\"\n",
            "}\u001b[0m"
          ]
        },
        {
          "output_type": "stream",
          "name": "stderr",
          "text": [
            "/usr/local/lib/python3.10/dist-packages/wikipedia/wikipedia.py:389: GuessedAtParserWarning: No parser was explicitly specified, so I'm using the best available HTML parser for this system (\"lxml\"). This usually isn't a problem, but if you run this code on another system, or in a different virtual environment, it may use a different parser and behave differently.\n",
            "\n",
            "The code that caused this warning is on line 389 of the file /usr/local/lib/python3.10/dist-packages/wikipedia/wikipedia.py. To get rid of this warning, pass the additional argument 'features=\"lxml\"' to the BeautifulSoup constructor.\n",
            "\n",
            "  lis = BeautifulSoup(html).find_all('li')\n"
          ]
        },
        {
          "output_type": "stream",
          "name": "stdout",
          "text": [
            "\n",
            "Observation: \u001b[33;1m\u001b[1;3mPage: 1953 British Mount Everest expedition\n",
            "Summary: The 1953 British Mount Everest expedition was the ninth mountaineering expedition to attempt the first ascent of Mount Everest, and the first confirmed to have succeeded when Tenzing Norgay and Edmund Hillary reached the summit on 29 May 1953. Led by Colonel John Hunt, it was organised and financed by the Joint Himalayan Committee. News of the expedition's success reached London in time to be released on the morning of Queen Elizabeth II's coronation, on 2 June that year.\n",
            "\n",
            "Page: 1924 British Mount Everest expedition\n",
            "Summary: The 1924 British Mount Everest expedition was—after the 1922 British Mount Everest expedition—the 2nd expedition with the goal of achieving the first ascent of Mount Everest.: 1  After two summit attempts in which Edward Norton set a world altitude record of 8,572.8 metres (28,126 ft),: 11  the mountaineers George Mallory and Andrew \"Sandy\" Irvine disappeared on the third attempt. Their disappearance has given rise to the long-standing speculation of whether or not the pair might – under a narrow set of assumptions – have reached the summit.: 1  Mallory's body was found in 1999 at 8,156 metres (26,760 ft), but the resulting clues did not provide any conclusive evidence as to whether the summit was reached.\u001b[0m\n",
            "Thought:\u001b[32;1m\u001b[1;3m{\n",
            "    \"action\": \"Final Answer\",\n",
            "    \"action_input\": \"Tenzing Norgay and Edmund Hillary reached the peak of Mount Everest first in 1953.\"\n",
            "}\u001b[0m\n",
            "\n",
            "\u001b[1m> Finished chain.\u001b[0m\n",
            "Tenzing Norgay and Edmund Hillary reached the peak of Mount Everest first in 1953.\n"
          ]
        }
      ]
    },
    {
      "cell_type": "code",
      "source": [
        "print(agent.run(\"When was that?\"))"
      ],
      "metadata": {
        "colab": {
          "base_uri": "https://localhost:8080/"
        },
        "id": "hcj7u7mpBEFo",
        "outputId": "8b42a4fd-46c0-4063-bb22-4221e8e42d27"
      },
      "execution_count": null,
      "outputs": [
        {
          "output_type": "stream",
          "name": "stdout",
          "text": [
            "\n",
            "\n",
            "\u001b[1m> Entering new AgentExecutor chain...\u001b[0m\n",
            "\u001b[32;1m\u001b[1;3m{\n",
            "    \"action\": \"Final Answer\",\n",
            "    \"action_input\": \"1953\"\n",
            "}\u001b[0m\n",
            "\n",
            "\u001b[1m> Finished chain.\u001b[0m\n",
            "1953\n"
          ]
        }
      ]
    },
    {
      "cell_type": "code",
      "source": [
        "print(agent.run(\"What is the typical pace of a climber trying to scale the peak in feet per hour?\"))"
      ],
      "metadata": {
        "colab": {
          "base_uri": "https://localhost:8080/"
        },
        "id": "VK0UEEjQBGQN",
        "outputId": "643160a5-95b9-4416-dc48-e8e50d282564"
      },
      "execution_count": null,
      "outputs": [
        {
          "output_type": "stream",
          "name": "stdout",
          "text": [
            "\n",
            "\n",
            "\u001b[1m> Entering new AgentExecutor chain...\u001b[0m\n",
            "\u001b[32;1m\u001b[1;3m{\n",
            "    \"action\": \"Wikipedia\",\n",
            "    \"action_input\": \"Mount Everest\"\n",
            "}\u001b[0m\n",
            "Observation: \u001b[33;1m\u001b[1;3mPage: Mount Everest\n",
            "Summary: Mount Everest (Nepali: सगरमाथा, romanized: Sagarmāthā; Tibetan: Chomolungma ཇོ་མོ་གླང་མ; Chinese: 珠穆朗玛峰; pinyin: Zhūmùlǎngmǎ Fēng) is Earth's highest mountain above sea level, located in the Mahalangur Himal sub-range of the Himalayas. The China–Nepal border runs across its summit point. Its elevation (snow height) of 8,848.86 m (29,031 ft 8+1⁄2 in) was most recently established in 2020 by the Chinese and Nepali authorities.Mount Everest attracts many climbers, including highly experienced mountaineers. There are two main climbing routes, one approaching the summit from the southeast in Nepal (known as the \"standard route\") and the other from the north in Tibet. While not posing substantial technical climbing challenges on the standard route, Everest presents dangers such as altitude sickness, weather, and wind, as well as hazards from avalanches and the Khumbu Icefall. As of November 2022, 310 people have died on Everest. Over 200 bodies remain on the mountain and have not been removed due to the dangerous conditions.The first recorded efforts to reach Everest's summit were made by British mountaineers. As Nepal did not allow foreigners to enter the country at the time, the British made several attempts on the north ridge route from the Tibetan side. After the first reconnaissance expedition by the British in 1921 reached 7,000 m (22,970 ft) on the North Col, the 1922 expedition pushed the north ridge route up to 8,320 m (27,300 ft), marking the first time a human had climbed above 8,000 m (26,247 ft). The 1924 expedition resulted in one of the greatest mysteries on Everest to this day: George Mallory and Andrew Irvine made a final summit attempt on 8 June but never returned, sparking debate as to whether they were the first to reach the top. Tenzing Norgay and Edmund Hillary made the first documented ascent of Everest in 1953, using the southeast ridge route. Norgay had reached 8,595 m (28,199 ft) the previous year as a member of the 1952 Swiss expedition. The Chinese mountaineering team of Wang Fuzhou, Gonpo, and Qu Yinhua made the first reported ascent of the peak from the north ridge on 25 May 1960.\n",
            "\n",
            "Page: List of people who died climbing Mount Everest\n",
            "Summary: Over 330 people have died attempting to reach the summit of Mount Everest which, at 8,848.86 m (29,031 ft 8+1⁄2 in), is Earth's highest mountain and a particularly desirable peak for mountaineers. This makes it the mountain with the most deaths, although it does not have the highest death rate. The most recent years without known deaths on the mountain are 1977, in which only two people reached the summit, and 2020, when permits were suspended by Nepal because of the COVID-19 pandemic.Deaths have been attributed to avalanches, falls, serac collapse, exposure, frostbite, or health problems related to conditions on the mountain. Not all bodies have been located, so details on those deaths are not available.\n",
            "The upper reaches of the mountain are in the death zone, a mountaineering term for altitudes above a certain point – around 8,000 m (26,000 ft), or less than 356 millibars (5.16 psi) of atmospheric pressure – where the oxygen pressure level is not sufficient to sustain human life. Many deaths in high-altitude mountaineering have been caused by the effects of the death zone, either directly (loss of vital functions) or indirectly (unwise decisions made under stress or physical weakening leading to accidents). In the death zone, the human body cannot acclimatize, as it uses oxygen faster than it can be replenished. An extended stay in the zone without supplementary oxygen will result in deterioration of bodily functions, loss of consciousness, and death.\n",
            "\n",
            "Page: 1996 Mount Everest disaster\n",
            "Summary: The 1996 Mount Everest disaster occurred on 10–11 May 1996 when eight climbers caught in a blizzard died on Mount Everest while attempting to descend from the summit. Over the entire season, 12 people died trying to reach the summit, making it \u001b[0m\n",
            "Thought:\u001b[32;1m\u001b[1;3m{\n",
            "    \"action\": \"Wikipedia\",\n",
            "    \"action_input\": \"Climbing Mount Everest\"\n",
            "}\u001b[0m\n",
            "Observation: \u001b[33;1m\u001b[1;3mPage: List of people who died climbing Mount Everest\n",
            "Summary: Over 330 people have died attempting to reach the summit of Mount Everest which, at 8,848.86 m (29,031 ft 8+1⁄2 in), is Earth's highest mountain and a particularly desirable peak for mountaineers. This makes it the mountain with the most deaths, although it does not have the highest death rate. The most recent years without known deaths on the mountain are 1977, in which only two people reached the summit, and 2020, when permits were suspended by Nepal because of the COVID-19 pandemic.Deaths have been attributed to avalanches, falls, serac collapse, exposure, frostbite, or health problems related to conditions on the mountain. Not all bodies have been located, so details on those deaths are not available.\n",
            "The upper reaches of the mountain are in the death zone, a mountaineering term for altitudes above a certain point – around 8,000 m (26,000 ft), or less than 356 millibars (5.16 psi) of atmospheric pressure – where the oxygen pressure level is not sufficient to sustain human life. Many deaths in high-altitude mountaineering have been caused by the effects of the death zone, either directly (loss of vital functions) or indirectly (unwise decisions made under stress or physical weakening leading to accidents). In the death zone, the human body cannot acclimatize, as it uses oxygen faster than it can be replenished. An extended stay in the zone without supplementary oxygen will result in deterioration of bodily functions, loss of consciousness, and death.\n",
            "\n",
            "Page: Timeline of Mount Everest expeditions\n",
            "Summary: Mount Everest is the world's highest mountain, with a peak at 8,849 metres (29,031.7 ft) above sea level. It is situated in the Himalayan range of Solukhumbu district (Province 1 in present days), Nepal.\n",
            "\n",
            "Page: List of Indian summiters of Mount Everest\n",
            "Summary: The first successful attempts to summit Mount Everest by Indians were in 1960. The first Indians to reach the summit were a group led by Captain M.S. Kohli in 1965. 422 Indians made a total of 465 attempts between 1965 and 2018. These include 43 repeat attempts by 29 summiteers. There have been 81 attempts by 74 women and 7 repeat attempts by 4 female summiteers from India.\u001b[0m\n",
            "Thought:\u001b[32;1m\u001b[1;3m{\n",
            "    \"action\": \"Final Answer\",\n",
            "    \"action_input\": \"The typical pace of a climber trying to scale the peak of Mount Everest is highly variable and depends on various factors such as the climber's fitness level, acclimatization, weather conditions, and the specific route taken. However, on average, climbers aim to maintain a pace of around 100-200 feet per hour during the ascent.\"\n",
            "}\u001b[0m\n",
            "\n",
            "\u001b[1m> Finished chain.\u001b[0m\n",
            "The typical pace of a climber trying to scale the peak of Mount Everest is highly variable and depends on various factors such as the climber's fitness level, acclimatization, weather conditions, and the specific route taken. However, on average, climbers aim to maintain a pace of around 100-200 feet per hour during the ascent.\n"
          ]
        }
      ]
    },
    {
      "cell_type": "code",
      "source": [
        "print(agent.run(\"If one could hold that steady space, how long would it take to scale the peak?\"))"
      ],
      "metadata": {
        "colab": {
          "base_uri": "https://localhost:8080/"
        },
        "id": "sAcllCUNBIHd",
        "outputId": "29270161-45f3-4722-b71c-7d37503829a3"
      },
      "execution_count": null,
      "outputs": [
        {
          "output_type": "stream",
          "name": "stdout",
          "text": [
            "\n",
            "\n",
            "\u001b[1m> Entering new AgentExecutor chain...\u001b[0m\n",
            "\u001b[32;1m\u001b[1;3m{\n",
            "    \"action\": \"Final Answer\",\n",
            "    \"action_input\": \"The time it takes to scale the peak of Mount Everest can vary depending on various factors such as the climber's experience, fitness level, weather conditions, and the specific route taken. On average, it takes climbers around 6-8 weeks to complete the entire expedition, including acclimatization periods and multiple attempts at reaching the summit. However, the actual time spent climbing from the base camp to the summit can range from a few days to several weeks, depending on the climber's pace and acclimatization progress.\"\n",
            "}\u001b[0m\n",
            "\n",
            "\u001b[1m> Finished chain.\u001b[0m\n",
            "The time it takes to scale the peak of Mount Everest can vary depending on various factors such as the climber's experience, fitness level, weather conditions, and the specific route taken. On average, it takes climbers around 6-8 weeks to complete the entire expedition, including acclimatization periods and multiple attempts at reaching the summit. However, the actual time spent climbing from the base camp to the summit can range from a few days to several weeks, depending on the climber's pace and acclimatization progress.\n"
          ]
        }
      ]
    },
    {
      "cell_type": "markdown",
      "source": [
        "The answers are pretty similar as the obtained with ConversationTokenBufferMemory; just Q4 was a bit more imprecise."
      ],
      "metadata": {
        "id": "rBq24Zs1AoiT"
      }
    },
    {
      "cell_type": "markdown",
      "source": [
        "# Question 3"
      ],
      "metadata": {
        "id": "Y4qGBYWvBl-A"
      }
    },
    {
      "cell_type": "markdown",
      "source": [
        "## Part 1"
      ],
      "metadata": {
        "id": "cJtAr_13Q_v-"
      }
    },
    {
      "cell_type": "code",
      "source": [
        "%%capture\n",
        "!pip install langchain-experimental"
      ],
      "metadata": {
        "id": "auSm5d2HRafx"
      },
      "execution_count": null,
      "outputs": []
    },
    {
      "cell_type": "code",
      "source": [
        "import csv                # Import the CSV module to work with CSV files\n",
        "import pandas as pd       # Import the pandas library for data manipulation and analysis\n",
        "import matplotlib.pyplot as plt  # Import Matplotlib's pyplot module for creating plots\n",
        "import seaborn as sns     # Import Seaborn for creating statistical visualizations\n",
        "\n",
        "# Import the data analysis agent\n",
        "from langchain_experimental.agents.agent_toolkits import create_pandas_dataframe_agent"
      ],
      "metadata": {
        "id": "s6R_nb2uRWUk"
      },
      "execution_count": null,
      "outputs": []
    },
    {
      "cell_type": "code",
      "source": [
        "# Load the dataset from a URL\n",
        "url = 'https://archive.ics.uci.edu/static/public/2/data.csv'\n",
        "# Read the CSV data from the specified URL using pandas 'read_csv' function.\n",
        "# In this dataset, the values are separated by semicolons, so we specify 'sep=\";\"'.\n",
        "data = pd.read_csv(url, sep=\",\")\n",
        "# Display the first few rows of the loaded dataset to inspect its contents.\n",
        "data.head()"
      ],
      "metadata": {
        "colab": {
          "base_uri": "https://localhost:8080/",
          "height": 206
        },
        "id": "I7LekgWfRIQY",
        "outputId": "aa801ee9-560b-4156-ac28-595e25a14727"
      },
      "execution_count": null,
      "outputs": [
        {
          "output_type": "execute_result",
          "data": {
            "text/plain": [
              "   age         workclass  fnlwgt  education  education-num  \\\n",
              "0   39         State-gov   77516  Bachelors             13   \n",
              "1   50  Self-emp-not-inc   83311  Bachelors             13   \n",
              "2   38           Private  215646    HS-grad              9   \n",
              "3   53           Private  234721       11th              7   \n",
              "4   28           Private  338409  Bachelors             13   \n",
              "\n",
              "       marital-status         occupation   relationship   race     sex  \\\n",
              "0       Never-married       Adm-clerical  Not-in-family  White    Male   \n",
              "1  Married-civ-spouse    Exec-managerial        Husband  White    Male   \n",
              "2            Divorced  Handlers-cleaners  Not-in-family  White    Male   \n",
              "3  Married-civ-spouse  Handlers-cleaners        Husband  Black    Male   \n",
              "4  Married-civ-spouse     Prof-specialty           Wife  Black  Female   \n",
              "\n",
              "   capital-gain  capital-loss  hours-per-week native-country income  \n",
              "0          2174             0              40  United-States  <=50K  \n",
              "1             0             0              13  United-States  <=50K  \n",
              "2             0             0              40  United-States  <=50K  \n",
              "3             0             0              40  United-States  <=50K  \n",
              "4             0             0              40           Cuba  <=50K  "
            ],
            "text/html": [
              "\n",
              "  <div id=\"df-aa7bac87-154c-4b06-82ce-4c022058ceb3\" class=\"colab-df-container\">\n",
              "    <div>\n",
              "<style scoped>\n",
              "    .dataframe tbody tr th:only-of-type {\n",
              "        vertical-align: middle;\n",
              "    }\n",
              "\n",
              "    .dataframe tbody tr th {\n",
              "        vertical-align: top;\n",
              "    }\n",
              "\n",
              "    .dataframe thead th {\n",
              "        text-align: right;\n",
              "    }\n",
              "</style>\n",
              "<table border=\"1\" class=\"dataframe\">\n",
              "  <thead>\n",
              "    <tr style=\"text-align: right;\">\n",
              "      <th></th>\n",
              "      <th>age</th>\n",
              "      <th>workclass</th>\n",
              "      <th>fnlwgt</th>\n",
              "      <th>education</th>\n",
              "      <th>education-num</th>\n",
              "      <th>marital-status</th>\n",
              "      <th>occupation</th>\n",
              "      <th>relationship</th>\n",
              "      <th>race</th>\n",
              "      <th>sex</th>\n",
              "      <th>capital-gain</th>\n",
              "      <th>capital-loss</th>\n",
              "      <th>hours-per-week</th>\n",
              "      <th>native-country</th>\n",
              "      <th>income</th>\n",
              "    </tr>\n",
              "  </thead>\n",
              "  <tbody>\n",
              "    <tr>\n",
              "      <th>0</th>\n",
              "      <td>39</td>\n",
              "      <td>State-gov</td>\n",
              "      <td>77516</td>\n",
              "      <td>Bachelors</td>\n",
              "      <td>13</td>\n",
              "      <td>Never-married</td>\n",
              "      <td>Adm-clerical</td>\n",
              "      <td>Not-in-family</td>\n",
              "      <td>White</td>\n",
              "      <td>Male</td>\n",
              "      <td>2174</td>\n",
              "      <td>0</td>\n",
              "      <td>40</td>\n",
              "      <td>United-States</td>\n",
              "      <td>&lt;=50K</td>\n",
              "    </tr>\n",
              "    <tr>\n",
              "      <th>1</th>\n",
              "      <td>50</td>\n",
              "      <td>Self-emp-not-inc</td>\n",
              "      <td>83311</td>\n",
              "      <td>Bachelors</td>\n",
              "      <td>13</td>\n",
              "      <td>Married-civ-spouse</td>\n",
              "      <td>Exec-managerial</td>\n",
              "      <td>Husband</td>\n",
              "      <td>White</td>\n",
              "      <td>Male</td>\n",
              "      <td>0</td>\n",
              "      <td>0</td>\n",
              "      <td>13</td>\n",
              "      <td>United-States</td>\n",
              "      <td>&lt;=50K</td>\n",
              "    </tr>\n",
              "    <tr>\n",
              "      <th>2</th>\n",
              "      <td>38</td>\n",
              "      <td>Private</td>\n",
              "      <td>215646</td>\n",
              "      <td>HS-grad</td>\n",
              "      <td>9</td>\n",
              "      <td>Divorced</td>\n",
              "      <td>Handlers-cleaners</td>\n",
              "      <td>Not-in-family</td>\n",
              "      <td>White</td>\n",
              "      <td>Male</td>\n",
              "      <td>0</td>\n",
              "      <td>0</td>\n",
              "      <td>40</td>\n",
              "      <td>United-States</td>\n",
              "      <td>&lt;=50K</td>\n",
              "    </tr>\n",
              "    <tr>\n",
              "      <th>3</th>\n",
              "      <td>53</td>\n",
              "      <td>Private</td>\n",
              "      <td>234721</td>\n",
              "      <td>11th</td>\n",
              "      <td>7</td>\n",
              "      <td>Married-civ-spouse</td>\n",
              "      <td>Handlers-cleaners</td>\n",
              "      <td>Husband</td>\n",
              "      <td>Black</td>\n",
              "      <td>Male</td>\n",
              "      <td>0</td>\n",
              "      <td>0</td>\n",
              "      <td>40</td>\n",
              "      <td>United-States</td>\n",
              "      <td>&lt;=50K</td>\n",
              "    </tr>\n",
              "    <tr>\n",
              "      <th>4</th>\n",
              "      <td>28</td>\n",
              "      <td>Private</td>\n",
              "      <td>338409</td>\n",
              "      <td>Bachelors</td>\n",
              "      <td>13</td>\n",
              "      <td>Married-civ-spouse</td>\n",
              "      <td>Prof-specialty</td>\n",
              "      <td>Wife</td>\n",
              "      <td>Black</td>\n",
              "      <td>Female</td>\n",
              "      <td>0</td>\n",
              "      <td>0</td>\n",
              "      <td>40</td>\n",
              "      <td>Cuba</td>\n",
              "      <td>&lt;=50K</td>\n",
              "    </tr>\n",
              "  </tbody>\n",
              "</table>\n",
              "</div>\n",
              "    <div class=\"colab-df-buttons\">\n",
              "\n",
              "  <div class=\"colab-df-container\">\n",
              "    <button class=\"colab-df-convert\" onclick=\"convertToInteractive('df-aa7bac87-154c-4b06-82ce-4c022058ceb3')\"\n",
              "            title=\"Convert this dataframe to an interactive table.\"\n",
              "            style=\"display:none;\">\n",
              "\n",
              "  <svg xmlns=\"http://www.w3.org/2000/svg\" height=\"24px\" viewBox=\"0 -960 960 960\">\n",
              "    <path d=\"M120-120v-720h720v720H120Zm60-500h600v-160H180v160Zm220 220h160v-160H400v160Zm0 220h160v-160H400v160ZM180-400h160v-160H180v160Zm440 0h160v-160H620v160ZM180-180h160v-160H180v160Zm440 0h160v-160H620v160Z\"/>\n",
              "  </svg>\n",
              "    </button>\n",
              "\n",
              "  <style>\n",
              "    .colab-df-container {\n",
              "      display:flex;\n",
              "      gap: 12px;\n",
              "    }\n",
              "\n",
              "    .colab-df-convert {\n",
              "      background-color: #E8F0FE;\n",
              "      border: none;\n",
              "      border-radius: 50%;\n",
              "      cursor: pointer;\n",
              "      display: none;\n",
              "      fill: #1967D2;\n",
              "      height: 32px;\n",
              "      padding: 0 0 0 0;\n",
              "      width: 32px;\n",
              "    }\n",
              "\n",
              "    .colab-df-convert:hover {\n",
              "      background-color: #E2EBFA;\n",
              "      box-shadow: 0px 1px 2px rgba(60, 64, 67, 0.3), 0px 1px 3px 1px rgba(60, 64, 67, 0.15);\n",
              "      fill: #174EA6;\n",
              "    }\n",
              "\n",
              "    .colab-df-buttons div {\n",
              "      margin-bottom: 4px;\n",
              "    }\n",
              "\n",
              "    [theme=dark] .colab-df-convert {\n",
              "      background-color: #3B4455;\n",
              "      fill: #D2E3FC;\n",
              "    }\n",
              "\n",
              "    [theme=dark] .colab-df-convert:hover {\n",
              "      background-color: #434B5C;\n",
              "      box-shadow: 0px 1px 3px 1px rgba(0, 0, 0, 0.15);\n",
              "      filter: drop-shadow(0px 1px 2px rgba(0, 0, 0, 0.3));\n",
              "      fill: #FFFFFF;\n",
              "    }\n",
              "  </style>\n",
              "\n",
              "    <script>\n",
              "      const buttonEl =\n",
              "        document.querySelector('#df-aa7bac87-154c-4b06-82ce-4c022058ceb3 button.colab-df-convert');\n",
              "      buttonEl.style.display =\n",
              "        google.colab.kernel.accessAllowed ? 'block' : 'none';\n",
              "\n",
              "      async function convertToInteractive(key) {\n",
              "        const element = document.querySelector('#df-aa7bac87-154c-4b06-82ce-4c022058ceb3');\n",
              "        const dataTable =\n",
              "          await google.colab.kernel.invokeFunction('convertToInteractive',\n",
              "                                                    [key], {});\n",
              "        if (!dataTable) return;\n",
              "\n",
              "        const docLinkHtml = 'Like what you see? Visit the ' +\n",
              "          '<a target=\"_blank\" href=https://colab.research.google.com/notebooks/data_table.ipynb>data table notebook</a>'\n",
              "          + ' to learn more about interactive tables.';\n",
              "        element.innerHTML = '';\n",
              "        dataTable['output_type'] = 'display_data';\n",
              "        await google.colab.output.renderOutput(dataTable, element);\n",
              "        const docLink = document.createElement('div');\n",
              "        docLink.innerHTML = docLinkHtml;\n",
              "        element.appendChild(docLink);\n",
              "      }\n",
              "    </script>\n",
              "  </div>\n",
              "\n",
              "\n",
              "<div id=\"df-1555b73d-69c1-4ee5-a731-8ac259cf8d4c\">\n",
              "  <button class=\"colab-df-quickchart\" onclick=\"quickchart('df-1555b73d-69c1-4ee5-a731-8ac259cf8d4c')\"\n",
              "            title=\"Suggest charts\"\n",
              "            style=\"display:none;\">\n",
              "\n",
              "<svg xmlns=\"http://www.w3.org/2000/svg\" height=\"24px\"viewBox=\"0 0 24 24\"\n",
              "     width=\"24px\">\n",
              "    <g>\n",
              "        <path d=\"M19 3H5c-1.1 0-2 .9-2 2v14c0 1.1.9 2 2 2h14c1.1 0 2-.9 2-2V5c0-1.1-.9-2-2-2zM9 17H7v-7h2v7zm4 0h-2V7h2v10zm4 0h-2v-4h2v4z\"/>\n",
              "    </g>\n",
              "</svg>\n",
              "  </button>\n",
              "\n",
              "<style>\n",
              "  .colab-df-quickchart {\n",
              "      --bg-color: #E8F0FE;\n",
              "      --fill-color: #1967D2;\n",
              "      --hover-bg-color: #E2EBFA;\n",
              "      --hover-fill-color: #174EA6;\n",
              "      --disabled-fill-color: #AAA;\n",
              "      --disabled-bg-color: #DDD;\n",
              "  }\n",
              "\n",
              "  [theme=dark] .colab-df-quickchart {\n",
              "      --bg-color: #3B4455;\n",
              "      --fill-color: #D2E3FC;\n",
              "      --hover-bg-color: #434B5C;\n",
              "      --hover-fill-color: #FFFFFF;\n",
              "      --disabled-bg-color: #3B4455;\n",
              "      --disabled-fill-color: #666;\n",
              "  }\n",
              "\n",
              "  .colab-df-quickchart {\n",
              "    background-color: var(--bg-color);\n",
              "    border: none;\n",
              "    border-radius: 50%;\n",
              "    cursor: pointer;\n",
              "    display: none;\n",
              "    fill: var(--fill-color);\n",
              "    height: 32px;\n",
              "    padding: 0;\n",
              "    width: 32px;\n",
              "  }\n",
              "\n",
              "  .colab-df-quickchart:hover {\n",
              "    background-color: var(--hover-bg-color);\n",
              "    box-shadow: 0 1px 2px rgba(60, 64, 67, 0.3), 0 1px 3px 1px rgba(60, 64, 67, 0.15);\n",
              "    fill: var(--button-hover-fill-color);\n",
              "  }\n",
              "\n",
              "  .colab-df-quickchart-complete:disabled,\n",
              "  .colab-df-quickchart-complete:disabled:hover {\n",
              "    background-color: var(--disabled-bg-color);\n",
              "    fill: var(--disabled-fill-color);\n",
              "    box-shadow: none;\n",
              "  }\n",
              "\n",
              "  .colab-df-spinner {\n",
              "    border: 2px solid var(--fill-color);\n",
              "    border-color: transparent;\n",
              "    border-bottom-color: var(--fill-color);\n",
              "    animation:\n",
              "      spin 1s steps(1) infinite;\n",
              "  }\n",
              "\n",
              "  @keyframes spin {\n",
              "    0% {\n",
              "      border-color: transparent;\n",
              "      border-bottom-color: var(--fill-color);\n",
              "      border-left-color: var(--fill-color);\n",
              "    }\n",
              "    20% {\n",
              "      border-color: transparent;\n",
              "      border-left-color: var(--fill-color);\n",
              "      border-top-color: var(--fill-color);\n",
              "    }\n",
              "    30% {\n",
              "      border-color: transparent;\n",
              "      border-left-color: var(--fill-color);\n",
              "      border-top-color: var(--fill-color);\n",
              "      border-right-color: var(--fill-color);\n",
              "    }\n",
              "    40% {\n",
              "      border-color: transparent;\n",
              "      border-right-color: var(--fill-color);\n",
              "      border-top-color: var(--fill-color);\n",
              "    }\n",
              "    60% {\n",
              "      border-color: transparent;\n",
              "      border-right-color: var(--fill-color);\n",
              "    }\n",
              "    80% {\n",
              "      border-color: transparent;\n",
              "      border-right-color: var(--fill-color);\n",
              "      border-bottom-color: var(--fill-color);\n",
              "    }\n",
              "    90% {\n",
              "      border-color: transparent;\n",
              "      border-bottom-color: var(--fill-color);\n",
              "    }\n",
              "  }\n",
              "</style>\n",
              "\n",
              "  <script>\n",
              "    async function quickchart(key) {\n",
              "      const quickchartButtonEl =\n",
              "        document.querySelector('#' + key + ' button');\n",
              "      quickchartButtonEl.disabled = true;  // To prevent multiple clicks.\n",
              "      quickchartButtonEl.classList.add('colab-df-spinner');\n",
              "      try {\n",
              "        const charts = await google.colab.kernel.invokeFunction(\n",
              "            'suggestCharts', [key], {});\n",
              "      } catch (error) {\n",
              "        console.error('Error during call to suggestCharts:', error);\n",
              "      }\n",
              "      quickchartButtonEl.classList.remove('colab-df-spinner');\n",
              "      quickchartButtonEl.classList.add('colab-df-quickchart-complete');\n",
              "    }\n",
              "    (() => {\n",
              "      let quickchartButtonEl =\n",
              "        document.querySelector('#df-1555b73d-69c1-4ee5-a731-8ac259cf8d4c button');\n",
              "      quickchartButtonEl.style.display =\n",
              "        google.colab.kernel.accessAllowed ? 'block' : 'none';\n",
              "    })();\n",
              "  </script>\n",
              "</div>\n",
              "    </div>\n",
              "  </div>\n"
            ]
          },
          "metadata": {},
          "execution_count": 148
        }
      ]
    },
    {
      "cell_type": "markdown",
      "source": [
        "### a."
      ],
      "metadata": {
        "id": "o8IDh7JPRl-u"
      }
    },
    {
      "cell_type": "code",
      "source": [
        "# Create an instance of the OpenAI language model.\n",
        "llm = OpenAI(temperature=0)\n",
        "\n",
        "\n",
        "#llm = ChatOpenAI(temperature=0) #Use this for chat model instance\n",
        "\n",
        "# Access and print the name of the language model.\n",
        "llm.model_name\n",
        "\n",
        "# Create a pandas_dataframe agent\n",
        "agent = create_pandas_dataframe_agent(\n",
        "    llm,              #language model instance\n",
        "    data,             #data frame used\n",
        "    verbose=True,\n",
        ")"
      ],
      "metadata": {
        "id": "_74dDk8DR3aY"
      },
      "execution_count": null,
      "outputs": []
    },
    {
      "cell_type": "code",
      "source": [
        "agent(\"How many rows and columns\")"
      ],
      "metadata": {
        "colab": {
          "base_uri": "https://localhost:8080/"
        },
        "id": "hgoWHZqxR5ni",
        "outputId": "3842c68f-68c0-43e3-d233-b09c1020803c"
      },
      "execution_count": null,
      "outputs": [
        {
          "output_type": "stream",
          "name": "stdout",
          "text": [
            "\n",
            "\n",
            "\u001b[1m> Entering new AgentExecutor chain...\u001b[0m\n",
            "\u001b[32;1m\u001b[1;3mThought: I need to find out the shape of the dataframe\n",
            "Action: python_repl_ast\n",
            "Action Input: df.shape\u001b[0m\n",
            "Observation: \u001b[36;1m\u001b[1;3m(48842, 15)\u001b[0m\n",
            "Thought:\u001b[32;1m\u001b[1;3m I now know the final answer\n",
            "Final Answer: The dataframe has 48842 rows and 15 columns.\u001b[0m\n",
            "\n",
            "\u001b[1m> Finished chain.\u001b[0m\n"
          ]
        },
        {
          "output_type": "execute_result",
          "data": {
            "text/plain": [
              "{'input': 'How many rows and columns',\n",
              " 'output': 'The dataframe has 48842 rows and 15 columns.'}"
            ]
          },
          "metadata": {},
          "execution_count": 150
        }
      ]
    },
    {
      "cell_type": "markdown",
      "source": [
        "### b."
      ],
      "metadata": {
        "id": "o0MJk1IlRsQE"
      }
    },
    {
      "cell_type": "code",
      "source": [
        "agent(\"List the variables in the data\")"
      ],
      "metadata": {
        "colab": {
          "base_uri": "https://localhost:8080/"
        },
        "id": "x3a3SrEsSAZc",
        "outputId": "79c1a2c6-9943-4226-e424-554e4b705ada"
      },
      "execution_count": null,
      "outputs": [
        {
          "output_type": "stream",
          "name": "stdout",
          "text": [
            "\n",
            "\n",
            "\u001b[1m> Entering new AgentExecutor chain...\u001b[0m\n",
            "\u001b[32;1m\u001b[1;3mThought: I need to look at the data to see what variables are present\n",
            "Action: python_repl_ast\n",
            "Action Input: df.columns\u001b[0m\n",
            "Observation: \u001b[36;1m\u001b[1;3mIndex(['age', 'workclass', 'fnlwgt', 'education', 'education-num',\n",
            "       'marital-status', 'occupation', 'relationship', 'race', 'sex',\n",
            "       'capital-gain', 'capital-loss', 'hours-per-week', 'native-country',\n",
            "       'income'],\n",
            "      dtype='object')\u001b[0m\n",
            "Thought:\u001b[32;1m\u001b[1;3m I now know the final answer\n",
            "Final Answer: age, workclass, fnlwgt, education, education-num, marital-status, occupation, relationship, race, sex, capital-gain, capital-loss, hours-per-week, native-country, income\u001b[0m\n",
            "\n",
            "\u001b[1m> Finished chain.\u001b[0m\n"
          ]
        },
        {
          "output_type": "execute_result",
          "data": {
            "text/plain": [
              "{'input': 'List the variables in the data',\n",
              " 'output': 'age, workclass, fnlwgt, education, education-num, marital-status, occupation, relationship, race, sex, capital-gain, capital-loss, hours-per-week, native-country, income'}"
            ]
          },
          "metadata": {},
          "execution_count": 151
        }
      ]
    },
    {
      "cell_type": "markdown",
      "source": [
        "### c"
      ],
      "metadata": {
        "id": "jnMxCj7HRtP4"
      }
    },
    {
      "cell_type": "code",
      "source": [
        "agent(\"The income variables is a binary variable (income<=50K or income>50K). Only for income <= 50K Calculate the share (%) by gender. Do a circle plot\")"
      ],
      "metadata": {
        "colab": {
          "base_uri": "https://localhost:8080/",
          "height": 771
        },
        "id": "U8G7ReMqSFqL",
        "outputId": "a761912f-de5a-41a2-e827-d7cb80f21c90"
      },
      "execution_count": null,
      "outputs": [
        {
          "output_type": "stream",
          "name": "stdout",
          "text": [
            "\n",
            "\n",
            "\u001b[1m> Entering new AgentExecutor chain...\u001b[0m\n",
            "\u001b[32;1m\u001b[1;3m\n",
            "Thought: I need to calculate the share of income <=50K by gender and then plot it\n",
            "Action: python_repl_ast\n",
            "Action Input: df[df['income'] == '<=50K'].groupby('sex').size()/df[df['income'] == '<=50K'].shape[0]*100\u001b[0m\n",
            "Observation: \u001b[36;1m\u001b[1;3msex\n",
            "Female    38.802589\n",
            "Male      61.197411\n",
            "dtype: float64\u001b[0m\n",
            "Thought:\u001b[32;1m\u001b[1;3m I now need to plot the result\n",
            "Action: python_repl_ast\n",
            "Action Input: df[df['income'] == '<=50K'].groupby('sex').size().plot.pie(autopct='%1.1f%%')\u001b[0m\n",
            "Observation: \u001b[36;1m\u001b[1;3mAxes(0.22375,0.11;0.5775x0.77)\u001b[0m\n",
            "Thought:\u001b[32;1m\u001b[1;3m I now know the final answer\n",
            "Final Answer: The share of income <=50K by gender is 38.8% for female and 61.2% for male, as shown in the circle plot.\u001b[0m\n",
            "\n",
            "\u001b[1m> Finished chain.\u001b[0m\n"
          ]
        },
        {
          "output_type": "execute_result",
          "data": {
            "text/plain": [
              "{'input': 'The income variables is a binary variable (income<=50K or income>50K). Only for income <= 50K Calculate the share (%) by gender. Do a circle plot',\n",
              " 'output': 'The share of income <=50K by gender is 38.8% for female and 61.2% for male, as shown in the circle plot.'}"
            ]
          },
          "metadata": {},
          "execution_count": 157
        },
        {
          "output_type": "display_data",
          "data": {
            "text/plain": [
              "<Figure size 640x480 with 1 Axes>"
            ],
            "image/png": "[encoded data removed]"
          },
          "metadata": {}
        }
      ]
    },
    {
      "cell_type": "markdown",
      "source": [
        "## Part 2"
      ],
      "metadata": {
        "id": "-mZheAZjRCJ7"
      }
    },
    {
      "cell_type": "markdown",
      "source": [
        "### Serial and Concurrent for 9 questions"
      ],
      "metadata": {
        "id": "oQ8IiMO0U3wB"
      }
    },
    {
      "cell_type": "code",
      "source": [
        "import asyncio\n",
        "import time\n",
        "import key\n",
        "from langchain.agents import initialize_agent, load_tools\n",
        "from langchain.agents import AgentType\n",
        "from langchain.llms import OpenAI\n",
        "\n",
        "from langchain.utilities import SerpAPIWrapper\n",
        "\n",
        "\n",
        "# Set API keys from environment variables\n",
        "os.environ[\"OPENAI_API_KEY\"] = key.OPENAI_API_KEY\n",
        "#os.environ[\"SERPAPI_API_KEY\"] = key.SERPAPIKEY\n",
        "\n",
        "\n",
        "# Define some history questions to be asked\n",
        "\n",
        "questions = [\n",
        "    \"When was the First Hundred Year War fought? Which countries were involved? \",\n",
        "    \"When was the American Civil war fought? Who were involved in the war? \",\n",
        "    \"When was the Battle of Waterloo fought? Who were the leaders on either side? \",\n",
        "    \"When was the First war of Indian independence fought? How many years later did India get independence? What was the time gap?\",\n",
        "    \"When was the Han dynasty established? How long did it last?\",\n",
        "    \"When was the Spanish Civil War fought? WHo were involved\",\n",
        "    \"When was the First Hundred Year War fought? Which countries were involved? \",\n",
        "    \"When was the American Civil war fought? Who were involved in the war? \",\n",
        "    \"When was the Battle of Waterloo fought? Who were the leaders on either side? \",\n",
        "    #\"When was the First war of Indian independence fought? How many years later did India get independence? What was the time gap?\",\n",
        "    #\"When was the Han dynasty established? How long did it last?\",\n",
        "    #\"When was the Spanish Civil War fought? WHo were involved\"\n",
        "]\n",
        "\n",
        "## Serial execution ##\n",
        "\n",
        "# Initialize LangChain with OpenAI LLM and \"wikipedia\", \"llm-math\" tools\n",
        "llm = OpenAI(temperature=0)\n",
        "tools = load_tools([\"wikipedia\", \"llm-math\"], llm=llm)\n",
        "agent = initialize_agent(\n",
        "    tools, llm, agent=AgentType.ZERO_SHOT_REACT_DESCRIPTION, verbose=True\n",
        ")\n",
        "\n",
        "# Start timer\n",
        "s = time.perf_counter()\n",
        "\n",
        "# Run each question sequentially\n",
        "for q in questions:\n",
        "    agent.run(q)\n",
        "\n",
        "# Stop timer and calculate elapsed time\n",
        "elapsed = time.perf_counter() - s\n",
        "print(f\"Serial executed in {elapsed:0.2f} seconds.\")\n",
        "\n",
        "\n",
        "## Concurrent execution ##\n",
        "\n",
        "# Initialize LangChain with OpenAI LLM and \"wikipedia\", \"llm-math\" tools\n",
        "llm = OpenAI(temperature=0)\n",
        "tools = load_tools([\"wikipedia\", \"llm-math\"], llm=llm)\n",
        "agent = initialize_agent(\n",
        "    tools, llm, agent=AgentType.ZERO_SHOT_REACT_DESCRIPTION, verbose=True\n",
        ")\n",
        "\n",
        "# Start timer\n",
        "s = time.perf_counter()\n",
        "\n",
        "# Run all questions concurrently using asyncio and gather results\n",
        "tasks = [agent.arun(q) for q in questions]\n",
        "await asyncio.gather(*tasks)\n",
        "\n",
        "# Stop timer and calculate elapsed time\n",
        "elapsed = time.perf_counter() - s\n",
        "print(f\"Concurrent executed in {elapsed:0.2f} seconds.\")"
      ],
      "metadata": {
        "colab": {
          "base_uri": "https://localhost:8080/"
        },
        "id": "XAeBLzFGUAq8",
        "outputId": "6566a063-c3fd-4e0c-ec5f-c9cfb5d4f40c"
      },
      "execution_count": null,
      "outputs": [
        {
          "output_type": "stream",
          "name": "stdout",
          "text": [
            "\n",
            "\n",
            "\u001b[1m> Entering new AgentExecutor chain...\u001b[0m\n",
            "\u001b[32;1m\u001b[1;3m I need to find out when and which countries were involved in the First Hundred Year War.\n",
            "Action: Wikipedia\n",
            "Action Input: First Hundred Year War\u001b[0m\n",
            "Observation: \u001b[36;1m\u001b[1;3mPage: Hundred Years' War\n",
            "Summary: The Hundred Years' War (French: Guerre de Cent Ans; 1337–1453) was a series of armed conflicts fought between the kingdoms of England and France during the Late Middle Ages. It originated from English claims to the French throne. The war grew into a broader power struggle involving factions from across Western Europe, fueled by emerging nationalism on both sides. The periodization of the war takes place over 116 years, wherein the war was interrupted by several years of truces.\n",
            "The Hundred Years' War was a significant conflict in the Middle Ages. During the war, five generations of kings from two rival dynasties fought for the throne of France, which was then the dominant kingdom in Western Europe. The war had a lasting effect on European history. Both sides produced innovations in military technology and tactics, including professional standing armies and artillery, that permanently changed warfare in Europe; chivalry, which reached its height during the conflict, subsequently declined. Stronger national identities took root in both countries, which became more centralised and gradually rose as global powers.The term \"Hundred Years' War\" was adopted by later historians as a historiographical periodisation to encompass related conflicts, constructing the longest military conflict in European history. The war is commonly divided into three phases separated by truces: the Edwardian War (1337–1360), the Caroline War (1369–1389), and the Lancastrian War (1415–1453). Each side drew many allies into the conflict, with English forces initially prevailing; however, the French forces under the House of Valois ultimately retained control over the Kingdom of France. The French and English monarchies, previously intertwined, thereafter remained separate.\n",
            "\n",
            "Page: Hundred Years' War, 1369–1389\n",
            "Summary: The Caroline War was the second phase of the Hundred Years' War between France and England, following the Edwardian War. It was so-named after Charles V of France, who resumed the war nine years after the Treaty of Brétigny (signed 1360). The Kingdom of France dominated this phase of the war.\n",
            "The Black Prince, eldest son and heir of Edward III of England, spent a huge sum of money in order to restore Peter the Cruel to the throne of Castile. The Castilian King was unable to repay him, however, so the Black Prince raised taxes in his domains in Aquitaine. The people's complaints were unheeded, so they appealed to the French King Charles V. In May 1369, the Black Prince received summons from the French king demanding his presence in Paris. The prince refused, and Charles responded by declaring war. He immediately set out to reverse the territorial losses imposed at Brétigny and he was largely successful in his lifetime. His successor, Charles VI, made peace with the son of the Black Prince, Richard II, in 1389. This truce was extended many times until the war was resumed in 1415.\n",
            "\n",
            "Page: Hundred Years' War, 1415–1453\n",
            "Summary: The Lancastrian War was the third and final phase of the Hundred Years' War between England and France. It lasted from 1415, when King Henry V of England invaded Normandy, to 1453, when the English lost Bordeaux. It followed a long period of peace from the end of the Caroline War in 1389. The phase is named after the House of Lancaster, the ruling house of the Kingdom of England, to which Henry V belonged.\n",
            "The first half of this phase of the war was dominated by the Kingdom of England. Initial English successes, notably at the famous Battle of Agincourt, coupled with divisions among the French ruling class, allowed the English to gain control of large parts of France. In 1420, the Treaty of Troyes was signed, by which the English king married the French princess Catherine and was made regent of the kingdom and heir to the throne of France. A victory on paper was thus achieved by the English, with their claims now having legal standing. Some of the French nobility refused to recognise the agr\u001b[0m\n",
            "Thought:\u001b[32;1m\u001b[1;3m I now know the final answer\n",
            "Final Answer: The First Hundred Year War was fought from 1337 to 1453 between the kingdoms of England and France.\u001b[0m\n",
            "\n",
            "\u001b[1m> Finished chain.\u001b[0m\n",
            "\n",
            "\n",
            "\u001b[1m> Entering new AgentExecutor chain...\u001b[0m\n",
            "\u001b[32;1m\u001b[1;3m I need to find out when the war was fought and who was involved.\n",
            "Action: Wikipedia\n",
            "Action Input: American Civil War\u001b[0m\n",
            "Observation: \u001b[36;1m\u001b[1;3mPage: American Civil War\n",
            "Summary: The American Civil War (April 12, 1861 – May 26, 1865; also known by other names) was a civil war in the United States between the Union (\"the North\") and the Confederacy (\"the South\"), which had been formed by states that had seceded from the Union. The cause of the war was the dispute over whether slavery would be permitted to expand into the western territories, leading to more slave states, or be prevented from doing so, which many believed would place slavery on a course of ultimate extinction.\n",
            "Decades of political controversy over slavery were brought to a head by the victory in the 1860 U.S. presidential election of Abraham Lincoln, who opposed slavery's expansion into the western territories. Seven southern slave states responded to Lincoln's victory by seceding from the United States and forming the Confederacy. The Confederacy seized U.S. forts and other federal assets within their borders. Four more southern states seceded after the war began and, led by Confederate President Jefferson Davis, the Confederacy asserted control over about a third of the U.S. population in eleven states. Four years of intense combat, mostly in the South, ensued.\n",
            "During 1861–1862 in the Western Theater, the Union made significant permanent gains—though in the Eastern Theater the conflict was inconclusive. The abolition of slavery became a Union war goal on January 1, 1863, when Lincoln issued the Emancipation Proclamation, which declared all slaves in rebel states to be free, which applied to more than 3.5 million of the 4 million enslaved people in the country. To the west, the Union first destroyed the Confederacy's river navy by the summer of 1862, then much of its western armies, and later seized New Orleans. The successful 1863 Union siege of Vicksburg split the Confederacy in two at the Mississippi River. In 1863, Confederate General Robert E. Lee's incursion north ended at the Battle of Gettysburg. Western successes led to General Ulysses S. Grant's command of all Union armies in 1864. Inflicting an ever-tightening naval blockade of Confederate ports, the Union marshaled resources and manpower to attack the Confederacy from all directions. This led to the fall of Atlanta in 1864 to Union General William Tecumseh Sherman, followed by his March to the Sea. The last significant battles raged around the ten-month Siege of Petersburg, gateway to the Confederate capital of Richmond. The Confederates abandoned Richmond, and on April 9, 1865, Lee surrendered to Grant following the Battle of Appomattox Court House, setting in motion the end of the war.\n",
            "A wave of Confederate surrenders followed. On April 14, just five days after Lee's surrender, Lincoln was assassinated. On May 26, the last military department of the Confederacy, the Department of the Trans-Mississippi, effectively surrendered, but the conclusion of the American Civil War lacks a clear end date, and Appomattox is often symbolically referred to. Small confederate ground forces continued surrendering past the May 26 surrender date until June 23. By the end of the war, much of the South's infrastructure was destroyed, especially its railroads. The Confederacy collapsed, slavery was abolished, and four million enslaved black people were freed. The war-torn nation then entered the Reconstruction era in an attempt to rebuild the country, bring the former Confederate states back into the United States, and grant civil rights to freed slaves.\n",
            "The Civil War is one of the most extensively studied and written about episodes in U.S. history. It remains the subject of cultural and historiographical debate. Of particular interest is the persisting myth of the Lost Cause of the Confederacy. The American Civil War was among the first wars to use industrial warfare. Railroads, the telegraph, steamships, the ironclad warship, and mass-produced weapons were all widely used during the war. In total, the war left between 620,000 and 750,000 soldiers dead, along\u001b[0m\n",
            "Thought:\u001b[32;1m\u001b[1;3m I now know the general information about the American Civil War.\n",
            "Final Answer: The American Civil War was fought from April 12, 1861 to May 26, 1865 between the Union (\"the North\") and the Confederacy (\"the South\"), which had been formed by states that had seceded from the Union. The cause of the war was the dispute over whether slavery would be permitted to expand into the western territories. The war left between 620,000 and 750,000 soldiers dead.\u001b[0m\n",
            "\n",
            "\u001b[1m> Finished chain.\u001b[0m\n",
            "\n",
            "\n",
            "\u001b[1m> Entering new AgentExecutor chain...\u001b[0m\n",
            "\u001b[32;1m\u001b[1;3m I need to find out when the battle was fought and who the leaders were.\n",
            "Action: Wikipedia\n",
            "Action Input: Battle of Waterloo\u001b[0m"
          ]
        },
        {
          "output_type": "stream",
          "name": "stderr",
          "text": [
            "/usr/local/lib/python3.10/dist-packages/wikipedia/wikipedia.py:389: GuessedAtParserWarning: No parser was explicitly specified, so I'm using the best available HTML parser for this system (\"lxml\"). This usually isn't a problem, but if you run this code on another system, or in a different virtual environment, it may use a different parser and behave differently.\n",
            "\n",
            "The code that caused this warning is on line 389 of the file /usr/local/lib/python3.10/dist-packages/wikipedia/wikipedia.py. To get rid of this warning, pass the additional argument 'features=\"lxml\"' to the BeautifulSoup constructor.\n",
            "\n",
            "  lis = BeautifulSoup(html).find_all('li')\n"
          ]
        },
        {
          "output_type": "stream",
          "name": "stdout",
          "text": [
            "\n",
            "Observation: \u001b[36;1m\u001b[1;3mPage: Battle of Waterloo\n",
            "Summary: The Battle of Waterloo (Dutch pronunciation: [ˈʋaːtərloː] ) was fought on Sunday 18 June 1815, near Waterloo (at that time in the United Kingdom of the Netherlands, now in Belgium), marking  the end of the Napoleonic Wars. A French army under the command of Napoleon was defeated by two armies of the Seventh Coalition. One of these was a British-led force with units from the United Kingdom, the Netherlands, Hanover, Brunswick, and Nassau, under the command of the Duke of Wellington (often referred to as the Anglo-allied army or Wellington's army). The other comprised three corps of the Prussian army under Field Marshal von Blücher (the fourth corps of this army fought at the Battle of Wavre on the same day). The battle was known contemporarily as the Battle of Mont Saint-Jean in France or La Belle Alliance (\"the Beautiful Alliance\") in Prussia.Upon Napoleon's return to power in March 1815 (beginning the Hundred Days), many states that had previously opposed him formed the Seventh Coalition and hurriedly mobilised their armies. Wellington's and Blücher's armies were cantoned close to the northeastern border of France. Napoleon planned to attack them separately, before they could link up and invade France with other members of the coalition.\n",
            "On 16 June, Napoleon successfully attacked the bulk of the Prussian army at the Battle of Ligny with his main force, while a small portion of the French army contested the Battle of Quatre Bras to prevent the Anglo-allied army from reinforcing the Prussians. The Anglo-allied army held their ground at Quatre Bras, and on the 17th, the Prussians withdrew from Ligny in good order, while Wellington then withdrew in parallel with the Prussians northward to Waterloo on 17 June. Napoleon sent a third of his forces to pursue the Prussians, which resulted in the separate Battle of Wavre with the Prussian rear-guard on 18–19 June, and prevented that French force from participating at Waterloo.\n",
            "Upon learning that the Prussian army was able to support him, Wellington decided to offer battle on the Mont-Saint-Jean escarpment across the Brussels road, near the village of Waterloo. Here he withstood repeated attacks by the French throughout the afternoon of 18 June and almost lost the battle, but was eventually aided by the progressively arriving 50,000 Prussians who attacked the French flank and inflicted heavy casualties. In the evening, Napoleon assaulted the Anglo-allied line with his last reserves, the senior infantry battalions of the Imperial Guard. With the Prussians breaking through on the French right flank, the Anglo-allied army repulsed the Imperial Guard, and the French army was routed.\n",
            "Waterloo was the decisive engagement of the Waterloo campaign and Napoleon's last. It was also the second bloodiest single day battle of the Napoleonic Wars, after Borodino. According to Wellington, the battle was \"the nearest-run thing you ever saw in your life\". Napoleon abdicated four days later, and coalition forces entered Paris on 7 July. The defeat at Waterloo marked the end of Napoleon's Hundred Days return from exile. It precipitated Napoleon's second and definitive abdication as Emperor of the French, and ended the First French Empire. It set a historical  milestone between serial European wars and decades of relative peace, often referred to as the Pax Britannica.  In popular culture, the phrase \"meeting one's Waterloo\" has become an expression for someone suffering a final defeat, as in the ABBA song \"Waterloo\".\n",
            "The battlefield is located in the Belgian municipalities of Braine-l'Alleud and Lasne, about 15 kilometres (9.3 mi) south of Brussels, and about 2 kilometres (1.2 mi) from the town of Waterloo. The site of the battlefield today is dominated by the monument of the Lion's Mound, a large artificial hill constructed from earth taken from the battlefield itself, but the topography of the battlefield near the mound has not been preserved.\n",
            "\n",
            "Page: Order of battle of \u001b[0m\n",
            "Thought:\u001b[32;1m\u001b[1;3m I need to find out who the leaders were.\n",
            "Action: Wikipedia\n",
            "Action Input: Order of battle of Waterloo\u001b[0m\n",
            "Observation: \u001b[36;1m\u001b[1;3mPage: Order of battle of the Waterloo campaign\n",
            "Summary: This is the complete order of battle for the four major battles of the Waterloo campaign.\n",
            "\n",
            "Page: Battle of Waterloo\n",
            "Summary: The Battle of Waterloo (Dutch pronunciation: [ˈʋaːtərloː] ) was fought on Sunday 18 June 1815, near Waterloo (at that time in the United Kingdom of the Netherlands, now in Belgium), marking  the end of the Napoleonic Wars. A French army under the command of Napoleon was defeated by two armies of the Seventh Coalition. One of these was a British-led force with units from the United Kingdom, the Netherlands, Hanover, Brunswick, and Nassau, under the command of the Duke of Wellington (often referred to as the Anglo-allied army or Wellington's army). The other comprised three corps of the Prussian army under Field Marshal von Blücher (the fourth corps of this army fought at the Battle of Wavre on the same day). The battle was known contemporarily as the Battle of Mont Saint-Jean in France or La Belle Alliance (\"the Beautiful Alliance\") in Prussia.Upon Napoleon's return to power in March 1815 (beginning the Hundred Days), many states that had previously opposed him formed the Seventh Coalition and hurriedly mobilised their armies. Wellington's and Blücher's armies were cantoned close to the northeastern border of France. Napoleon planned to attack them separately, before they could link up and invade France with other members of the coalition.\n",
            "On 16 June, Napoleon successfully attacked the bulk of the Prussian army at the Battle of Ligny with his main force, while a small portion of the French army contested the Battle of Quatre Bras to prevent the Anglo-allied army from reinforcing the Prussians. The Anglo-allied army held their ground at Quatre Bras, and on the 17th, the Prussians withdrew from Ligny in good order, while Wellington then withdrew in parallel with the Prussians northward to Waterloo on 17 June. Napoleon sent a third of his forces to pursue the Prussians, which resulted in the separate Battle of Wavre with the Prussian rear-guard on 18–19 June, and prevented that French force from participating at Waterloo.\n",
            "Upon learning that the Prussian army was able to support him, Wellington decided to offer battle on the Mont-Saint-Jean escarpment across the Brussels road, near the village of Waterloo. Here he withstood repeated attacks by the French throughout the afternoon of 18 June and almost lost the battle, but was eventually aided by the progressively arriving 50,000 Prussians who attacked the French flank and inflicted heavy casualties. In the evening, Napoleon assaulted the Anglo-allied line with his last reserves, the senior infantry battalions of the Imperial Guard. With the Prussians breaking through on the French right flank, the Anglo-allied army repulsed the Imperial Guard, and the French army was routed.\n",
            "Waterloo was the decisive engagement of the Waterloo campaign and Napoleon's last. It was also the second bloodiest single day battle of the Napoleonic Wars, after Borodino. According to Wellington, the battle was \"the nearest-run thing you ever saw in your life\". Napoleon abdicated four days later, and coalition forces entered Paris on 7 July. The defeat at Waterloo marked the end of Napoleon's Hundred Days return from exile. It precipitated Napoleon's second and definitive abdication as Emperor of the French, and ended the First French Empire. It set a historical  milestone between serial European wars and decades of relative peace, often referred to as the Pax Britannica.  In popular culture, the phrase \"meeting one's Waterloo\" has become an expression for someone suffering a final defeat, as in the ABBA song \"Waterloo\".\n",
            "The battlefield is located in the Belgian municipalities of Braine-l'Alleud and Lasne, about 15 kilometres (9.3 mi) south of Brussels, and about 2 kilometres (1.2 mi) from the town of Waterloo. The site of the battlefield today is dominated by the monument of the Lion's Mound, a large artificial hill constructed fr\u001b[0m\n",
            "Thought:\u001b[32;1m\u001b[1;3m I now know the final answer.\n",
            "Final Answer: The Battle of Waterloo was fought on Sunday 18 June 1815, near Waterloo (at that time in the United Kingdom of the Netherlands, now in Belgium). The French army was led by Napoleon and the two armies of the Seventh Coalition were led by the Duke of Wellington and Field Marshal von Blücher.\u001b[0m\n",
            "\n",
            "\u001b[1m> Finished chain.\u001b[0m\n",
            "\n",
            "\n",
            "\u001b[1m> Entering new AgentExecutor chain...\u001b[0m\n",
            "\u001b[32;1m\u001b[1;3m I need to find out when the war was fought and when India got independence\n",
            "Action: Wikipedia\n",
            "Action Input: First war of Indian independence\u001b[0m\n",
            "Observation: \u001b[36;1m\u001b[1;3mPage: Indian Rebellion of 1857\n",
            "Summary: The Indian Rebellion of 1857 was a major uprising in India in 1857–58 against the rule of the British East India Company, which functioned as a sovereign power on behalf of the British Crown. The rebellion began on 10 May 1857 in the form of a mutiny of sepoys of the Company's army in the garrison town of Meerut, 40 mi (64 km) northeast of Delhi. It then erupted into other mutinies and civilian rebellions chiefly in the upper Gangetic plain and central India, though incidents of revolt also occurred farther north and east. The rebellion posed a military threat to British power in that region, and was contained only with the rebels' defeat in Gwalior on 20 June 1858. On 1 November 1858, the British granted amnesty to all rebels not involved in murder, though they did not declare the hostilities to have formally ended until 8 July 1859. \n",
            "The name of the revolt is contested, and it is variously described as the Sepoy Mutiny, the Indian Mutiny, the Great Rebellion, the Revolt of 1857, the Indian Insurrection, and the First War of Independence.The Indian rebellion was fed by resentments born of diverse perceptions, including invasive British-style social reforms, harsh land taxes, summary treatment of some rich landowners and princes, as well as scepticism about the improvements brought about by British rule. Many Indians rose against the British; however, many also fought for the British, and the majority remained seemingly compliant to British rule. Violence, which sometimes betrayed exceptional cruelty, was inflicted on both sides, on British officers, and civilians, including women and children, by the rebels, and on the rebels, and their supporters, including sometimes entire villages, by British reprisals; the cities of Delhi and Lucknow were laid waste in the fighting and the British retaliation.After the outbreak of the mutiny in Meerut, the rebels quickly reached Delhi, whose 81-year-old Mughal ruler, Bahadur Shah Zafar, was declared the Emperor of Hindustan. Soon, the rebels had captured large tracts of the North-Western Provinces and Awadh (Oudh). The East India Company's response came rapidly as well. With help from reinforcements, Kanpur was retaken by mid-July 1857, and Delhi by the end of September. However, it then took the remainder of 1857 and the better part of 1858 for the rebellion to be suppressed in Jhansi, Lucknow, and especially the Awadh countryside. Other regions of Company-controlled India—Bengal province, the Bombay Presidency, and the Madras Presidency—remained largely calm. In the Punjab, the Sikh princes crucially helped the British by providing both soldiers and support. The large princely states, Hyderabad, Mysore, Travancore, and Kashmir, as well as the smaller ones of Rajputana, did not join the rebellion, serving the British, in the Governor-General Lord Canning's words, as \"breakwaters in a storm\".In some regions, most notably in Awadh, the rebellion took on the attributes of a patriotic revolt against British oppression. However, the rebel leaders proclaimed no articles of faith that presaged a new political system. Even so, the rebellion proved to be an important watershed in Indian and British Empire history. It led to the dissolution of the East India Company, and forced the British to reorganize the army, the financial system, and the administration in India, through passage of the Government of India Act 1858. India was thereafter administered directly by the British government in the new British Raj. On 1 November 1858, Queen Victoria issued a proclamation to Indians, which while lacking the authority of a constitutional provision, promised rights similar to those of other British subjects. In the following decades, when admission to these rights was not always forthcoming, Indians were to pointedly refer to the Queen's proclamation in growing avowals of a new nationalism.\n",
            "\n",
            "Page: Names of the Indian Rebellion of 1857\n",
            "Summary: The Indian Rebellion o\u001b[0m\n",
            "Thought:\u001b[32;1m\u001b[1;3m I need to find out when India got independence\n",
            "Action: Wikipedia\n",
            "Action Input: Indian independence\u001b[0m"
          ]
        },
        {
          "output_type": "stream",
          "name": "stderr",
          "text": [
            "/usr/local/lib/python3.10/dist-packages/wikipedia/wikipedia.py:389: GuessedAtParserWarning: No parser was explicitly specified, so I'm using the best available HTML parser for this system (\"lxml\"). This usually isn't a problem, but if you run this code on another system, or in a different virtual environment, it may use a different parser and behave differently.\n",
            "\n",
            "The code that caused this warning is on line 389 of the file /usr/local/lib/python3.10/dist-packages/wikipedia/wikipedia.py. To get rid of this warning, pass the additional argument 'features=\"lxml\"' to the BeautifulSoup constructor.\n",
            "\n",
            "  lis = BeautifulSoup(html).find_all('li')\n"
          ]
        },
        {
          "output_type": "stream",
          "name": "stdout",
          "text": [
            "\n",
            "Observation: \u001b[36;1m\u001b[1;3mPage: Indian independence movement\n",
            "Summary: The Indian independence movement was a series of historic events with the ultimate aim of ending British rule in India also known as British Raj. It lasted until 1947.\n",
            "The first nationalistic revolutionary movement for Indian independence emerged from Bengal. It later took root in the newly formed Indian National Congress with prominent moderate leaders seeking the right to appear for Indian Civil Service examinations in British India, as well as more economic rights for natives. The first half of the 20th century saw a more radical approach towards self-rule.\n",
            "The stages of the independence struggle in the 1920s were characterized by the leadership of Mahatma Gandhi and Congress' adoption of Gandhi's policy of non-violence and civil disobedience. Some of the leading followers of Gandhi's ideology were Jawaharlal Nehru, Subhas Chandra Bose, Vallabhbhai Patel, Abdul Ghaffar Khan, Maulana Azad, and others. Intellectuals such as Rabindranath Tagore, Subramania Bharati, and Bankim Chandra Chattopadhyay spread patriotic awareness. Female leaders like Sarojini Naidu, Vijaya Lakshmi Pandit, Pritilata Waddedar, and Kasturba Gandhi promoted the emancipation of Indian women and their participation in the freedom struggle.\n",
            "Few leaders followed a more violent approach, which became especially popular after the Rowlatt Act, which permitted indefinite detention. The Act sparked protests across India, especially in the Punjab province, where they were violently suppressed in the Jallianwala Bagh massacre.\n",
            "The Indian independence movement was in constant ideological evolution. Essentially anti-colonial, it was supplemented by visions of independent, economic development with a secular, democratic, republican, and civil-libertarian political structure. After the 1930s, the movement took on a strong socialist orientation. It culminated in the Indian Independence Act 1947, which ended Crown suzerainty and partitioned British Raj into Dominion of India and Dominion of Pakistan.\n",
            "India remained a Crown Dominion until 26 January 1950, when the Constitution of India established the Republic of India. Pakistan remained a dominion until 1956 when it adopted its first constitution. In 1971, East Pakistan declared its own independence as Bangladesh.\n",
            "\n",
            "Page: Indian Rebellion of 1857\n",
            "Summary: The Indian Rebellion of 1857 was a major uprising in India in 1857–58 against the rule of the British East India Company, which functioned as a sovereign power on behalf of the British Crown. The rebellion began on 10 May 1857 in the form of a mutiny of sepoys of the Company's army in the garrison town of Meerut, 40 mi (64 km) northeast of Delhi. It then erupted into other mutinies and civilian rebellions chiefly in the upper Gangetic plain and central India, though incidents of revolt also occurred farther north and east. The rebellion posed a military threat to British power in that region, and was contained only with the rebels' defeat in Gwalior on 20 June 1858. On 1 November 1858, the British granted amnesty to all rebels not involved in murder, though they did not declare the hostilities to have formally ended until 8 July 1859. \n",
            "The name of the revolt is contested, and it is variously described as the Sepoy Mutiny, the Indian Mutiny, the Great Rebellion, the Revolt of 1857, the Indian Insurrection, and the First War of Independence.The Indian rebellion was fed by resentments born of diverse perceptions, including invasive British-style social reforms, harsh land taxes, summary treatment of some rich landowners and princes, as well as scepticism about the improvements brought about by British rule. Many Indians rose against the British; however, many also fought for the British, and the majority remained seemingly compliant to British rule. Violence, which sometimes betrayed exceptional cruelty, was inflicted on both sides, on British officers, and civilians, including women and children, by the rebels, and on the rebels\u001b[0m\n",
            "Thought:\u001b[32;1m\u001b[1;3m I now know the final answer\n",
            "Final Answer: The First War of Indian Independence was fought in 1857-1858 and India gained independence in 1947, with a time gap of 89 years.\u001b[0m\n",
            "\n",
            "\u001b[1m> Finished chain.\u001b[0m\n",
            "\n",
            "\n",
            "\u001b[1m> Entering new AgentExecutor chain...\u001b[0m\n",
            "\u001b[32;1m\u001b[1;3m I need to find out when the Han dynasty was established and how long it lasted.\n",
            "Action: Wikipedia\n",
            "Action Input: Han dynasty\u001b[0m\n",
            "Observation: \u001b[36;1m\u001b[1;3mPage: Han dynasty\n",
            "Summary: The Han dynasty (UK: , US: ; traditional Chinese: 漢朝; simplified Chinese: 汉朝; pinyin: Hàncháo) was an imperial dynasty of China (202 BC – 9 AD, 25–220 AD), established by Liu Bang and ruled by the House of Liu. The dynasty was preceded by the short-lived Qin dynasty (221–207 BC) and a warring interregnum known as the Chu–Han contention (206–202 BC), and it was succeeded by the Three Kingdoms period (220–280 AD). The dynasty was briefly interrupted by the Xin dynasty (9–23 AD) established by usurping regent Wang Mang, and is thus separated into two periods—the Western Han (202 BC – 9 AD) and the Eastern Han (25–220 AD). Spanning over four centuries, the Han dynasty is considered a golden age in Chinese history, and it has influenced the identity of the Chinese civilization ever since. Modern China's majority ethnic group refer to themselves as the \"Han people\" or \"Han Chinese\". The spoken Sinitic language and written Chinese are referred to respectively as the \"Han language\" and \"Han characters\".The emperor was at the pinnacle of Han society. He presided over the Han government but shared power with both the nobility and appointed ministers who came largely from the scholarly gentry class. The Han Empire was divided into areas directly controlled by the central government called commanderies, as well as a number of semi-autonomous kingdoms. These kingdoms gradually lost all vestiges of their independence, particularly following the Rebellion of the Seven States. From the reign of Emperor Wu (r. 141–87 BC) onward, the Chinese court officially sponsored Confucianism in education and court politics, synthesized with the cosmology of later scholars such as Dong Zhongshu. This policy endured until the fall of the Qing dynasty in 1912.\n",
            "The Han dynasty saw an age of economic prosperity and witnessed a significant growth of the money economy first established during the Zhou dynasty (c. 1050–256 BC). The coinage minted by the central government in 119 BC remained the standard coinage of China until the Tang dynasty (618–907 AD). The period saw a number of limited institutional innovations. To finance its military campaigns and the settlement of newly conquered frontier territories, the Han government nationalized the private salt and iron industries in 117 BC, though these government monopolies were later repealed during the Eastern Han dynasty. Science and technology during the Han period saw significant advances, including the process of papermaking, the nautical steering ship rudder, the use of negative numbers in mathematics, the raised-relief map, the hydraulic-powered armillary sphere for astronomy, and a seismometer employing an inverted pendulum that could be used to discern the cardinal direction of distant earthquakes.\n",
            "The Han dynasty had many conflicts with the Xiongnu, a nomadic confederation centered in the eastern Eurasian steppe. The Xiongnu defeated the Han in 200 BC, prompting the Han to appease the Xiongnu with a policy of marriage alliance and payments of tribute, though the Xiongnu continued to raid the Han's northern borders. Han policy changed in 133 BC, under Emperor Wu, when Han forces began a series of military campaigns to quell the Xiongnu. The Han ultimately defeated the Xiongnu, forcing them to accept vassal status as Han tributaries, and the Xiongnu confederation fragmented. The Han conquered the Hexi Corridor and Inner Asian territory of the Tarim Basin from the Xiongnu, helping to establish the vast trade network known as the Silk Road. The lands north of the Han's borders were later overrun by the nomadic Xianbei confederation. Emperor Wu also launched successful conquests in the south, annexing Nanyue in 111 BC and Dian in 109 BC. He further expanded Han territory into the northern Korean Peninsula, where Han forces conquered Gojoseon and established the Xuantu and Lelang Commanderies in 108 BC. After 92 AD, the palace eunuchs increasingly involved themselves in the dynasty's\u001b[0m\n",
            "Thought:\u001b[32;1m\u001b[1;3m I now know when the Han dynasty was established and how long it lasted.\n",
            "Final Answer: The Han dynasty was established in 202 BC and lasted until 220 AD, spanning over four centuries.\u001b[0m\n",
            "\n",
            "\u001b[1m> Finished chain.\u001b[0m\n",
            "\n",
            "\n",
            "\u001b[1m> Entering new AgentExecutor chain...\u001b[0m\n",
            "\u001b[32;1m\u001b[1;3m I need to find out when the war was fought and who was involved\n",
            "Action: Wikipedia\n",
            "Action Input: Spanish Civil War\u001b[0m\n",
            "Observation: \u001b[36;1m\u001b[1;3mPage: Spanish Civil War\n",
            "Summary: The Spanish Civil War (Spanish: Guerra Civil Española) was fought from 1936 to 1939 between the Republicans and the Nationalists. Republicans were loyal to the left-leaning Popular Front government of the Second Spanish Republic, and consisted of various socialist, communist, separatist, anarchist, and republican parties, some of which had opposed the government in the pre-war period. The opposing Nationalists were an alliance of Falangists, monarchists, conservatives, and traditionalists led by a military junta among whom General Francisco Franco quickly achieved a preponderant role. Due to the international political climate at the time, the war had many facets and was variously viewed as class struggle, a religious struggle, a struggle between dictatorship and republican democracy, between revolution and counterrevolution, and between fascism and communism. According to Claude Bowers, U.S. ambassador to Spain during the war, it was the \"dress rehearsal\" for World War II. The Nationalists won the war, which ended in early 1939, and ruled Spain until Franco's death in November 1975.\n",
            "The war began after the partial failure of the coup d'état of July 1936 against the Republican government by a group of generals of the Spanish Republican Armed Forces, with General Emilio Mola as the primary planner and leader and having General José Sanjurjo as a figurehead. The government at the time was a coalition of Republicans, supported in the Cortes by communist and socialist parties, under the leadership of centre-left President Manuel Azaña. The Nationalist faction was supported by a number of conservative groups, including CEDA, monarchists, including both the opposing Alfonsists and the religious conservative Carlists, and the Falange Española de las JONS, a fascist political party. After the deaths of Sanjurjo, Emilio Mola and Manuel Goded Llopis, Franco emerged as the remaining leader of the Nationalist side.\n",
            "The coup was supported by military units in Morocco, Pamplona, Burgos, Zaragoza, Valladolid, Cádiz, Córdoba, and Seville. However, rebelling units in almost all important cities—such as Madrid, Barcelona, Valencia, Bilbao, and Málaga—did not gain control, and those cities remained under the control of the government. This left Spain militarily and politically divided. The Nationalists and the Republican government fought for control of the country. The Nationalist forces received munitions, soldiers, and air support from Fascist Italy, Nazi Germany and Portugal, while the Republican side received support from the Soviet Union and Mexico. Other countries, such as the United Kingdom, France, and the United States, continued to recognise the Republican government but followed an official policy of non-intervention. Despite this policy, tens of thousands of citizens from non-interventionist countries directly participated in the conflict. They fought mostly in the pro-Republican International Brigades, which also included several thousand exiles from pro-Nationalist regimes.\n",
            "The Nationalists advanced from their strongholds in the south and west, capturing most of Spain's northern coastline in 1937. They also besieged Madrid and the area to its south and west for much of the war. After much of Catalonia was captured in 1938 and 1939, and Madrid cut off from Barcelona, the Republican military position became hopeless. Following the fall without resistance of Barcelona in January 1939, the Francoist regime was recognised by France and the United Kingdom in February 1939. On 5 March 1939, in response to an alleged increasing communist dominance of the republican government and the deteriorating military situation, Colonel Segismundo Casado led a military coup against the Republican government, with the intention of seeking peace with the Nationalists. These peace overtures, however, were rejected by Franco. Following internal conflict between Republican factions in Madrid in the same month, Franco enter\u001b[0m\n",
            "Thought:\u001b[32;1m\u001b[1;3m I now know the general timeline of the Spanish Civil War and who was involved\n",
            "Final Answer: The Spanish Civil War was fought from 1936 to 1939 between the Republicans and the Nationalists. Republicans were loyal to the left-leaning Popular Front government of the Second Spanish Republic, and consisted of various socialist, communist, separatist, anarchist, and republican parties, while the Nationalists were an alliance of Falangists, monarchists, conservatives, and traditionalists led by a military junta among whom General Francisco Franco quickly achieved a preponderant role. The Nationalists won the war in early 1939.\u001b[0m\n",
            "\n",
            "\u001b[1m> Finished chain.\u001b[0m\n",
            "\n",
            "\n",
            "\u001b[1m> Entering new AgentExecutor chain...\u001b[0m\n",
            "\u001b[32;1m\u001b[1;3m I need to find out when and which countries were involved in the First Hundred Year War.\n",
            "Action: Wikipedia\n",
            "Action Input: First Hundred Year War\u001b[0m\n",
            "Observation: \u001b[36;1m\u001b[1;3mPage: Hundred Years' War\n",
            "Summary: The Hundred Years' War (French: Guerre de Cent Ans; 1337–1453) was a series of armed conflicts fought between the kingdoms of England and France during the Late Middle Ages. It originated from English claims to the French throne. The war grew into a broader power struggle involving factions from across Western Europe, fueled by emerging nationalism on both sides. The periodization of the war takes place over 116 years, wherein the war was interrupted by several years of truces.\n",
            "The Hundred Years' War was a significant conflict in the Middle Ages. During the war, five generations of kings from two rival dynasties fought for the throne of France, which was then the dominant kingdom in Western Europe. The war had a lasting effect on European history. Both sides produced innovations in military technology and tactics, including professional standing armies and artillery, that permanently changed warfare in Europe; chivalry, which reached its height during the conflict, subsequently declined. Stronger national identities took root in both countries, which became more centralised and gradually rose as global powers.The term \"Hundred Years' War\" was adopted by later historians as a historiographical periodisation to encompass related conflicts, constructing the longest military conflict in European history. The war is commonly divided into three phases separated by truces: the Edwardian War (1337–1360), the Caroline War (1369–1389), and the Lancastrian War (1415–1453). Each side drew many allies into the conflict, with English forces initially prevailing; however, the French forces under the House of Valois ultimately retained control over the Kingdom of France. The French and English monarchies, previously intertwined, thereafter remained separate.\n",
            "\n",
            "Page: Hundred Years' War, 1369–1389\n",
            "Summary: The Caroline War was the second phase of the Hundred Years' War between France and England, following the Edwardian War. It was so-named after Charles V of France, who resumed the war nine years after the Treaty of Brétigny (signed 1360). The Kingdom of France dominated this phase of the war.\n",
            "The Black Prince, eldest son and heir of Edward III of England, spent a huge sum of money in order to restore Peter the Cruel to the throne of Castile. The Castilian King was unable to repay him, however, so the Black Prince raised taxes in his domains in Aquitaine. The people's complaints were unheeded, so they appealed to the French King Charles V. In May 1369, the Black Prince received summons from the French king demanding his presence in Paris. The prince refused, and Charles responded by declaring war. He immediately set out to reverse the territorial losses imposed at Brétigny and he was largely successful in his lifetime. His successor, Charles VI, made peace with the son of the Black Prince, Richard II, in 1389. This truce was extended many times until the war was resumed in 1415.\n",
            "\n",
            "Page: Hundred Years' War, 1415–1453\n",
            "Summary: The Lancastrian War was the third and final phase of the Hundred Years' War between England and France. It lasted from 1415, when King Henry V of England invaded Normandy, to 1453, when the English lost Bordeaux. It followed a long period of peace from the end of the Caroline War in 1389. The phase is named after the House of Lancaster, the ruling house of the Kingdom of England, to which Henry V belonged.\n",
            "The first half of this phase of the war was dominated by the Kingdom of England. Initial English successes, notably at the famous Battle of Agincourt, coupled with divisions among the French ruling class, allowed the English to gain control of large parts of France. In 1420, the Treaty of Troyes was signed, by which the English king married the French princess Catherine and was made regent of the kingdom and heir to the throne of France. A victory on paper was thus achieved by the English, with their claims now having legal standing. Some of the French nobility refused to recognise the agr\u001b[0m\n",
            "Thought:\u001b[32;1m\u001b[1;3m I now know the final answer\n",
            "Final Answer: The First Hundred Year War was fought from 1337 to 1453 between the kingdoms of England and France.\u001b[0m\n",
            "\n",
            "\u001b[1m> Finished chain.\u001b[0m\n",
            "\n",
            "\n",
            "\u001b[1m> Entering new AgentExecutor chain...\u001b[0m\n",
            "\u001b[32;1m\u001b[1;3m I need to find out when the war was fought and who was involved.\n",
            "Action: Wikipedia\n",
            "Action Input: American Civil War\u001b[0m\n",
            "Observation: \u001b[36;1m\u001b[1;3mPage: American Civil War\n",
            "Summary: The American Civil War (April 12, 1861 – May 26, 1865; also known by other names) was a civil war in the United States between the Union (\"the North\") and the Confederacy (\"the South\"), which had been formed by states that had seceded from the Union. The cause of the war was the dispute over whether slavery would be permitted to expand into the western territories, leading to more slave states, or be prevented from doing so, which many believed would place slavery on a course of ultimate extinction.\n",
            "Decades of political controversy over slavery were brought to a head by the victory in the 1860 U.S. presidential election of Abraham Lincoln, who opposed slavery's expansion into the western territories. Seven southern slave states responded to Lincoln's victory by seceding from the United States and forming the Confederacy. The Confederacy seized U.S. forts and other federal assets within their borders. Four more southern states seceded after the war began and, led by Confederate President Jefferson Davis, the Confederacy asserted control over about a third of the U.S. population in eleven states. Four years of intense combat, mostly in the South, ensued.\n",
            "During 1861–1862 in the Western Theater, the Union made significant permanent gains—though in the Eastern Theater the conflict was inconclusive. The abolition of slavery became a Union war goal on January 1, 1863, when Lincoln issued the Emancipation Proclamation, which declared all slaves in rebel states to be free, which applied to more than 3.5 million of the 4 million enslaved people in the country. To the west, the Union first destroyed the Confederacy's river navy by the summer of 1862, then much of its western armies, and later seized New Orleans. The successful 1863 Union siege of Vicksburg split the Confederacy in two at the Mississippi River. In 1863, Confederate General Robert E. Lee's incursion north ended at the Battle of Gettysburg. Western successes led to General Ulysses S. Grant's command of all Union armies in 1864. Inflicting an ever-tightening naval blockade of Confederate ports, the Union marshaled resources and manpower to attack the Confederacy from all directions. This led to the fall of Atlanta in 1864 to Union General William Tecumseh Sherman, followed by his March to the Sea. The last significant battles raged around the ten-month Siege of Petersburg, gateway to the Confederate capital of Richmond. The Confederates abandoned Richmond, and on April 9, 1865, Lee surrendered to Grant following the Battle of Appomattox Court House, setting in motion the end of the war.\n",
            "A wave of Confederate surrenders followed. On April 14, just five days after Lee's surrender, Lincoln was assassinated. On May 26, the last military department of the Confederacy, the Department of the Trans-Mississippi, effectively surrendered, but the conclusion of the American Civil War lacks a clear end date, and Appomattox is often symbolically referred to. Small confederate ground forces continued surrendering past the May 26 surrender date until June 23. By the end of the war, much of the South's infrastructure was destroyed, especially its railroads. The Confederacy collapsed, slavery was abolished, and four million enslaved black people were freed. The war-torn nation then entered the Reconstruction era in an attempt to rebuild the country, bring the former Confederate states back into the United States, and grant civil rights to freed slaves.\n",
            "The Civil War is one of the most extensively studied and written about episodes in U.S. history. It remains the subject of cultural and historiographical debate. Of particular interest is the persisting myth of the Lost Cause of the Confederacy. The American Civil War was among the first wars to use industrial warfare. Railroads, the telegraph, steamships, the ironclad warship, and mass-produced weapons were all widely used during the war. In total, the war left between 620,000 and 750,000 soldiers dead, along\u001b[0m\n",
            "Thought:\u001b[32;1m\u001b[1;3m I now know the general information about the American Civil War.\n",
            "Final Answer: The American Civil War was fought from April 12, 1861 to May 26, 1865 between the Union (\"the North\") and the Confederacy (\"the South\"), which had been formed by states that had seceded from the Union. The cause of the war was the dispute over whether slavery would be permitted to expand into the western territories. The war left between 620,000 and 750,000 soldiers dead.\u001b[0m\n",
            "\n",
            "\u001b[1m> Finished chain.\u001b[0m\n",
            "\n",
            "\n",
            "\u001b[1m> Entering new AgentExecutor chain...\u001b[0m\n",
            "\u001b[32;1m\u001b[1;3m I need to find out when the battle was fought and who the leaders were.\n",
            "Action: Wikipedia\n",
            "Action Input: Battle of Waterloo\u001b[0m"
          ]
        },
        {
          "output_type": "stream",
          "name": "stderr",
          "text": [
            "/usr/local/lib/python3.10/dist-packages/wikipedia/wikipedia.py:389: GuessedAtParserWarning: No parser was explicitly specified, so I'm using the best available HTML parser for this system (\"lxml\"). This usually isn't a problem, but if you run this code on another system, or in a different virtual environment, it may use a different parser and behave differently.\n",
            "\n",
            "The code that caused this warning is on line 389 of the file /usr/local/lib/python3.10/dist-packages/wikipedia/wikipedia.py. To get rid of this warning, pass the additional argument 'features=\"lxml\"' to the BeautifulSoup constructor.\n",
            "\n",
            "  lis = BeautifulSoup(html).find_all('li')\n"
          ]
        },
        {
          "output_type": "stream",
          "name": "stdout",
          "text": [
            "\n",
            "Observation: \u001b[36;1m\u001b[1;3mPage: Battle of Waterloo\n",
            "Summary: The Battle of Waterloo (Dutch pronunciation: [ˈʋaːtərloː] ) was fought on Sunday 18 June 1815, near Waterloo (at that time in the United Kingdom of the Netherlands, now in Belgium), marking  the end of the Napoleonic Wars. A French army under the command of Napoleon was defeated by two armies of the Seventh Coalition. One of these was a British-led force with units from the United Kingdom, the Netherlands, Hanover, Brunswick, and Nassau, under the command of the Duke of Wellington (often referred to as the Anglo-allied army or Wellington's army). The other comprised three corps of the Prussian army under Field Marshal von Blücher (the fourth corps of this army fought at the Battle of Wavre on the same day). The battle was known contemporarily as the Battle of Mont Saint-Jean in France or La Belle Alliance (\"the Beautiful Alliance\") in Prussia.Upon Napoleon's return to power in March 1815 (beginning the Hundred Days), many states that had previously opposed him formed the Seventh Coalition and hurriedly mobilised their armies. Wellington's and Blücher's armies were cantoned close to the northeastern border of France. Napoleon planned to attack them separately, before they could link up and invade France with other members of the coalition.\n",
            "On 16 June, Napoleon successfully attacked the bulk of the Prussian army at the Battle of Ligny with his main force, while a small portion of the French army contested the Battle of Quatre Bras to prevent the Anglo-allied army from reinforcing the Prussians. The Anglo-allied army held their ground at Quatre Bras, and on the 17th, the Prussians withdrew from Ligny in good order, while Wellington then withdrew in parallel with the Prussians northward to Waterloo on 17 June. Napoleon sent a third of his forces to pursue the Prussians, which resulted in the separate Battle of Wavre with the Prussian rear-guard on 18–19 June, and prevented that French force from participating at Waterloo.\n",
            "Upon learning that the Prussian army was able to support him, Wellington decided to offer battle on the Mont-Saint-Jean escarpment across the Brussels road, near the village of Waterloo. Here he withstood repeated attacks by the French throughout the afternoon of 18 June and almost lost the battle, but was eventually aided by the progressively arriving 50,000 Prussians who attacked the French flank and inflicted heavy casualties. In the evening, Napoleon assaulted the Anglo-allied line with his last reserves, the senior infantry battalions of the Imperial Guard. With the Prussians breaking through on the French right flank, the Anglo-allied army repulsed the Imperial Guard, and the French army was routed.\n",
            "Waterloo was the decisive engagement of the Waterloo campaign and Napoleon's last. It was also the second bloodiest single day battle of the Napoleonic Wars, after Borodino. According to Wellington, the battle was \"the nearest-run thing you ever saw in your life\". Napoleon abdicated four days later, and coalition forces entered Paris on 7 July. The defeat at Waterloo marked the end of Napoleon's Hundred Days return from exile. It precipitated Napoleon's second and definitive abdication as Emperor of the French, and ended the First French Empire. It set a historical  milestone between serial European wars and decades of relative peace, often referred to as the Pax Britannica.  In popular culture, the phrase \"meeting one's Waterloo\" has become an expression for someone suffering a final defeat, as in the ABBA song \"Waterloo\".\n",
            "The battlefield is located in the Belgian municipalities of Braine-l'Alleud and Lasne, about 15 kilometres (9.3 mi) south of Brussels, and about 2 kilometres (1.2 mi) from the town of Waterloo. The site of the battlefield today is dominated by the monument of the Lion's Mound, a large artificial hill constructed from earth taken from the battlefield itself, but the topography of the battlefield near the mound has not been preserved.\n",
            "\n",
            "Page: Order of battle of \u001b[0m\n",
            "Thought:\u001b[32;1m\u001b[1;3m I need to find out who the leaders were.\n",
            "Action: Wikipedia\n",
            "Action Input: Order of battle of Waterloo\u001b[0m\n",
            "Observation: \u001b[36;1m\u001b[1;3mPage: Order of battle of the Waterloo campaign\n",
            "Summary: This is the complete order of battle for the four major battles of the Waterloo campaign.\n",
            "\n",
            "Page: Battle of Waterloo\n",
            "Summary: The Battle of Waterloo (Dutch pronunciation: [ˈʋaːtərloː] ) was fought on Sunday 18 June 1815, near Waterloo (at that time in the United Kingdom of the Netherlands, now in Belgium), marking  the end of the Napoleonic Wars. A French army under the command of Napoleon was defeated by two armies of the Seventh Coalition. One of these was a British-led force with units from the United Kingdom, the Netherlands, Hanover, Brunswick, and Nassau, under the command of the Duke of Wellington (often referred to as the Anglo-allied army or Wellington's army). The other comprised three corps of the Prussian army under Field Marshal von Blücher (the fourth corps of this army fought at the Battle of Wavre on the same day). The battle was known contemporarily as the Battle of Mont Saint-Jean in France or La Belle Alliance (\"the Beautiful Alliance\") in Prussia.Upon Napoleon's return to power in March 1815 (beginning the Hundred Days), many states that had previously opposed him formed the Seventh Coalition and hurriedly mobilised their armies. Wellington's and Blücher's armies were cantoned close to the northeastern border of France. Napoleon planned to attack them separately, before they could link up and invade France with other members of the coalition.\n",
            "On 16 June, Napoleon successfully attacked the bulk of the Prussian army at the Battle of Ligny with his main force, while a small portion of the French army contested the Battle of Quatre Bras to prevent the Anglo-allied army from reinforcing the Prussians. The Anglo-allied army held their ground at Quatre Bras, and on the 17th, the Prussians withdrew from Ligny in good order, while Wellington then withdrew in parallel with the Prussians northward to Waterloo on 17 June. Napoleon sent a third of his forces to pursue the Prussians, which resulted in the separate Battle of Wavre with the Prussian rear-guard on 18–19 June, and prevented that French force from participating at Waterloo.\n",
            "Upon learning that the Prussian army was able to support him, Wellington decided to offer battle on the Mont-Saint-Jean escarpment across the Brussels road, near the village of Waterloo. Here he withstood repeated attacks by the French throughout the afternoon of 18 June and almost lost the battle, but was eventually aided by the progressively arriving 50,000 Prussians who attacked the French flank and inflicted heavy casualties. In the evening, Napoleon assaulted the Anglo-allied line with his last reserves, the senior infantry battalions of the Imperial Guard. With the Prussians breaking through on the French right flank, the Anglo-allied army repulsed the Imperial Guard, and the French army was routed.\n",
            "Waterloo was the decisive engagement of the Waterloo campaign and Napoleon's last. It was also the second bloodiest single day battle of the Napoleonic Wars, after Borodino. According to Wellington, the battle was \"the nearest-run thing you ever saw in your life\". Napoleon abdicated four days later, and coalition forces entered Paris on 7 July. The defeat at Waterloo marked the end of Napoleon's Hundred Days return from exile. It precipitated Napoleon's second and definitive abdication as Emperor of the French, and ended the First French Empire. It set a historical  milestone between serial European wars and decades of relative peace, often referred to as the Pax Britannica.  In popular culture, the phrase \"meeting one's Waterloo\" has become an expression for someone suffering a final defeat, as in the ABBA song \"Waterloo\".\n",
            "The battlefield is located in the Belgian municipalities of Braine-l'Alleud and Lasne, about 15 kilometres (9.3 mi) south of Brussels, and about 2 kilometres (1.2 mi) from the town of Waterloo. The site of the battlefield today is dominated by the monument of the Lion's Mound, a large artificial hill constructed fr\u001b[0m\n",
            "Thought:\u001b[32;1m\u001b[1;3m I now know the final answer.\n",
            "Final Answer: The Battle of Waterloo was fought on Sunday 18 June 1815, near Waterloo (at that time in the United Kingdom of the Netherlands, now in Belgium). The French army was led by Napoleon and the two armies of the Seventh Coalition were led by the Duke of Wellington and Field Marshal von Blücher.\u001b[0m\n",
            "\n",
            "\u001b[1m> Finished chain.\u001b[0m\n",
            "Serial executed in 76.99 seconds.\n",
            "\n",
            "\n",
            "\u001b[1m> Entering new AgentExecutor chain...\u001b[0m\n",
            "\n",
            "\n",
            "\u001b[1m> Entering new AgentExecutor chain...\u001b[0m\n",
            "\n",
            "\n",
            "\u001b[1m> Entering new AgentExecutor chain...\u001b[0m\n",
            "\n",
            "\n",
            "\u001b[1m> Entering new AgentExecutor chain...\u001b[0m\n",
            "\n",
            "\n",
            "\u001b[1m> Entering new AgentExecutor chain...\u001b[0m\n",
            "\n",
            "\n",
            "\u001b[1m> Entering new AgentExecutor chain...\u001b[0m\n",
            "\n",
            "\n",
            "\u001b[1m> Entering new AgentExecutor chain...\u001b[0m\n",
            "\n",
            "\n",
            "\u001b[1m> Entering new AgentExecutor chain...\u001b[0m\n",
            "\n",
            "\n",
            "\u001b[1m> Entering new AgentExecutor chain...\u001b[0m\n",
            "\u001b[32;1m\u001b[1;3m I need to find out when the war was fought and who was involved.\n",
            "Action: Wikipedia\n",
            "Action Input: American Civil War\u001b[0m\u001b[32;1m\u001b[1;3m I need to find out when the Han dynasty was established and how long it lasted.\n",
            "Action: Wikipedia\n",
            "Action Input: Han dynasty\u001b[0m\u001b[32;1m\u001b[1;3m I need to find out when and which countries were involved in the First Hundred Year War.\n",
            "Action: Wikipedia\n",
            "Action Input: First Hundred Year War\u001b[0m\u001b[32;1m\u001b[1;3m I need to find out when and which countries were involved in the First Hundred Year War.\n",
            "Action: Wikipedia\n",
            "Action Input: First Hundred Year War\u001b[0m\u001b[32;1m\u001b[1;3m I need to find out when the war was fought and who was involved\n",
            "Action: Wikipedia\n",
            "Action Input: Spanish Civil War\u001b[0m\u001b[32;1m\u001b[1;3m I need to find out when the battle was fought and who the leaders were.\n",
            "Action: Wikipedia\n",
            "Action Input: Battle of Waterloo\u001b[0m"
          ]
        },
        {
          "output_type": "stream",
          "name": "stderr",
          "text": [
            "/usr/local/lib/python3.10/dist-packages/wikipedia/wikipedia.py:389: GuessedAtParserWarning: No parser was explicitly specified, so I'm using the best available HTML parser for this system (\"lxml\"). This usually isn't a problem, but if you run this code on another system, or in a different virtual environment, it may use a different parser and behave differently.\n",
            "\n",
            "The code that caused this warning is on line 389 of the file /usr/local/lib/python3.10/dist-packages/wikipedia/wikipedia.py. To get rid of this warning, pass the additional argument 'features=\"lxml\"' to the BeautifulSoup constructor.\n",
            "\n",
            "  lis = BeautifulSoup(html).find_all('li')\n"
          ]
        },
        {
          "output_type": "stream",
          "name": "stdout",
          "text": [
            "\n",
            "Observation: \u001b[36;1m\u001b[1;3mPage: Han dynasty\n",
            "Summary: The Han dynasty (UK: , US: ; traditional Chinese: 漢朝; simplified Chinese: 汉朝; pinyin: Hàncháo) was an imperial dynasty of China (202 BC – 9 AD, 25–220 AD), established by Liu Bang and ruled by the House of Liu. The dynasty was preceded by the short-lived Qin dynasty (221–207 BC) and a warring interregnum known as the Chu–Han contention (206–202 BC), and it was succeeded by the Three Kingdoms period (220–280 AD). The dynasty was briefly interrupted by the Xin dynasty (9–23 AD) established by usurping regent Wang Mang, and is thus separated into two periods—the Western Han (202 BC – 9 AD) and the Eastern Han (25–220 AD). Spanning over four centuries, the Han dynasty is considered a golden age in Chinese history, and it has influenced the identity of the Chinese civilization ever since. Modern China's majority ethnic group refer to themselves as the \"Han people\" or \"Han Chinese\". The spoken Sinitic language and written Chinese are referred to respectively as the \"Han language\" and \"Han characters\".The emperor was at the pinnacle of Han society. He presided over the Han government but shared power with both the nobility and appointed ministers who came largely from the scholarly gentry class. The Han Empire was divided into areas directly controlled by the central government called commanderies, as well as a number of semi-autonomous kingdoms. These kingdoms gradually lost all vestiges of their independence, particularly following the Rebellion of the Seven States. From the reign of Emperor Wu (r. 141–87 BC) onward, the Chinese court officially sponsored Confucianism in education and court politics, synthesized with the cosmology of later scholars such as Dong Zhongshu. This policy endured until the fall of the Qing dynasty in 1912.\n",
            "The Han dynasty saw an age of economic prosperity and witnessed a significant growth of the money economy first established during the Zhou dynasty (c. 1050–256 BC). The coinage minted by the central government in 119 BC remained the standard coinage of China until the Tang dynasty (618–907 AD). The period saw a number of limited institutional innovations. To finance its military campaigns and the settlement of newly conquered frontier territories, the Han government nationalized the private salt and iron industries in 117 BC, though these government monopolies were later repealed during the Eastern Han dynasty. Science and technology during the Han period saw significant advances, including the process of papermaking, the nautical steering ship rudder, the use of negative numbers in mathematics, the raised-relief map, the hydraulic-powered armillary sphere for astronomy, and a seismometer employing an inverted pendulum that could be used to discern the cardinal direction of distant earthquakes.\n",
            "The Han dynasty had many conflicts with the Xiongnu, a nomadic confederation centered in the eastern Eurasian steppe. The Xiongnu defeated the Han in 200 BC, prompting the Han to appease the Xiongnu with a policy of marriage alliance and payments of tribute, though the Xiongnu continued to raid the Han's northern borders. Han policy changed in 133 BC, under Emperor Wu, when Han forces began a series of military campaigns to quell the Xiongnu. The Han ultimately defeated the Xiongnu, forcing them to accept vassal status as Han tributaries, and the Xiongnu confederation fragmented. The Han conquered the Hexi Corridor and Inner Asian territory of the Tarim Basin from the Xiongnu, helping to establish the vast trade network known as the Silk Road. The lands north of the Han's borders were later overrun by the nomadic Xianbei confederation. Emperor Wu also launched successful conquests in the south, annexing Nanyue in 111 BC and Dian in 109 BC. He further expanded Han territory into the northern Korean Peninsula, where Han forces conquered Gojoseon and established the Xuantu and Lelang Commanderies in 108 BC. After 92 AD, the palace eunuchs increasingly involved themselves in the dynasty's\u001b[0m\n",
            "Thought:\u001b[32;1m\u001b[1;3m I need to find out when the war was fought and when India got independence\n",
            "Action: Wikipedia\n",
            "Action Input: First war of Indian independence\u001b[0m\u001b[32;1m\u001b[1;3m I need to find out when the war was fought and who was involved.\n",
            "Action: Wikipedia\n",
            "Action Input: American Civil War\u001b[0m\u001b[32;1m\u001b[1;3m I need to find out when the battle was fought and who the leaders were.\n",
            "Action: Wikipedia\n",
            "Action Input: Battle of Waterloo\u001b[0m\n",
            "Observation: \u001b[36;1m\u001b[1;3mPage: American Civil War\n",
            "Summary: The American Civil War (April 12, 1861 – May 26, 1865; also known by other names) was a civil war in the United States between the Union (\"the North\") and the Confederacy (\"the South\"), which had been formed by states that had seceded from the Union. The cause of the war was the dispute over whether slavery would be permitted to expand into the western territories, leading to more slave states, or be prevented from doing so, which many believed would place slavery on a course of ultimate extinction.\n",
            "Decades of political controversy over slavery were brought to a head by the victory in the 1860 U.S. presidential election of Abraham Lincoln, who opposed slavery's expansion into the western territories. Seven southern slave states responded to Lincoln's victory by seceding from the United States and forming the Confederacy. The Confederacy seized U.S. forts and other federal assets within their borders. Four more southern states seceded after the war began and, led by Confederate President Jefferson Davis, the Confederacy asserted control over about a third of the U.S. population in eleven states. Four years of intense combat, mostly in the South, ensued.\n",
            "During 1861–1862 in the Western Theater, the Union made significant permanent gains—though in the Eastern Theater the conflict was inconclusive. The abolition of slavery became a Union war goal on January 1, 1863, when Lincoln issued the Emancipation Proclamation, which declared all slaves in rebel states to be free, which applied to more than 3.5 million of the 4 million enslaved people in the country. To the west, the Union first destroyed the Confederacy's river navy by the summer of 1862, then much of its western armies, and later seized New Orleans. The successful 1863 Union siege of Vicksburg split the Confederacy in two at the Mississippi River. In 1863, Confederate General Robert E. Lee's incursion north ended at the Battle of Gettysburg. Western successes led to General Ulysses S. Grant's command of all Union armies in 1864. Inflicting an ever-tightening naval blockade of Confederate ports, the Union marshaled resources and manpower to attack the Confederacy from all directions. This led to the fall of Atlanta in 1864 to Union General William Tecumseh Sherman, followed by his March to the Sea. The last significant battles raged around the ten-month Siege of Petersburg, gateway to the Confederate capital of Richmond. The Confederates abandoned Richmond, and on April 9, 1865, Lee surrendered to Grant following the Battle of Appomattox Court House, setting in motion the end of the war.\n",
            "A wave of Confederate surrenders followed. On April 14, just five days after Lee's surrender, Lincoln was assassinated. On May 26, the last military department of the Confederacy, the Department of the Trans-Mississippi, effectively surrendered, but the conclusion of the American Civil War lacks a clear end date, and Appomattox is often symbolically referred to. Small confederate ground forces continued surrendering past the May 26 surrender date until June 23. By the end of the war, much of the South's infrastructure was destroyed, especially its railroads. The Confederacy collapsed, slavery was abolished, and four million enslaved black people were freed. The war-torn nation then entered the Reconstruction era in an attempt to rebuild the country, bring the former Confederate states back into the United States, and grant civil rights to freed slaves.\n",
            "The Civil War is one of the most extensively studied and written about episodes in U.S. history. It remains the subject of cultural and historiographical debate. Of particular interest is the persisting myth of the Lost Cause of the Confederacy. The American Civil War was among the first wars to use industrial warfare. Railroads, the telegraph, steamships, the ironclad warship, and mass-produced weapons were all widely used during the war. In total, the war left between 620,000 and 750,000 soldiers dead, along\u001b[0m\n",
            "Thought:\n",
            "Observation: \u001b[36;1m\u001b[1;3mPage: Battle of Waterloo\n",
            "Summary: The Battle of Waterloo (Dutch pronunciation: [ˈʋaːtərloː] ) was fought on Sunday 18 June 1815, near Waterloo (at that time in the United Kingdom of the Netherlands, now in Belgium), marking  the end of the Napoleonic Wars. A French army under the command of Napoleon was defeated by two armies of the Seventh Coalition. One of these was a British-led force with units from the United Kingdom, the Netherlands, Hanover, Brunswick, and Nassau, under the command of the Duke of Wellington (often referred to as the Anglo-allied army or Wellington's army). The other comprised three corps of the Prussian army under Field Marshal von Blücher (the fourth corps of this army fought at the Battle of Wavre on the same day). The battle was known contemporarily as the Battle of Mont Saint-Jean in France or La Belle Alliance (\"the Beautiful Alliance\") in Prussia.Upon Napoleon's return to power in March 1815 (beginning the Hundred Days), many states that had previously opposed him formed the Seventh Coalition and hurriedly mobilised their armies. Wellington's and Blücher's armies were cantoned close to the northeastern border of France. Napoleon planned to attack them separately, before they could link up and invade France with other members of the coalition.\n",
            "On 16 June, Napoleon successfully attacked the bulk of the Prussian army at the Battle of Ligny with his main force, while a small portion of the French army contested the Battle of Quatre Bras to prevent the Anglo-allied army from reinforcing the Prussians. The Anglo-allied army held their ground at Quatre Bras, and on the 17th, the Prussians withdrew from Ligny in good order, while Wellington then withdrew in parallel with the Prussians northward to Waterloo on 17 June. Napoleon sent a third of his forces to pursue the Prussians, which resulted in the separate Battle of Wavre with the Prussian rear-guard on 18–19 June, and prevented that French force from participating at Waterloo.\n",
            "Upon learning that the Prussian army was able to support him, Wellington decided to offer battle on the Mont-Saint-Jean escarpment across the Brussels road, near the village of Waterloo. Here he withstood repeated attacks by the French throughout the afternoon of 18 June and almost lost the battle, but was eventually aided by the progressively arriving 50,000 Prussians who attacked the French flank and inflicted heavy casualties. In the evening, Napoleon assaulted the Anglo-allied line with his last reserves, the senior infantry battalions of the Imperial Guard. With the Prussians breaking through on the French right flank, the Anglo-allied army repulsed the Imperial Guard, and the French army was routed.\n",
            "Waterloo was the decisive engagement of the Waterloo campaign and Napoleon's last. It was also the second bloodiest single day battle of the Napoleonic Wars, after Borodino. According to Wellington, the battle was \"the nearest-run thing you ever saw in your life\". Napoleon abdicated four days later, and coalition forces entered Paris on 7 July. The defeat at Waterloo marked the end of Napoleon's Hundred Days return from exile. It precipitated Napoleon's second and definitive abdication as Emperor of the French, and ended the First French Empire. It set a historical  milestone between serial European wars and decades of relative peace, often referred to as the Pax Britannica.  In popular culture, the phrase \"meeting one's Waterloo\" has become an expression for someone suffering a final defeat, as in the ABBA song \"Waterloo\".\n",
            "The battlefield is located in the Belgian municipalities of Braine-l'Alleud and Lasne, about 15 kilometres (9.3 mi) south of Brussels, and about 2 kilometres (1.2 mi) from the town of Waterloo. The site of the battlefield today is dominated by the monument of the Lion's Mound, a large artificial hill constructed from earth taken from the battlefield itself, but the topography of the battlefield near the mound has not been preserved.\n",
            "\n",
            "Page: Order of battle of \u001b[0m\n",
            "Thought:\n",
            "Observation: \u001b[36;1m\u001b[1;3mPage: Spanish Civil War\n",
            "Summary: The Spanish Civil War (Spanish: Guerra Civil Española) was fought from 1936 to 1939 between the Republicans and the Nationalists. Republicans were loyal to the left-leaning Popular Front government of the Second Spanish Republic, and consisted of various socialist, communist, separatist, anarchist, and republican parties, some of which had opposed the government in the pre-war period. The opposing Nationalists were an alliance of Falangists, monarchists, conservatives, and traditionalists led by a military junta among whom General Francisco Franco quickly achieved a preponderant role. Due to the international political climate at the time, the war had many facets and was variously viewed as class struggle, a religious struggle, a struggle between dictatorship and republican democracy, between revolution and counterrevolution, and between fascism and communism. According to Claude Bowers, U.S. ambassador to Spain during the war, it was the \"dress rehearsal\" for World War II. The Nationalists won the war, which ended in early 1939, and ruled Spain until Franco's death in November 1975.\n",
            "The war began after the partial failure of the coup d'état of July 1936 against the Republican government by a group of generals of the Spanish Republican Armed Forces, with General Emilio Mola as the primary planner and leader and having General José Sanjurjo as a figurehead. The government at the time was a coalition of Republicans, supported in the Cortes by communist and socialist parties, under the leadership of centre-left President Manuel Azaña. The Nationalist faction was supported by a number of conservative groups, including CEDA, monarchists, including both the opposing Alfonsists and the religious conservative Carlists, and the Falange Española de las JONS, a fascist political party. After the deaths of Sanjurjo, Emilio Mola and Manuel Goded Llopis, Franco emerged as the remaining leader of the Nationalist side.\n",
            "The coup was supported by military units in Morocco, Pamplona, Burgos, Zaragoza, Valladolid, Cádiz, Córdoba, and Seville. However, rebelling units in almost all important cities—such as Madrid, Barcelona, Valencia, Bilbao, and Málaga—did not gain control, and those cities remained under the control of the government. This left Spain militarily and politically divided. The Nationalists and the Republican government fought for control of the country. The Nationalist forces received munitions, soldiers, and air support from Fascist Italy, Nazi Germany and Portugal, while the Republican side received support from the Soviet Union and Mexico. Other countries, such as the United Kingdom, France, and the United States, continued to recognise the Republican government but followed an official policy of non-intervention. Despite this policy, tens of thousands of citizens from non-interventionist countries directly participated in the conflict. They fought mostly in the pro-Republican International Brigades, which also included several thousand exiles from pro-Nationalist regimes.\n",
            "The Nationalists advanced from their strongholds in the south and west, capturing most of Spain's northern coastline in 1937. They also besieged Madrid and the area to its south and west for much of the war. After much of Catalonia was captured in 1938 and 1939, and Madrid cut off from Barcelona, the Republican military position became hopeless. Following the fall without resistance of Barcelona in January 1939, the Francoist regime was recognised by France and the United Kingdom in February 1939. On 5 March 1939, in response to an alleged increasing communist dominance of the republican government and the deteriorating military situation, Colonel Segismundo Casado led a military coup against the Republican government, with the intention of seeking peace with the Nationalists. These peace overtures, however, were rejected by Franco. Following internal conflict between Republican factions in Madrid in the same month, Franco enter\u001b[0m\n",
            "Thought:\n",
            "Observation: \u001b[36;1m\u001b[1;3mPage: Hundred Years' War\n",
            "Summary: The Hundred Years' War (French: Guerre de Cent Ans; 1337–1453) was a series of armed conflicts fought between the kingdoms of England and France during the Late Middle Ages. It originated from English claims to the French throne. The war grew into a broader power struggle involving factions from across Western Europe, fueled by emerging nationalism on both sides. The periodization of the war takes place over 116 years, wherein the war was interrupted by several years of truces.\n",
            "The Hundred Years' War was a significant conflict in the Middle Ages. During the war, five generations of kings from two rival dynasties fought for the throne of France, which was then the dominant kingdom in Western Europe. The war had a lasting effect on European history. Both sides produced innovations in military technology and tactics, including professional standing armies and artillery, that permanently changed warfare in Europe; chivalry, which reached its height during the conflict, subsequently declined. Stronger national identities took root in both countries, which became more centralised and gradually rose as global powers.The term \"Hundred Years' War\" was adopted by later historians as a historiographical periodisation to encompass related conflicts, constructing the longest military conflict in European history. The war is commonly divided into three phases separated by truces: the Edwardian War (1337–1360), the Caroline War (1369–1389), and the Lancastrian War (1415–1453). Each side drew many allies into the conflict, with English forces initially prevailing; however, the French forces under the House of Valois ultimately retained control over the Kingdom of France. The French and English monarchies, previously intertwined, thereafter remained separate.\n",
            "\n",
            "Page: Hundred Years' War, 1369–1389\n",
            "Summary: The Caroline War was the second phase of the Hundred Years' War between France and England, following the Edwardian War. It was so-named after Charles V of France, who resumed the war nine years after the Treaty of Brétigny (signed 1360). The Kingdom of France dominated this phase of the war.\n",
            "The Black Prince, eldest son and heir of Edward III of England, spent a huge sum of money in order to restore Peter the Cruel to the throne of Castile. The Castilian King was unable to repay him, however, so the Black Prince raised taxes in his domains in Aquitaine. The people's complaints were unheeded, so they appealed to the French King Charles V. In May 1369, the Black Prince received summons from the French king demanding his presence in Paris. The prince refused, and Charles responded by declaring war. He immediately set out to reverse the territorial losses imposed at Brétigny and he was largely successful in his lifetime. His successor, Charles VI, made peace with the son of the Black Prince, Richard II, in 1389. This truce was extended many times until the war was resumed in 1415.\n",
            "\n",
            "Page: Bladestorm: The Hundred Years' War\n",
            "Summary: Bladestorm: The Hundred Years' War is a historical real-time tactics video game for the PlayStation 3 and Xbox 360 platforms. It was published by Koei and developed by Omega Force. An enhanced expansion remake, entitled Bladestorm: Nightmare was released for PlayStation 3, PlayStation 4, and Xbox One in Japan on January 29, 2015, and in March 2015 for the rest of the world. The worldwide Microsoft Windows release was on May 29, 2015. The game is loosely based on the Hundred Years' War between the Kingdoms of England and France in the 14th and 15th centuries. Just like the Kessen and Musou series from Koei, certain liberties are taken from the original history. For example, unlike what happened in real life, it is possible to save Joan of Arc from being burned at the stake. The Nightmare edition features creatures like dragons and goblins in an alternate storyline.\u001b[0m\n",
            "Thought:\n",
            "Observation: \u001b[36;1m\u001b[1;3mPage: Hundred Years' War\n",
            "Summary: The Hundred Years' War (French: Guerre de Cent Ans; 1337–1453) was a series of armed conflicts fought between the kingdoms of England and France during the Late Middle Ages. It originated from English claims to the French throne. The war grew into a broader power struggle involving factions from across Western Europe, fueled by emerging nationalism on both sides. The periodization of the war takes place over 116 years, wherein the war was interrupted by several years of truces.\n",
            "The Hundred Years' War was a significant conflict in the Middle Ages. During the war, five generations of kings from two rival dynasties fought for the throne of France, which was then the dominant kingdom in Western Europe. The war had a lasting effect on European history. Both sides produced innovations in military technology and tactics, including professional standing armies and artillery, that permanently changed warfare in Europe; chivalry, which reached its height during the conflict, subsequently declined. Stronger national identities took root in both countries, which became more centralised and gradually rose as global powers.The term \"Hundred Years' War\" was adopted by later historians as a historiographical periodisation to encompass related conflicts, constructing the longest military conflict in European history. The war is commonly divided into three phases separated by truces: the Edwardian War (1337–1360), the Caroline War (1369–1389), and the Lancastrian War (1415–1453). Each side drew many allies into the conflict, with English forces initially prevailing; however, the French forces under the House of Valois ultimately retained control over the Kingdom of France. The French and English monarchies, previously intertwined, thereafter remained separate.\n",
            "\n",
            "Page: Hundred Years' War, 1369–1389\n",
            "Summary: The Caroline War was the second phase of the Hundred Years' War between France and England, following the Edwardian War. It was so-named after Charles V of France, who resumed the war nine years after the Treaty of Brétigny (signed 1360). The Kingdom of France dominated this phase of the war.\n",
            "The Black Prince, eldest son and heir of Edward III of England, spent a huge sum of money in order to restore Peter the Cruel to the throne of Castile. The Castilian King was unable to repay him, however, so the Black Prince raised taxes in his domains in Aquitaine. The people's complaints were unheeded, so they appealed to the French King Charles V. In May 1369, the Black Prince received summons from the French king demanding his presence in Paris. The prince refused, and Charles responded by declaring war. He immediately set out to reverse the territorial losses imposed at Brétigny and he was largely successful in his lifetime. His successor, Charles VI, made peace with the son of the Black Prince, Richard II, in 1389. This truce was extended many times until the war was resumed in 1415.\n",
            "\n",
            "Page: Bladestorm: The Hundred Years' War\n",
            "Summary: Bladestorm: The Hundred Years' War is a historical real-time tactics video game for the PlayStation 3 and Xbox 360 platforms. It was published by Koei and developed by Omega Force. An enhanced expansion remake, entitled Bladestorm: Nightmare was released for PlayStation 3, PlayStation 4, and Xbox One in Japan on January 29, 2015, and in March 2015 for the rest of the world. The worldwide Microsoft Windows release was on May 29, 2015. The game is loosely based on the Hundred Years' War between the Kingdoms of England and France in the 14th and 15th centuries. Just like the Kessen and Musou series from Koei, certain liberties are taken from the original history. For example, unlike what happened in real life, it is possible to save Joan of Arc from being burned at the stake. The Nightmare edition features creatures like dragons and goblins in an alternate storyline.\u001b[0m\n",
            "Thought:\u001b[32;1m\u001b[1;3m I now know when the Han dynasty was established and how long it lasted.\n",
            "Final Answer: The Han dynasty was established in 202 BC and lasted until 220 AD, spanning over four centuries.\u001b[0m\n",
            "\n",
            "\u001b[1m> Finished chain.\u001b[0m\n",
            "\u001b[32;1m\u001b[1;3m I need to find out who the leaders were.\n",
            "Action: Wikipedia\n",
            "Action Input: Order of battle of Waterloo\u001b[0m\u001b[32;1m\u001b[1;3m I now know the final answer\n",
            "Final Answer: The First Hundred Year War was fought between the Kingdoms of England and France from 1337 to 1453. It was divided into three phases: the Edwardian War (1337–1360), the Caroline War (1369–1389), and the Lancastrian War (1415–1453).\u001b[0m\n",
            "\n",
            "\u001b[1m> Finished chain.\u001b[0m\n",
            "\u001b[32;1m\u001b[1;3m I now know the general information about the American Civil War.\n",
            "Final Answer: The American Civil War was fought from April 12, 1861 to May 26, 1865 between the Union (\"the North\") and the Confederacy (\"the South\"), which had been formed by states that had seceded from the Union. The cause of the war was the dispute over whether slavery would be permitted to expand into the western territories. The war left between 620,000 and 750,000 soldiers dead.\u001b[0m\n",
            "\n",
            "\u001b[1m> Finished chain.\u001b[0m\n",
            "\u001b[32;1m\u001b[1;3m I now know the final answer\n",
            "Final Answer: The First Hundred Year War was fought between the Kingdoms of England and France from 1337 to 1453. It was divided into three phases: the Edwardian War (1337–1360), the Caroline War (1369–1389), and the Lancastrian War (1415–1453).\u001b[0m\n",
            "\n",
            "\u001b[1m> Finished chain.\u001b[0m\n",
            "\u001b[32;1m\u001b[1;3m I now know the general timeline of the Spanish Civil War and who was involved\n",
            "Final Answer: The Spanish Civil War was fought from 1936 to 1939 between the Republicans and the Nationalists. Republicans were loyal to the left-leaning Popular Front government of the Second Spanish Republic, and consisted of various socialist, communist, separatist, anarchist, and republican parties, while the Nationalists were an alliance of Falangists, monarchists, conservatives, and traditionalists led by a military junta among whom General Francisco Franco quickly achieved a preponderant role.\u001b[0m\n",
            "\n",
            "\u001b[1m> Finished chain.\u001b[0m\n"
          ]
        },
        {
          "output_type": "stream",
          "name": "stderr",
          "text": [
            "/usr/local/lib/python3.10/dist-packages/wikipedia/wikipedia.py:389: GuessedAtParserWarning: No parser was explicitly specified, so I'm using the best available HTML parser for this system (\"lxml\"). This usually isn't a problem, but if you run this code on another system, or in a different virtual environment, it may use a different parser and behave differently.\n",
            "\n",
            "The code that caused this warning is on line 389 of the file /usr/local/lib/python3.10/dist-packages/wikipedia/wikipedia.py. To get rid of this warning, pass the additional argument 'features=\"lxml\"' to the BeautifulSoup constructor.\n",
            "\n",
            "  lis = BeautifulSoup(html).find_all('li')\n"
          ]
        },
        {
          "output_type": "stream",
          "name": "stdout",
          "text": [
            "\n",
            "Observation: \u001b[36;1m\u001b[1;3mPage: American Civil War\n",
            "Summary: The American Civil War (April 12, 1861 – May 26, 1865; also known by other names) was a civil war in the United States between the Union (\"the North\") and the Confederacy (\"the South\"), which had been formed by states that had seceded from the Union. The cause of the war was the dispute over whether slavery would be permitted to expand into the western territories, leading to more slave states, or be prevented from doing so, which many believed would place slavery on a course of ultimate extinction.\n",
            "Decades of political controversy over slavery were brought to a head by the victory in the 1860 U.S. presidential election of Abraham Lincoln, who opposed slavery's expansion into the western territories. Seven southern slave states responded to Lincoln's victory by seceding from the United States and forming the Confederacy. The Confederacy seized U.S. forts and other federal assets within their borders. Four more southern states seceded after the war began and, led by Confederate President Jefferson Davis, the Confederacy asserted control over about a third of the U.S. population in eleven states. Four years of intense combat, mostly in the South, ensued.\n",
            "During 1861–1862 in the Western Theater, the Union made significant permanent gains—though in the Eastern Theater the conflict was inconclusive. The abolition of slavery became a Union war goal on January 1, 1863, when Lincoln issued the Emancipation Proclamation, which declared all slaves in rebel states to be free, which applied to more than 3.5 million of the 4 million enslaved people in the country. To the west, the Union first destroyed the Confederacy's river navy by the summer of 1862, then much of its western armies, and later seized New Orleans. The successful 1863 Union siege of Vicksburg split the Confederacy in two at the Mississippi River. In 1863, Confederate General Robert E. Lee's incursion north ended at the Battle of Gettysburg. Western successes led to General Ulysses S. Grant's command of all Union armies in 1864. Inflicting an ever-tightening naval blockade of Confederate ports, the Union marshaled resources and manpower to attack the Confederacy from all directions. This led to the fall of Atlanta in 1864 to Union General William Tecumseh Sherman, followed by his March to the Sea. The last significant battles raged around the ten-month Siege of Petersburg, gateway to the Confederate capital of Richmond. The Confederates abandoned Richmond, and on April 9, 1865, Lee surrendered to Grant following the Battle of Appomattox Court House, setting in motion the end of the war.\n",
            "A wave of Confederate surrenders followed. On April 14, just five days after Lee's surrender, Lincoln was assassinated. On May 26, the last military department of the Confederacy, the Department of the Trans-Mississippi, effectively surrendered, but the conclusion of the American Civil War lacks a clear end date, and Appomattox is often symbolically referred to. Small confederate ground forces continued surrendering past the May 26 surrender date until June 23. By the end of the war, much of the South's infrastructure was destroyed, especially its railroads. The Confederacy collapsed, slavery was abolished, and four million enslaved black people were freed. The war-torn nation then entered the Reconstruction era in an attempt to rebuild the country, bring the former Confederate states back into the United States, and grant civil rights to freed slaves.\n",
            "The Civil War is one of the most extensively studied and written about episodes in U.S. history. It remains the subject of cultural and historiographical debate. Of particular interest is the persisting myth of the Lost Cause of the Confederacy. The American Civil War was among the first wars to use industrial warfare. Railroads, the telegraph, steamships, the ironclad warship, and mass-produced weapons were all widely used during the war. In total, the war left between 620,000 and 750,000 soldiers dead, along\u001b[0m\n",
            "Thought:\n",
            "Observation: \u001b[36;1m\u001b[1;3mPage: Battle of Waterloo\n",
            "Summary: The Battle of Waterloo (Dutch pronunciation: [ˈʋaːtərloː] ) was fought on Sunday 18 June 1815, near Waterloo (at that time in the United Kingdom of the Netherlands, now in Belgium), marking  the end of the Napoleonic Wars. A French army under the command of Napoleon was defeated by two armies of the Seventh Coalition. One of these was a British-led force with units from the United Kingdom, the Netherlands, Hanover, Brunswick, and Nassau, under the command of the Duke of Wellington (often referred to as the Anglo-allied army or Wellington's army). The other comprised three corps of the Prussian army under Field Marshal von Blücher (the fourth corps of this army fought at the Battle of Wavre on the same day). The battle was known contemporarily as the Battle of Mont Saint-Jean in France or La Belle Alliance (\"the Beautiful Alliance\") in Prussia.Upon Napoleon's return to power in March 1815 (beginning the Hundred Days), many states that had previously opposed him formed the Seventh Coalition and hurriedly mobilised their armies. Wellington's and Blücher's armies were cantoned close to the northeastern border of France. Napoleon planned to attack them separately, before they could link up and invade France with other members of the coalition.\n",
            "On 16 June, Napoleon successfully attacked the bulk of the Prussian army at the Battle of Ligny with his main force, while a small portion of the French army contested the Battle of Quatre Bras to prevent the Anglo-allied army from reinforcing the Prussians. The Anglo-allied army held their ground at Quatre Bras, and on the 17th, the Prussians withdrew from Ligny in good order, while Wellington then withdrew in parallel with the Prussians northward to Waterloo on 17 June. Napoleon sent a third of his forces to pursue the Prussians, which resulted in the separate Battle of Wavre with the Prussian rear-guard on 18–19 June, and prevented that French force from participating at Waterloo.\n",
            "Upon learning that the Prussian army was able to support him, Wellington decided to offer battle on the Mont-Saint-Jean escarpment across the Brussels road, near the village of Waterloo. Here he withstood repeated attacks by the French throughout the afternoon of 18 June and almost lost the battle, but was eventually aided by the progressively arriving 50,000 Prussians who attacked the French flank and inflicted heavy casualties. In the evening, Napoleon assaulted the Anglo-allied line with his last reserves, the senior infantry battalions of the Imperial Guard. With the Prussians breaking through on the French right flank, the Anglo-allied army repulsed the Imperial Guard, and the French army was routed.\n",
            "Waterloo was the decisive engagement of the Waterloo campaign and Napoleon's last. It was also the second bloodiest single day battle of the Napoleonic Wars, after Borodino. According to Wellington, the battle was \"the nearest-run thing you ever saw in your life\". Napoleon abdicated four days later, and coalition forces entered Paris on 7 July. The defeat at Waterloo marked the end of Napoleon's Hundred Days return from exile. It precipitated Napoleon's second and definitive abdication as Emperor of the French, and ended the First French Empire. It set a historical  milestone between serial European wars and decades of relative peace, often referred to as the Pax Britannica.  In popular culture, the phrase \"meeting one's Waterloo\" has become an expression for someone suffering a final defeat, as in the ABBA song \"Waterloo\".\n",
            "The battlefield is located in the Belgian municipalities of Braine-l'Alleud and Lasne, about 15 kilometres (9.3 mi) south of Brussels, and about 2 kilometres (1.2 mi) from the town of Waterloo. The site of the battlefield today is dominated by the monument of the Lion's Mound, a large artificial hill constructed from earth taken from the battlefield itself, but the topography of the battlefield near the mound has not been preserved.\n",
            "\n",
            "Page: Order of battle of \u001b[0m\n",
            "Thought:"
          ]
        },
        {
          "output_type": "stream",
          "name": "stderr",
          "text": [
            "/usr/local/lib/python3.10/dist-packages/wikipedia/wikipedia.py:389: GuessedAtParserWarning: No parser was explicitly specified, so I'm using the best available HTML parser for this system (\"lxml\"). This usually isn't a problem, but if you run this code on another system, or in a different virtual environment, it may use a different parser and behave differently.\n",
            "\n",
            "The code that caused this warning is on line 389 of the file /usr/local/lib/python3.10/dist-packages/wikipedia/wikipedia.py. To get rid of this warning, pass the additional argument 'features=\"lxml\"' to the BeautifulSoup constructor.\n",
            "\n",
            "  lis = BeautifulSoup(html).find_all('li')\n"
          ]
        },
        {
          "output_type": "stream",
          "name": "stdout",
          "text": [
            "\n",
            "Observation: \u001b[36;1m\u001b[1;3mPage: Indian Rebellion of 1857\n",
            "Summary: The Indian Rebellion of 1857 was a major uprising in India in 1857–58 against the rule of the British East India Company, which functioned as a sovereign power on behalf of the British Crown. The rebellion began on 10 May 1857 in the form of a mutiny of sepoys of the Company's army in the garrison town of Meerut, 40 mi (64 km) northeast of Delhi. It then erupted into other mutinies and civilian rebellions chiefly in the upper Gangetic plain and central India, though incidents of revolt also occurred farther north and east. The rebellion posed a military threat to British power in that region, and was contained only with the rebels' defeat in Gwalior on 20 June 1858. On 1 November 1858, the British granted amnesty to all rebels not involved in murder, though they did not declare the hostilities to have formally ended until 8 July 1859. \n",
            "The name of the revolt is contested, and it is variously described as the Sepoy Mutiny, the Indian Mutiny, the Great Rebellion, the Revolt of 1857, the Indian Insurrection, and the First War of Independence.The Indian rebellion was fed by resentments born of diverse perceptions, including invasive British-style social reforms, harsh land taxes, summary treatment of some rich landowners and princes, as well as scepticism about the improvements brought about by British rule. Many Indians rose against the British; however, many also fought for the British, and the majority remained seemingly compliant to British rule. Violence, which sometimes betrayed exceptional cruelty, was inflicted on both sides, on British officers, and civilians, including women and children, by the rebels, and on the rebels, and their supporters, including sometimes entire villages, by British reprisals; the cities of Delhi and Lucknow were laid waste in the fighting and the British retaliation.After the outbreak of the mutiny in Meerut, the rebels quickly reached Delhi, whose 81-year-old Mughal ruler, Bahadur Shah Zafar, was declared the Emperor of Hindustan. Soon, the rebels had captured large tracts of the North-Western Provinces and Awadh (Oudh). The East India Company's response came rapidly as well. With help from reinforcements, Kanpur was retaken by mid-July 1857, and Delhi by the end of September. However, it then took the remainder of 1857 and the better part of 1858 for the rebellion to be suppressed in Jhansi, Lucknow, and especially the Awadh countryside. Other regions of Company-controlled India—Bengal province, the Bombay Presidency, and the Madras Presidency—remained largely calm. In the Punjab, the Sikh princes crucially helped the British by providing both soldiers and support. The large princely states, Hyderabad, Mysore, Travancore, and Kashmir, as well as the smaller ones of Rajputana, did not join the rebellion, serving the British, in the Governor-General Lord Canning's words, as \"breakwaters in a storm\".In some regions, most notably in Awadh, the rebellion took on the attributes of a patriotic revolt against British oppression. However, the rebel leaders proclaimed no articles of faith that presaged a new political system. Even so, the rebellion proved to be an important watershed in Indian and British Empire history. It led to the dissolution of the East India Company, and forced the British to reorganize the army, the financial system, and the administration in India, through passage of the Government of India Act 1858. India was thereafter administered directly by the British government in the new British Raj. On 1 November 1858, Queen Victoria issued a proclamation to Indians, which while lacking the authority of a constitutional provision, promised rights similar to those of other British subjects. In the following decades, when admission to these rights was not always forthcoming, Indians were to pointedly refer to the Queen's proclamation in growing avowals of a new nationalism.\n",
            "\n",
            "Page: Names of the Indian Rebellion of 1857\n",
            "Summary: The Indian Rebellion o\u001b[0m\n",
            "Thought:\u001b[32;1m\u001b[1;3m I need to find out who the leaders were.\n",
            "Action: Wikipedia\n",
            "Action Input: Order of battle of Waterloo\u001b[0m\u001b[32;1m\u001b[1;3m I need to find out when India got independence\n",
            "Action: Wikipedia\n",
            "Action Input: Indian independence\u001b[0m\u001b[32;1m\u001b[1;3m I now know the general information about the American Civil War.\n",
            "Final Answer: The American Civil War was fought from April 12, 1861 to May 26, 1865 between the Union (\"the North\") and the Confederacy (\"the South\"), which had been formed by states that had seceded from the Union. The cause of the war was the dispute over whether slavery would be permitted to expand into the western territories. The war left between 620,000 and 750,000 soldiers dead.\u001b[0m\n",
            "\n",
            "\u001b[1m> Finished chain.\u001b[0m\n",
            "\n",
            "Observation: \u001b[36;1m\u001b[1;3mPage: Order of battle of the Waterloo campaign\n",
            "Summary: This is the complete order of battle for the four major battles of the Waterloo campaign.\n",
            "\n",
            "Page: Battle of Waterloo\n",
            "Summary: The Battle of Waterloo (Dutch pronunciation: [ˈʋaːtərloː] ) was fought on Sunday 18 June 1815, near Waterloo (at that time in the United Kingdom of the Netherlands, now in Belgium), marking  the end of the Napoleonic Wars. A French army under the command of Napoleon was defeated by two armies of the Seventh Coalition. One of these was a British-led force with units from the United Kingdom, the Netherlands, Hanover, Brunswick, and Nassau, under the command of the Duke of Wellington (often referred to as the Anglo-allied army or Wellington's army). The other comprised three corps of the Prussian army under Field Marshal von Blücher (the fourth corps of this army fought at the Battle of Wavre on the same day). The battle was known contemporarily as the Battle of Mont Saint-Jean in France or La Belle Alliance (\"the Beautiful Alliance\") in Prussia.Upon Napoleon's return to power in March 1815 (beginning the Hundred Days), many states that had previously opposed him formed the Seventh Coalition and hurriedly mobilised their armies. Wellington's and Blücher's armies were cantoned close to the northeastern border of France. Napoleon planned to attack them separately, before they could link up and invade France with other members of the coalition.\n",
            "On 16 June, Napoleon successfully attacked the bulk of the Prussian army at the Battle of Ligny with his main force, while a small portion of the French army contested the Battle of Quatre Bras to prevent the Anglo-allied army from reinforcing the Prussians. The Anglo-allied army held their ground at Quatre Bras, and on the 17th, the Prussians withdrew from Ligny in good order, while Wellington then withdrew in parallel with the Prussians northward to Waterloo on 17 June. Napoleon sent a third of his forces to pursue the Prussians, which resulted in the separate Battle of Wavre with the Prussian rear-guard on 18–19 June, and prevented that French force from participating at Waterloo.\n",
            "Upon learning that the Prussian army was able to support him, Wellington decided to offer battle on the Mont-Saint-Jean escarpment across the Brussels road, near the village of Waterloo. Here he withstood repeated attacks by the French throughout the afternoon of 18 June and almost lost the battle, but was eventually aided by the progressively arriving 50,000 Prussians who attacked the French flank and inflicted heavy casualties. In the evening, Napoleon assaulted the Anglo-allied line with his last reserves, the senior infantry battalions of the Imperial Guard. With the Prussians breaking through on the French right flank, the Anglo-allied army repulsed the Imperial Guard, and the French army was routed.\n",
            "Waterloo was the decisive engagement of the Waterloo campaign and Napoleon's last. It was also the second bloodiest single day battle of the Napoleonic Wars, after Borodino. According to Wellington, the battle was \"the nearest-run thing you ever saw in your life\". Napoleon abdicated four days later, and coalition forces entered Paris on 7 July. The defeat at Waterloo marked the end of Napoleon's Hundred Days return from exile. It precipitated Napoleon's second and definitive abdication as Emperor of the French, and ended the First French Empire. It set a historical  milestone between serial European wars and decades of relative peace, often referred to as the Pax Britannica.  In popular culture, the phrase \"meeting one's Waterloo\" has become an expression for someone suffering a final defeat, as in the ABBA song \"Waterloo\".\n",
            "The battlefield is located in the Belgian municipalities of Braine-l'Alleud and Lasne, about 15 kilometres (9.3 mi) south of Brussels, and about 2 kilometres (1.2 mi) from the town of Waterloo. The site of the battlefield today is dominated by the monument of the Lion's Mound, a large artificial hill constructed fr\u001b[0m\n",
            "Thought:\u001b[32;1m\u001b[1;3m I now know the final answer.\n",
            "Final Answer: The Battle of Waterloo was fought on Sunday 18 June 1815, near Waterloo (at that time in the United Kingdom of the Netherlands, now in Belgium). The French army was led by Napoleon and the two armies of the Seventh Coalition were led by the Duke of Wellington and Field Marshal von Blücher.\u001b[0m\n",
            "\n",
            "\u001b[1m> Finished chain.\u001b[0m\n"
          ]
        },
        {
          "output_type": "stream",
          "name": "stderr",
          "text": [
            "/usr/local/lib/python3.10/dist-packages/wikipedia/wikipedia.py:389: GuessedAtParserWarning: No parser was explicitly specified, so I'm using the best available HTML parser for this system (\"lxml\"). This usually isn't a problem, but if you run this code on another system, or in a different virtual environment, it may use a different parser and behave differently.\n",
            "\n",
            "The code that caused this warning is on line 389 of the file /usr/local/lib/python3.10/dist-packages/wikipedia/wikipedia.py. To get rid of this warning, pass the additional argument 'features=\"lxml\"' to the BeautifulSoup constructor.\n",
            "\n",
            "  lis = BeautifulSoup(html).find_all('li')\n"
          ]
        },
        {
          "output_type": "stream",
          "name": "stdout",
          "text": [
            "\n",
            "Observation: \u001b[36;1m\u001b[1;3mPage: Order of battle of the Waterloo campaign\n",
            "Summary: This is the complete order of battle for the four major battles of the Waterloo campaign.\n",
            "\n",
            "Page: Battle of Waterloo\n",
            "Summary: The Battle of Waterloo (Dutch pronunciation: [ˈʋaːtərloː] ) was fought on Sunday 18 June 1815, near Waterloo (at that time in the United Kingdom of the Netherlands, now in Belgium), marking  the end of the Napoleonic Wars. A French army under the command of Napoleon was defeated by two armies of the Seventh Coalition. One of these was a British-led force with units from the United Kingdom, the Netherlands, Hanover, Brunswick, and Nassau, under the command of the Duke of Wellington (often referred to as the Anglo-allied army or Wellington's army). The other comprised three corps of the Prussian army under Field Marshal von Blücher (the fourth corps of this army fought at the Battle of Wavre on the same day). The battle was known contemporarily as the Battle of Mont Saint-Jean in France or La Belle Alliance (\"the Beautiful Alliance\") in Prussia.Upon Napoleon's return to power in March 1815 (beginning the Hundred Days), many states that had previously opposed him formed the Seventh Coalition and hurriedly mobilised their armies. Wellington's and Blücher's armies were cantoned close to the northeastern border of France. Napoleon planned to attack them separately, before they could link up and invade France with other members of the coalition.\n",
            "On 16 June, Napoleon successfully attacked the bulk of the Prussian army at the Battle of Ligny with his main force, while a small portion of the French army contested the Battle of Quatre Bras to prevent the Anglo-allied army from reinforcing the Prussians. The Anglo-allied army held their ground at Quatre Bras, and on the 17th, the Prussians withdrew from Ligny in good order, while Wellington then withdrew in parallel with the Prussians northward to Waterloo on 17 June. Napoleon sent a third of his forces to pursue the Prussians, which resulted in the separate Battle of Wavre with the Prussian rear-guard on 18–19 June, and prevented that French force from participating at Waterloo.\n",
            "Upon learning that the Prussian army was able to support him, Wellington decided to offer battle on the Mont-Saint-Jean escarpment across the Brussels road, near the village of Waterloo. Here he withstood repeated attacks by the French throughout the afternoon of 18 June and almost lost the battle, but was eventually aided by the progressively arriving 50,000 Prussians who attacked the French flank and inflicted heavy casualties. In the evening, Napoleon assaulted the Anglo-allied line with his last reserves, the senior infantry battalions of the Imperial Guard. With the Prussians breaking through on the French right flank, the Anglo-allied army repulsed the Imperial Guard, and the French army was routed.\n",
            "Waterloo was the decisive engagement of the Waterloo campaign and Napoleon's last. It was also the second bloodiest single day battle of the Napoleonic Wars, after Borodino. According to Wellington, the battle was \"the nearest-run thing you ever saw in your life\". Napoleon abdicated four days later, and coalition forces entered Paris on 7 July. The defeat at Waterloo marked the end of Napoleon's Hundred Days return from exile. It precipitated Napoleon's second and definitive abdication as Emperor of the French, and ended the First French Empire. It set a historical  milestone between serial European wars and decades of relative peace, often referred to as the Pax Britannica.  In popular culture, the phrase \"meeting one's Waterloo\" has become an expression for someone suffering a final defeat, as in the ABBA song \"Waterloo\".\n",
            "The battlefield is located in the Belgian municipalities of Braine-l'Alleud and Lasne, about 15 kilometres (9.3 mi) south of Brussels, and about 2 kilometres (1.2 mi) from the town of Waterloo. The site of the battlefield today is dominated by the monument of the Lion's Mound, a large artificial hill constructed fr\u001b[0m\n",
            "Thought:\n",
            "Observation: \u001b[36;1m\u001b[1;3mPage: Indian independence movement\n",
            "Summary: The Indian independence movement was a series of historic events with the ultimate aim of ending British rule in India also known as British Raj. It lasted until 1947.\n",
            "The first nationalistic revolutionary movement for Indian independence emerged from Bengal. It later took root in the newly formed Indian National Congress with prominent moderate leaders seeking the right to appear for Indian Civil Service examinations in British India, as well as more economic rights for natives. The first half of the 20th century saw a more radical approach towards self-rule.\n",
            "The stages of the independence struggle in the 1920s were characterized by the leadership of Mahatma Gandhi and Congress' adoption of Gandhi's policy of non-violence and civil disobedience. Some of the leading followers of Gandhi's ideology were Jawaharlal Nehru, Subhas Chandra Bose, Vallabhbhai Patel, Abdul Ghaffar Khan, Maulana Azad, and others. Intellectuals such as Rabindranath Tagore, Subramania Bharati, and Bankim Chandra Chattopadhyay spread patriotic awareness. Female leaders like Sarojini Naidu, Vijaya Lakshmi Pandit, Pritilata Waddedar, and Kasturba Gandhi promoted the emancipation of Indian women and their participation in the freedom struggle.\n",
            "Few leaders followed a more violent approach, which became especially popular after the Rowlatt Act, which permitted indefinite detention. The Act sparked protests across India, especially in the Punjab province, where they were violently suppressed in the Jallianwala Bagh massacre.\n",
            "The Indian independence movement was in constant ideological evolution. Essentially anti-colonial, it was supplemented by visions of independent, economic development with a secular, democratic, republican, and civil-libertarian political structure. After the 1930s, the movement took on a strong socialist orientation. It culminated in the Indian Independence Act 1947, which ended Crown suzerainty and partitioned British Raj into Dominion of India and Dominion of Pakistan.\n",
            "India remained a Crown Dominion until 26 January 1950, when the Constitution of India established the Republic of India. Pakistan remained a dominion until 1956 when it adopted its first constitution. In 1971, East Pakistan declared its own independence as Bangladesh.\n",
            "\n",
            "Page: Indian Rebellion of 1857\n",
            "Summary: The Indian Rebellion of 1857 was a major uprising in India in 1857–58 against the rule of the British East India Company, which functioned as a sovereign power on behalf of the British Crown. The rebellion began on 10 May 1857 in the form of a mutiny of sepoys of the Company's army in the garrison town of Meerut, 40 mi (64 km) northeast of Delhi. It then erupted into other mutinies and civilian rebellions chiefly in the upper Gangetic plain and central India, though incidents of revolt also occurred farther north and east. The rebellion posed a military threat to British power in that region, and was contained only with the rebels' defeat in Gwalior on 20 June 1858. On 1 November 1858, the British granted amnesty to all rebels not involved in murder, though they did not declare the hostilities to have formally ended until 8 July 1859. \n",
            "The name of the revolt is contested, and it is variously described as the Sepoy Mutiny, the Indian Mutiny, the Great Rebellion, the Revolt of 1857, the Indian Insurrection, and the First War of Independence.The Indian rebellion was fed by resentments born of diverse perceptions, including invasive British-style social reforms, harsh land taxes, summary treatment of some rich landowners and princes, as well as scepticism about the improvements brought about by British rule. Many Indians rose against the British; however, many also fought for the British, and the majority remained seemingly compliant to British rule. Violence, which sometimes betrayed exceptional cruelty, was inflicted on both sides, on British officers, and civilians, including women and children, by the rebels, and on the rebels\u001b[0m\n",
            "Thought:\u001b[32;1m\u001b[1;3m I now know the final answer.\n",
            "Final Answer: The Battle of Waterloo was fought on Sunday 18 June 1815, near Waterloo (at that time in the United Kingdom of the Netherlands, now in Belgium). The French army was led by Napoleon and the two armies of the Seventh Coalition were led by the Duke of Wellington and Field Marshal von Blücher.\u001b[0m\n",
            "\n",
            "\u001b[1m> Finished chain.\u001b[0m\n",
            "\u001b[32;1m\u001b[1;3m I now know the final answer\n",
            "Final Answer: The First War of Indian Independence was fought in 1857-1858 and India gained independence in 1947, with a time gap of 89 years.\u001b[0m\n",
            "\n",
            "\u001b[1m> Finished chain.\u001b[0m\n",
            "Concurrent executed in 18.48 seconds.\n"
          ]
        }
      ]
    },
    {
      "cell_type": "markdown",
      "source": [
        "### Serial and Concurrent for 12 questions\n"
      ],
      "metadata": {
        "id": "7V99OC5HRorX"
      }
    },
    {
      "cell_type": "code",
      "source": [
        "import asyncio\n",
        "import time\n",
        "import key\n",
        "from langchain.agents import initialize_agent, load_tools\n",
        "from langchain.agents import AgentType\n",
        "from langchain.llms import OpenAI\n",
        "\n",
        "from langchain.utilities import SerpAPIWrapper\n",
        "\n",
        "\n",
        "# Set API keys from environment variables\n",
        "os.environ[\"OPENAI_API_KEY\"] = key.OPENAI_API_KEY\n",
        "\n",
        "\n",
        "# Define some history questions to be asked\n",
        "\n",
        "questions = [\n",
        "    \"When was the First Hundred Year War fought? Which countries were involved? \",\n",
        "    \"When was the American Civil war fought? Who were involved in the war? \",\n",
        "    \"When was the Battle of Waterloo fought? Who were the leaders on either side? \",\n",
        "    \"When was the First war of Indian independence fought? How many years later did India get independence? What was the time gap?\",\n",
        "    \"When was the Han dynasty established? How long did it last?\",\n",
        "    \"When was the Spanish Civil War fought? WHo were involved\",\n",
        "    \"When was the First Hundred Year War fought? Which countries were involved? \",\n",
        "    \"When was the American Civil war fought? Who were involved in the war? \",\n",
        "    \"When was the Battle of Waterloo fought? Who were the leaders on either side? \",\n",
        "    \"When was the First war of Indian independence fought? How many years later did India get independence? What was the time gap?\",\n",
        "    \"When was the Han dynasty established? How long did it last?\",\n",
        "    \"When was the Spanish Civil War fought? WHo were involved\"\n",
        "]\n",
        "\n",
        "## Serial execution ##\n",
        "\n",
        "# Initialize LangChain with OpenAI LLM and \"wikipedia\", \"llm-math\" tools\n",
        "llm = OpenAI(temperature=0)\n",
        "tools = load_tools([\"wikipedia\", \"llm-math\"], llm=llm)\n",
        "agent = initialize_agent(\n",
        "    tools, llm, agent=AgentType.ZERO_SHOT_REACT_DESCRIPTION, verbose=True\n",
        ")\n",
        "\n",
        "# Start timer\n",
        "s = time.perf_counter()\n",
        "\n",
        "# Run each question sequentially\n",
        "for q in questions:\n",
        "    agent.run(q)\n",
        "\n",
        "# Stop timer and calculate elapsed time\n",
        "elapsed = time.perf_counter() - s\n",
        "print(f\"Serial executed in {elapsed:0.2f} seconds.\")\n",
        "\n",
        "\n",
        "## Concurrent execution ##\n",
        "\n",
        "# Initialize LangChain with OpenAI LLM and \"wikipedia\", \"llm-math\" tools\n",
        "llm = OpenAI(temperature=0)\n",
        "tools = load_tools([\"wikipedia\", \"llm-math\"], llm=llm)\n",
        "agent = initialize_agent(\n",
        "    tools, llm, agent=AgentType.ZERO_SHOT_REACT_DESCRIPTION, verbose=True\n",
        ")\n",
        "\n",
        "# Start timer\n",
        "s = time.perf_counter()\n",
        "\n",
        "# Run all questions concurrently using asyncio and gather results\n",
        "tasks = [agent.arun(q) for q in questions]\n",
        "await asyncio.gather(*tasks)\n",
        "\n",
        "# Stop timer and calculate elapsed time\n",
        "elapsed = time.perf_counter() - s\n",
        "print(f\"Concurrent executed in {elapsed:0.2f} seconds.\")"
      ],
      "metadata": {
        "colab": {
          "base_uri": "https://localhost:8080/"
        },
        "id": "MDNDonmuVChY",
        "outputId": "d9cffbd4-bca7-454d-e3d7-ed042f5de25d"
      },
      "execution_count": null,
      "outputs": [
        {
          "output_type": "stream",
          "name": "stdout",
          "text": [
            "\n",
            "\n",
            "\u001b[1m> Entering new AgentExecutor chain...\u001b[0m\n",
            "\u001b[32;1m\u001b[1;3m I need to find out when and which countries were involved in the First Hundred Year War.\n",
            "Action: Wikipedia\n",
            "Action Input: First Hundred Year War\u001b[0m\n",
            "Observation: \u001b[36;1m\u001b[1;3mPage: Hundred Years' War\n",
            "Summary: The Hundred Years' War (French: Guerre de Cent Ans; 1337–1453) was a series of armed conflicts fought between the kingdoms of England and France during the Late Middle Ages. It originated from English claims to the French throne. The war grew into a broader power struggle involving factions from across Western Europe, fueled by emerging nationalism on both sides. The periodization of the war takes place over 116 years, wherein the war was interrupted by several years of truces.\n",
            "The Hundred Years' War was a significant conflict in the Middle Ages. During the war, five generations of kings from two rival dynasties fought for the throne of France, which was then the dominant kingdom in Western Europe. The war had a lasting effect on European history. Both sides produced innovations in military technology and tactics, including professional standing armies and artillery, that permanently changed warfare in Europe; chivalry, which reached its height during the conflict, subsequently declined. Stronger national identities took root in both countries, which became more centralised and gradually rose as global powers.The term \"Hundred Years' War\" was adopted by later historians as a historiographical periodisation to encompass related conflicts, constructing the longest military conflict in European history. The war is commonly divided into three phases separated by truces: the Edwardian War (1337–1360), the Caroline War (1369–1389), and the Lancastrian War (1415–1453). Each side drew many allies into the conflict, with English forces initially prevailing; however, the French forces under the House of Valois ultimately retained control over the Kingdom of France. The French and English monarchies, previously intertwined, thereafter remained separate.\n",
            "\n",
            "Page: Hundred Years' War, 1415–1453\n",
            "Summary: The Lancastrian War was the third and final phase of the Hundred Years' War between England and France. It lasted from 1415, when King Henry V of England invaded Normandy, to 1453, when the English lost Bordeaux. It followed a long period of peace from the end of the Caroline War in 1389. The phase is named after the House of Lancaster, the ruling house of the Kingdom of England, to which Henry V belonged.\n",
            "The first half of this phase of the war was dominated by the Kingdom of England. Initial English successes, notably at the famous Battle of Agincourt, coupled with divisions among the French ruling class, allowed the English to gain control of large parts of France. In 1420, the Treaty of Troyes was signed, by which the English king married the French princess Catherine and was made regent of the kingdom and heir to the throne of France. A victory on paper was thus achieved by the English, with their claims now having legal standing. Some of the French nobility refused to recognise the agreement, however, and so military subjugation was still necessary to enforce its provisions. King Henry V and, after his death, his brother John, Duke of Bedford, brought the English to the height of their power in France, with an English king crowned in Paris.\n",
            "The second half of this phase of the war was dominated by the Kingdom of France. French forces counterattacked, inspired by Joan of Arc, La Hire and the Count of Dunois, and aided by the English loss of its main allies, the Dukes of Burgundy and Brittany. Charles VII of France was crowned in Notre-Dame de Reims in 1429, and from then a slow but steady reconquest of English-held French territories ensued. Ultimately the English would be expelled from France and lose all of their continental territories, except the Pale of Calais (which would be re-captured by the French in 1558).\n",
            "The Battle of Castillon (1453) was the final action of the Hundred Years' War, but France and England remained formally at war until the Treaty of Picquigny in 1475. English, and later British monarchs would continue to nominally claim the French throne until 1801, though they would never agai\u001b[0m\n",
            "Thought:\u001b[32;1m\u001b[1;3m I now know the final answer\n",
            "Final Answer: The First Hundred Year War was fought from 1337 to 1453 between the kingdoms of England and France.\u001b[0m\n",
            "\n",
            "\u001b[1m> Finished chain.\u001b[0m\n",
            "\n",
            "\n",
            "\u001b[1m> Entering new AgentExecutor chain...\u001b[0m\n",
            "\u001b[32;1m\u001b[1;3m I need to find out when the war was fought and who was involved.\n",
            "Action: Wikipedia\n",
            "Action Input: American Civil War\u001b[0m\n",
            "Observation: \u001b[36;1m\u001b[1;3mPage: American Civil War\n",
            "Summary: The American Civil War (April 12, 1861 – May 26, 1865; also known by other names) was a civil war in the United States between the Union (\"the North\") and the Confederacy (\"the South\"), which had been formed by states that had seceded from the Union. The cause of the war was the dispute over whether slavery would be permitted to expand into the western territories, leading to more slave states, or be prevented from doing so, which many believed would place slavery on a course of ultimate extinction.\n",
            "Decades of political controversy over slavery were brought to a head by the victory in the 1860 U.S. presidential election of Abraham Lincoln, who opposed slavery's expansion into the western territories. Seven southern slave states responded to Lincoln's victory by seceding from the United States and forming the Confederacy. The Confederacy seized U.S. forts and other federal assets within their borders. Four more southern states seceded after the war began and, led by Confederate President Jefferson Davis, the Confederacy asserted control over about a third of the U.S. population in eleven states. Four years of intense combat, mostly in the South, ensued.\n",
            "During 1861–1862 in the Western Theater, the Union made significant permanent gains—though in the Eastern Theater the conflict was inconclusive. The abolition of slavery became a Union war goal on January 1, 1863, when Lincoln issued the Emancipation Proclamation, which declared all slaves in rebel states to be free, which applied to more than 3.5 million of the 4 million enslaved people in the country. To the west, the Union first destroyed the Confederacy's river navy by the summer of 1862, then much of its western armies, and later seized New Orleans. The successful 1863 Union siege of Vicksburg split the Confederacy in two at the Mississippi River. In 1863, Confederate General Robert E. Lee's incursion north ended at the Battle of Gettysburg. Western successes led to General Ulysses S. Grant's command of all Union armies in 1864. Inflicting an ever-tightening naval blockade of Confederate ports, the Union marshaled resources and manpower to attack the Confederacy from all directions. This led to the fall of Atlanta in 1864 to Union General William Tecumseh Sherman, followed by his March to the Sea. The last significant battles raged around the ten-month Siege of Petersburg, gateway to the Confederate capital of Richmond. The Confederates abandoned Richmond, and on April 9, 1865, Lee surrendered to Grant following the Battle of Appomattox Court House, setting in motion the end of the war.\n",
            "A wave of Confederate surrenders followed. On April 14, just five days after Lee's surrender, Lincoln was assassinated. On May 26, the last military department of the Confederacy, the Department of the Trans-Mississippi, effectively surrendered, but the conclusion of the American Civil War lacks a clear end date, and Appomattox is often symbolically referred to. Small confederate ground forces continued surrendering past the May 26 surrender date until June 23. By the end of the war, much of the South's infrastructure was destroyed, especially its railroads. The Confederacy collapsed, slavery was abolished, and four million enslaved black people were freed. The war-torn nation then entered the Reconstruction era in an attempt to rebuild the country, bring the former Confederate states back into the United States, and grant civil rights to freed slaves.\n",
            "The Civil War is one of the most extensively studied and written about episodes in U.S. history. It remains the subject of cultural and historiographical debate. Of particular interest is the persisting myth of the Lost Cause of the Confederacy. The American Civil War was among the first wars to use industrial warfare. Railroads, the telegraph, steamships, the ironclad warship, and mass-produced weapons were all widely used during the war. In total, the war left between 620,000 and 750,000 soldiers dead, along\u001b[0m\n",
            "Thought:\u001b[32;1m\u001b[1;3m I now know the general information about the American Civil War.\n",
            "Final Answer: The American Civil War was fought from April 12, 1861 to May 26, 1865 between the Union (\"the North\") and the Confederacy (\"the South\"), which had been formed by states that had seceded from the Union. The cause of the war was the dispute over whether slavery would be permitted to expand into the western territories. The war left between 620,000 and 750,000 soldiers dead.\u001b[0m\n",
            "\n",
            "\u001b[1m> Finished chain.\u001b[0m\n",
            "\n",
            "\n",
            "\u001b[1m> Entering new AgentExecutor chain...\u001b[0m\n",
            "\u001b[32;1m\u001b[1;3m I need to find out when the battle was fought and who the leaders were.\n",
            "Action: Wikipedia\n",
            "Action Input: Battle of Waterloo\u001b[0m"
          ]
        },
        {
          "output_type": "stream",
          "name": "stderr",
          "text": [
            "/usr/local/lib/python3.10/dist-packages/wikipedia/wikipedia.py:389: GuessedAtParserWarning: No parser was explicitly specified, so I'm using the best available HTML parser for this system (\"lxml\"). This usually isn't a problem, but if you run this code on another system, or in a different virtual environment, it may use a different parser and behave differently.\n",
            "\n",
            "The code that caused this warning is on line 389 of the file /usr/local/lib/python3.10/dist-packages/wikipedia/wikipedia.py. To get rid of this warning, pass the additional argument 'features=\"lxml\"' to the BeautifulSoup constructor.\n",
            "\n",
            "  lis = BeautifulSoup(html).find_all('li')\n"
          ]
        },
        {
          "output_type": "stream",
          "name": "stdout",
          "text": [
            "\n",
            "Observation: \u001b[36;1m\u001b[1;3mPage: Battle of Waterloo\n",
            "Summary: The Battle of Waterloo (Dutch pronunciation: [ˈʋaːtərloː] ) was fought on Sunday 18 June 1815, near Waterloo (at that time in the United Kingdom of the Netherlands, now in Belgium), marking  the end of the Napoleonic Wars. A French army under the command of Napoleon was defeated by two armies of the Seventh Coalition. One of these was a British-led force with units from the United Kingdom, the Netherlands, Hanover, Brunswick, and Nassau, under the command of the Duke of Wellington (often referred to as the Anglo-allied army or Wellington's army). The other comprised three corps of the Prussian army under Field Marshal von Blücher (the fourth corps of this army fought at the Battle of Wavre on the same day). The battle was known contemporarily as the Battle of Mont Saint-Jean in France or La Belle Alliance (\"the Beautiful Alliance\") in Prussia.Upon Napoleon's return to power in March 1815 (beginning the Hundred Days), many states that had previously opposed him formed the Seventh Coalition and hurriedly mobilised their armies. Wellington's and Blücher's armies were cantoned close to the northeastern border of France. Napoleon planned to attack them separately, before they could link up and invade France with other members of the coalition.\n",
            "On 16 June, Napoleon successfully attacked the bulk of the Prussian army at the Battle of Ligny with his main force, while a small portion of the French army contested the Battle of Quatre Bras to prevent the Anglo-allied army from reinforcing the Prussians. The Anglo-allied army held their ground at Quatre Bras, and on the 17th, the Prussians withdrew from Ligny in good order, while Wellington then withdrew in parallel with the Prussians northward to Waterloo on 17 June. Napoleon sent a third of his forces to pursue the Prussians, which resulted in the separate Battle of Wavre with the Prussian rear-guard on 18–19 June, and prevented that French force from participating at Waterloo.\n",
            "Upon learning that the Prussian army was able to support him, Wellington decided to offer battle on the Mont-Saint-Jean escarpment across the Brussels road, near the village of Waterloo. Here he withstood repeated attacks by the French throughout the afternoon of 18 June and almost lost the battle, but was eventually aided by the progressively arriving 50,000 Prussians who attacked the French flank and inflicted heavy casualties. In the evening, Napoleon assaulted the Anglo-allied line with his last reserves, the senior infantry battalions of the Imperial Guard. With the Prussians breaking through on the French right flank, the Anglo-allied army repulsed the Imperial Guard, and the French army was routed.\n",
            "Waterloo was the decisive engagement of the Waterloo campaign and Napoleon's last. It was also the second bloodiest single day battle of the Napoleonic Wars, after Borodino. According to Wellington, the battle was \"the nearest-run thing you ever saw in your life\". Napoleon abdicated four days later, and coalition forces entered Paris on 7 July. The defeat at Waterloo marked the end of Napoleon's Hundred Days return from exile. It precipitated Napoleon's second and definitive abdication as Emperor of the French, and ended the First French Empire. It set a historical  milestone between serial European wars and decades of relative peace, often referred to as the Pax Britannica.  In popular culture, the phrase \"meeting one's Waterloo\" has become an expression for someone suffering a final defeat, as in the ABBA song \"Waterloo\".\n",
            "The battlefield is located in the Belgian municipalities of Braine-l'Alleud and Lasne, about 15 kilometres (9.3 mi) south of Brussels, and about 2 kilometres (1.2 mi) from the town of Waterloo. The site of the battlefield today is dominated by the monument of the Lion's Mound, a large artificial hill constructed from earth taken from the battlefield itself, but the topography of the battlefield near the mound has not been preserved.\n",
            "\n",
            "Page: Order of battle of \u001b[0m\n",
            "Thought:\u001b[32;1m\u001b[1;3m I need to find out who the leaders were.\n",
            "Action: Wikipedia\n",
            "Action Input: Order of battle of Waterloo\u001b[0m\n",
            "Observation: \u001b[36;1m\u001b[1;3mPage: Order of battle of the Waterloo campaign\n",
            "Summary: This is the complete order of battle for the four major battles of the Waterloo campaign.\n",
            "\n",
            "Page: Battle of Waterloo\n",
            "Summary: The Battle of Waterloo (Dutch pronunciation: [ˈʋaːtərloː] ) was fought on Sunday 18 June 1815, near Waterloo (at that time in the United Kingdom of the Netherlands, now in Belgium), marking  the end of the Napoleonic Wars. A French army under the command of Napoleon was defeated by two armies of the Seventh Coalition. One of these was a British-led force with units from the United Kingdom, the Netherlands, Hanover, Brunswick, and Nassau, under the command of the Duke of Wellington (often referred to as the Anglo-allied army or Wellington's army). The other comprised three corps of the Prussian army under Field Marshal von Blücher (the fourth corps of this army fought at the Battle of Wavre on the same day). The battle was known contemporarily as the Battle of Mont Saint-Jean in France or La Belle Alliance (\"the Beautiful Alliance\") in Prussia.Upon Napoleon's return to power in March 1815 (beginning the Hundred Days), many states that had previously opposed him formed the Seventh Coalition and hurriedly mobilised their armies. Wellington's and Blücher's armies were cantoned close to the northeastern border of France. Napoleon planned to attack them separately, before they could link up and invade France with other members of the coalition.\n",
            "On 16 June, Napoleon successfully attacked the bulk of the Prussian army at the Battle of Ligny with his main force, while a small portion of the French army contested the Battle of Quatre Bras to prevent the Anglo-allied army from reinforcing the Prussians. The Anglo-allied army held their ground at Quatre Bras, and on the 17th, the Prussians withdrew from Ligny in good order, while Wellington then withdrew in parallel with the Prussians northward to Waterloo on 17 June. Napoleon sent a third of his forces to pursue the Prussians, which resulted in the separate Battle of Wavre with the Prussian rear-guard on 18–19 June, and prevented that French force from participating at Waterloo.\n",
            "Upon learning that the Prussian army was able to support him, Wellington decided to offer battle on the Mont-Saint-Jean escarpment across the Brussels road, near the village of Waterloo. Here he withstood repeated attacks by the French throughout the afternoon of 18 June and almost lost the battle, but was eventually aided by the progressively arriving 50,000 Prussians who attacked the French flank and inflicted heavy casualties. In the evening, Napoleon assaulted the Anglo-allied line with his last reserves, the senior infantry battalions of the Imperial Guard. With the Prussians breaking through on the French right flank, the Anglo-allied army repulsed the Imperial Guard, and the French army was routed.\n",
            "Waterloo was the decisive engagement of the Waterloo campaign and Napoleon's last. It was also the second bloodiest single day battle of the Napoleonic Wars, after Borodino. According to Wellington, the battle was \"the nearest-run thing you ever saw in your life\". Napoleon abdicated four days later, and coalition forces entered Paris on 7 July. The defeat at Waterloo marked the end of Napoleon's Hundred Days return from exile. It precipitated Napoleon's second and definitive abdication as Emperor of the French, and ended the First French Empire. It set a historical  milestone between serial European wars and decades of relative peace, often referred to as the Pax Britannica.  In popular culture, the phrase \"meeting one's Waterloo\" has become an expression for someone suffering a final defeat, as in the ABBA song \"Waterloo\".\n",
            "The battlefield is located in the Belgian municipalities of Braine-l'Alleud and Lasne, about 15 kilometres (9.3 mi) south of Brussels, and about 2 kilometres (1.2 mi) from the town of Waterloo. The site of the battlefield today is dominated by the monument of the Lion's Mound, a large artificial hill constructed fr\u001b[0m\n",
            "Thought:\u001b[32;1m\u001b[1;3m I now know the final answer.\n",
            "Final Answer: The Battle of Waterloo was fought on Sunday 18 June 1815, near Waterloo (at that time in the United Kingdom of the Netherlands, now in Belgium). The French army was led by Napoleon and the two armies of the Seventh Coalition were led by the Duke of Wellington and Field Marshal von Blücher.\u001b[0m\n",
            "\n",
            "\u001b[1m> Finished chain.\u001b[0m\n",
            "\n",
            "\n",
            "\u001b[1m> Entering new AgentExecutor chain...\u001b[0m\n",
            "\u001b[32;1m\u001b[1;3m I need to find out when the war was fought and when India got independence\n",
            "Action: Wikipedia\n",
            "Action Input: First war of Indian independence\u001b[0m"
          ]
        },
        {
          "output_type": "stream",
          "name": "stderr",
          "text": [
            "/usr/local/lib/python3.10/dist-packages/wikipedia/wikipedia.py:389: GuessedAtParserWarning: No parser was explicitly specified, so I'm using the best available HTML parser for this system (\"lxml\"). This usually isn't a problem, but if you run this code on another system, or in a different virtual environment, it may use a different parser and behave differently.\n",
            "\n",
            "The code that caused this warning is on line 389 of the file /usr/local/lib/python3.10/dist-packages/wikipedia/wikipedia.py. To get rid of this warning, pass the additional argument 'features=\"lxml\"' to the BeautifulSoup constructor.\n",
            "\n",
            "  lis = BeautifulSoup(html).find_all('li')\n"
          ]
        },
        {
          "output_type": "stream",
          "name": "stdout",
          "text": [
            "\n",
            "Observation: \u001b[36;1m\u001b[1;3mPage: Indian Rebellion of 1857\n",
            "Summary: The Indian Rebellion of 1857 was a major uprising in India in 1857–58 against the rule of the British East India Company, which functioned as a sovereign power on behalf of the British Crown. The rebellion began on 10 May 1857 in the form of a mutiny of sepoys of the Company's army in the garrison town of Meerut, 40 mi (64 km) northeast of Delhi. It then erupted into other mutinies and civilian rebellions chiefly in the upper Gangetic plain and central India, though incidents of revolt also occurred farther north and east. The rebellion posed a military threat to British power in that region, and was contained only with the rebels' defeat in Gwalior on 20 June 1858. On 1 November 1858, the British granted amnesty to all rebels not involved in murder, though they did not declare the hostilities to have formally ended until 8 July 1859. \n",
            "The name of the revolt is contested, and it is variously described as the Sepoy Mutiny, the Indian Mutiny, the Great Rebellion, the Revolt of 1857, the Indian Insurrection, and the First War of Independence.The Indian rebellion was fed by resentments born of diverse perceptions, including invasive British-style social reforms, harsh land taxes, summary treatment of some rich landowners and princes, as well as scepticism about the improvements brought about by British rule. Many Indians rose against the British; however, many also fought for the British, and the majority remained seemingly compliant to British rule. Violence, which sometimes betrayed exceptional cruelty, was inflicted on both sides, on British officers, and civilians, including women and children, by the rebels, and on the rebels, and their supporters, including sometimes entire villages, by British reprisals; the cities of Delhi and Lucknow were laid waste in the fighting and the British retaliation.After the outbreak of the mutiny in Meerut, the rebels quickly reached Delhi, whose 81-year-old Mughal ruler, Bahadur Shah Zafar, was declared the Emperor of Hindustan. Soon, the rebels had captured large tracts of the North-Western Provinces and Awadh (Oudh). The East India Company's response came rapidly as well. With help from reinforcements, Kanpur was retaken by mid-July 1857, and Delhi by the end of September. However, it then took the remainder of 1857 and the better part of 1858 for the rebellion to be suppressed in Jhansi, Lucknow, and especially the Awadh countryside. Other regions of Company-controlled India—Bengal province, the Bombay Presidency, and the Madras Presidency—remained largely calm. In the Punjab, the Sikh princes crucially helped the British by providing both soldiers and support. The large princely states, Hyderabad, Mysore, Travancore, and Kashmir, as well as the smaller ones of Rajputana, did not join the rebellion, serving the British, in the Governor-General Lord Canning's words, as \"breakwaters in a storm\".In some regions, most notably in Awadh, the rebellion took on the attributes of a patriotic revolt against British oppression. However, the rebel leaders proclaimed no articles of faith that presaged a new political system. Even so, the rebellion proved to be an important watershed in Indian and British Empire history. It led to the dissolution of the East India Company, and forced the British to reorganize the army, the financial system, and the administration in India, through passage of the Government of India Act 1858. India was thereafter administered directly by the British government in the new British Raj. On 1 November 1858, Queen Victoria issued a proclamation to Indians, which while lacking the authority of a constitutional provision, promised rights similar to those of other British subjects. In the following decades, when admission to these rights was not always forthcoming, Indians were to pointedly refer to the Queen's proclamation in growing avowals of a new nationalism.\n",
            "\n",
            "Page: Names of the Indian Rebellion of 1857\n",
            "Summary: The Indian Rebellion o\u001b[0m\n",
            "Thought:\u001b[32;1m\u001b[1;3m I need to find out when India got independence\n",
            "Action: Wikipedia\n",
            "Action Input: Indian independence\u001b[0m"
          ]
        },
        {
          "output_type": "stream",
          "name": "stderr",
          "text": [
            "/usr/local/lib/python3.10/dist-packages/wikipedia/wikipedia.py:389: GuessedAtParserWarning: No parser was explicitly specified, so I'm using the best available HTML parser for this system (\"lxml\"). This usually isn't a problem, but if you run this code on another system, or in a different virtual environment, it may use a different parser and behave differently.\n",
            "\n",
            "The code that caused this warning is on line 389 of the file /usr/local/lib/python3.10/dist-packages/wikipedia/wikipedia.py. To get rid of this warning, pass the additional argument 'features=\"lxml\"' to the BeautifulSoup constructor.\n",
            "\n",
            "  lis = BeautifulSoup(html).find_all('li')\n"
          ]
        },
        {
          "output_type": "stream",
          "name": "stdout",
          "text": [
            "\n",
            "Observation: \u001b[36;1m\u001b[1;3mPage: Indian independence movement\n",
            "Summary: The Indian independence movement was a series of historic events with the ultimate aim of ending British rule in India also known as British Raj. It lasted until 1947.\n",
            "The first nationalistic revolutionary movement for Indian independence emerged from Bengal. It later took root in the newly formed Indian National Congress with prominent moderate leaders seeking the right to appear for Indian Civil Service examinations in British India, as well as more economic rights for natives. The first half of the 20th century saw a more radical approach towards self-rule.\n",
            "The stages of the independence struggle in the 1920s were characterized by the leadership of Mahatma Gandhi and Congress' adoption of Gandhi's policy of non-violence and civil disobedience. Some of the leading followers of Gandhi's ideology were Jawaharlal Nehru, Subhas Chandra Bose, Vallabhbhai Patel, Abdul Ghaffar Khan, Maulana Azad, and others. Intellectuals such as Rabindranath Tagore, Subramania Bharati, and Bankim Chandra Chattopadhyay spread patriotic awareness. Female leaders like Sarojini Naidu, Vijaya Lakshmi Pandit, Pritilata Waddedar, and Kasturba Gandhi promoted the emancipation of Indian women and their participation in the freedom struggle.\n",
            "Few leaders followed a more violent approach, which became especially popular after the Rowlatt Act, which permitted indefinite detention. The Act sparked protests across India, especially in the Punjab province, where they were violently suppressed in the Jallianwala Bagh massacre.\n",
            "The Indian independence movement was in constant ideological evolution. Essentially anti-colonial, it was supplemented by visions of independent, economic development with a secular, democratic, republican, and civil-libertarian political structure. After the 1930s, the movement took on a strong socialist orientation. It culminated in the Indian Independence Act 1947, which ended Crown suzerainty and partitioned British Raj into Dominion of India and Dominion of Pakistan.\n",
            "India remained a Crown Dominion until 26 January 1950, when the Constitution of India established the Republic of India. Pakistan remained a dominion until 1956 when it adopted its first constitution. In 1971, East Pakistan declared its own independence as Bangladesh.\n",
            "\n",
            "Page: Indian Rebellion of 1857\n",
            "Summary: The Indian Rebellion of 1857 was a major uprising in India in 1857–58 against the rule of the British East India Company, which functioned as a sovereign power on behalf of the British Crown. The rebellion began on 10 May 1857 in the form of a mutiny of sepoys of the Company's army in the garrison town of Meerut, 40 mi (64 km) northeast of Delhi. It then erupted into other mutinies and civilian rebellions chiefly in the upper Gangetic plain and central India, though incidents of revolt also occurred farther north and east. The rebellion posed a military threat to British power in that region, and was contained only with the rebels' defeat in Gwalior on 20 June 1858. On 1 November 1858, the British granted amnesty to all rebels not involved in murder, though they did not declare the hostilities to have formally ended until 8 July 1859. \n",
            "The name of the revolt is contested, and it is variously described as the Sepoy Mutiny, the Indian Mutiny, the Great Rebellion, the Revolt of 1857, the Indian Insurrection, and the First War of Independence.The Indian rebellion was fed by resentments born of diverse perceptions, including invasive British-style social reforms, harsh land taxes, summary treatment of some rich landowners and princes, as well as scepticism about the improvements brought about by British rule. Many Indians rose against the British; however, many also fought for the British, and the majority remained seemingly compliant to British rule. Violence, which sometimes betrayed exceptional cruelty, was inflicted on both sides, on British officers, and civilians, including women and children, by the rebels, and on the rebels\u001b[0m\n",
            "Thought:\u001b[32;1m\u001b[1;3m I now know the final answer\n",
            "Final Answer: The First War of Indian Independence was fought in 1857-1858 and India gained independence in 1947, with a time gap of 89 years.\u001b[0m\n",
            "\n",
            "\u001b[1m> Finished chain.\u001b[0m\n",
            "\n",
            "\n",
            "\u001b[1m> Entering new AgentExecutor chain...\u001b[0m\n",
            "\u001b[32;1m\u001b[1;3m I need to find out when the Han dynasty was established and how long it lasted.\n",
            "Action: Wikipedia\n",
            "Action Input: Han dynasty\u001b[0m\n",
            "Observation: \u001b[36;1m\u001b[1;3mPage: Han dynasty\n",
            "Summary: The Han dynasty (UK: , US: ; traditional Chinese: 漢朝; simplified Chinese: 汉朝; pinyin: Hàncháo) was an imperial dynasty of China (202 BC – 9 AD, 25–220 AD), established by Liu Bang and ruled by the House of Liu. The dynasty was preceded by the short-lived Qin dynasty (221–207 BC) and a warring interregnum known as the Chu–Han contention (206–202 BC), and it was succeeded by the Three Kingdoms period (220–280 AD). The dynasty was briefly interrupted by the Xin dynasty (9–23 AD) established by usurping regent Wang Mang, and is thus separated into two periods—the Western Han (202 BC – 9 AD) and the Eastern Han (25–220 AD). Spanning over four centuries, the Han dynasty is considered a golden age in Chinese history, and it has influenced the identity of the Chinese civilization ever since. Modern China's majority ethnic group refer to themselves as the \"Han people\" or \"Han Chinese\". The spoken Sinitic language and written Chinese are referred to respectively as the \"Han language\" and \"Han characters\".The emperor was at the pinnacle of Han society. He presided over the Han government but shared power with both the nobility and appointed ministers who came largely from the scholarly gentry class. The Han Empire was divided into areas directly controlled by the central government called commanderies, as well as a number of semi-autonomous kingdoms. These kingdoms gradually lost all vestiges of their independence, particularly following the Rebellion of the Seven States. From the reign of Emperor Wu (r. 141–87 BC) onward, the Chinese court officially sponsored Confucianism in education and court politics, synthesized with the cosmology of later scholars such as Dong Zhongshu. This policy endured until the fall of the Qing dynasty in 1912.\n",
            "The Han dynasty saw an age of economic prosperity and witnessed a significant growth of the money economy first established during the Zhou dynasty (c. 1050–256 BC). The coinage minted by the central government in 119 BC remained the standard coinage of China until the Tang dynasty (618–907 AD). The period saw a number of limited institutional innovations. To finance its military campaigns and the settlement of newly conquered frontier territories, the Han government nationalized the private salt and iron industries in 117 BC, though these government monopolies were later repealed during the Eastern Han dynasty. Science and technology during the Han period saw significant advances, including the process of papermaking, the nautical steering ship rudder, the use of negative numbers in mathematics, the raised-relief map, the hydraulic-powered armillary sphere for astronomy, and a seismometer employing an inverted pendulum that could be used to discern the cardinal direction of distant earthquakes.\n",
            "The Han dynasty had many conflicts with the Xiongnu, a nomadic confederation centered in the eastern Eurasian steppe. The Xiongnu defeated the Han in 200 BC, prompting the Han to appease the Xiongnu with a policy of marriage alliance and payments of tribute, though the Xiongnu continued to raid the Han's northern borders. Han policy changed in 133 BC, under Emperor Wu, when Han forces began a series of military campaigns to quell the Xiongnu. The Han ultimately defeated the Xiongnu, forcing them to accept vassal status as Han tributaries, and the Xiongnu confederation fragmented. The Han conquered the Hexi Corridor and Inner Asian territory of the Tarim Basin from the Xiongnu, helping to establish the vast trade network known as the Silk Road. The lands north of the Han's borders were later overrun by the nomadic Xianbei confederation. Emperor Wu also launched successful conquests in the south, annexing Nanyue in 111 BC and Dian in 109 BC. He further expanded Han territory into the northern Korean Peninsula, where Han forces conquered Gojoseon and established the Xuantu and Lelang Commanderies in 108 BC. After 92 AD, the palace eunuchs increasingly involved themselves in the dynasty's\u001b[0m\n",
            "Thought:\u001b[32;1m\u001b[1;3m I now know when the Han dynasty was established and how long it lasted.\n",
            "Final Answer: The Han dynasty was established in 202 BC and lasted until 220 AD, spanning over four centuries.\u001b[0m\n",
            "\n",
            "\u001b[1m> Finished chain.\u001b[0m\n",
            "\n",
            "\n",
            "\u001b[1m> Entering new AgentExecutor chain...\u001b[0m\n",
            "\u001b[32;1m\u001b[1;3m I need to find out when the war was fought and who was involved\n",
            "Action: Wikipedia\n",
            "Action Input: Spanish Civil War\u001b[0m\n",
            "Observation: \u001b[36;1m\u001b[1;3mPage: Spanish Civil War\n",
            "Summary: The Spanish Civil War (Spanish: Guerra Civil Española) was fought from 1936 to 1939 between the Republicans and the Nationalists. Republicans were loyal to the left-leaning Popular Front government of the Second Spanish Republic, and consisted of various socialist, communist, separatist, anarchist, and republican parties, some of which had opposed the government in the pre-war period. The opposing Nationalists were an alliance of Falangists, monarchists, conservatives, and traditionalists led by a military junta among whom General Francisco Franco quickly achieved a preponderant role. Due to the international political climate at the time, the war had many facets and was variously viewed as class struggle, a religious struggle, a struggle between dictatorship and republican democracy, between revolution and counterrevolution, and between fascism and communism. According to Claude Bowers, U.S. ambassador to Spain during the war, it was the \"dress rehearsal\" for World War II. The Nationalists won the war, which ended in early 1939, and ruled Spain until Franco's death in November 1975.\n",
            "The war began after the partial failure of the coup d'état of July 1936 against the Republican government by a group of generals of the Spanish Republican Armed Forces, with General Emilio Mola as the primary planner and leader and having General José Sanjurjo as a figurehead. The government at the time was a coalition of Republicans, supported in the Cortes by communist and socialist parties, under the leadership of centre-left President Manuel Azaña. The Nationalist faction was supported by a number of conservative groups, including CEDA, monarchists, including both the opposing Alfonsists and the religious conservative Carlists, and the Falange Española de las JONS, a fascist political party. After the deaths of Sanjurjo, Emilio Mola and Manuel Goded Llopis, Franco emerged as the remaining leader of the Nationalist side.\n",
            "The coup was supported by military units in Morocco, Pamplona, Burgos, Zaragoza, Valladolid, Cádiz, Córdoba, and Seville. However, rebelling units in almost all important cities—such as Madrid, Barcelona, Valencia, Bilbao, and Málaga—did not gain control, and those cities remained under the control of the government. This left Spain militarily and politically divided. The Nationalists and the Republican government fought for control of the country. The Nationalist forces received munitions, soldiers, and air support from Fascist Italy, Nazi Germany and Portugal, while the Republican side received support from the Soviet Union and Mexico. Other countries, such as the United Kingdom, France, and the United States, continued to recognise the Republican government but followed an official policy of non-intervention. Despite this policy, tens of thousands of citizens from non-interventionist countries directly participated in the conflict. They fought mostly in the pro-Republican International Brigades, which also included several thousand exiles from pro-Nationalist regimes.\n",
            "The Nationalists advanced from their strongholds in the south and west, capturing most of Spain's northern coastline in 1937. They also besieged Madrid and the area to its south and west for much of the war. After much of Catalonia was captured in 1938 and 1939, and Madrid cut off from Barcelona, the Republican military position became hopeless. Following the fall without resistance of Barcelona in January 1939, the Francoist regime was recognised by France and the United Kingdom in February 1939. On 5 March 1939, in response to an alleged increasing communist dominance of the republican government and the deteriorating military situation, Colonel Segismundo Casado led a military coup against the Republican government, with the intention of seeking peace with the Nationalists. These peace overtures, however, were rejected by Franco. Following internal conflict between Republican factions in Madrid in the same month, Franco enter\u001b[0m\n",
            "Thought:\u001b[32;1m\u001b[1;3m I now know the general timeline of the Spanish Civil War and who was involved\n",
            "Final Answer: The Spanish Civil War was fought from 1936 to 1939 between the Republicans and the Nationalists. Republicans were loyal to the left-leaning Popular Front government of the Second Spanish Republic, and consisted of various socialist, communist, separatist, anarchist, and republican parties, while the Nationalists were an alliance of Falangists, monarchists, conservatives, and traditionalists led by a military junta among whom General Francisco Franco quickly achieved a preponderant role. The Nationalists won the war in early 1939.\u001b[0m\n",
            "\n",
            "\u001b[1m> Finished chain.\u001b[0m\n",
            "\n",
            "\n",
            "\u001b[1m> Entering new AgentExecutor chain...\u001b[0m\n",
            "\u001b[32;1m\u001b[1;3m I need to find out when and which countries were involved in the First Hundred Year War.\n",
            "Action: Wikipedia\n",
            "Action Input: First Hundred Year War\u001b[0m\n",
            "Observation: \u001b[36;1m\u001b[1;3mPage: Hundred Years' War\n",
            "Summary: The Hundred Years' War (French: Guerre de Cent Ans; 1337–1453) was a series of armed conflicts fought between the kingdoms of England and France during the Late Middle Ages. It originated from English claims to the French throne. The war grew into a broader power struggle involving factions from across Western Europe, fueled by emerging nationalism on both sides. The periodization of the war takes place over 116 years, wherein the war was interrupted by several years of truces.\n",
            "The Hundred Years' War was a significant conflict in the Middle Ages. During the war, five generations of kings from two rival dynasties fought for the throne of France, which was then the dominant kingdom in Western Europe. The war had a lasting effect on European history. Both sides produced innovations in military technology and tactics, including professional standing armies and artillery, that permanently changed warfare in Europe; chivalry, which reached its height during the conflict, subsequently declined. Stronger national identities took root in both countries, which became more centralised and gradually rose as global powers.The term \"Hundred Years' War\" was adopted by later historians as a historiographical periodisation to encompass related conflicts, constructing the longest military conflict in European history. The war is commonly divided into three phases separated by truces: the Edwardian War (1337–1360), the Caroline War (1369–1389), and the Lancastrian War (1415–1453). Each side drew many allies into the conflict, with English forces initially prevailing; however, the French forces under the House of Valois ultimately retained control over the Kingdom of France. The French and English monarchies, previously intertwined, thereafter remained separate.\n",
            "\n",
            "Page: Hundred Years' War, 1415–1453\n",
            "Summary: The Lancastrian War was the third and final phase of the Hundred Years' War between England and France. It lasted from 1415, when King Henry V of England invaded Normandy, to 1453, when the English lost Bordeaux. It followed a long period of peace from the end of the Caroline War in 1389. The phase is named after the House of Lancaster, the ruling house of the Kingdom of England, to which Henry V belonged.\n",
            "The first half of this phase of the war was dominated by the Kingdom of England. Initial English successes, notably at the famous Battle of Agincourt, coupled with divisions among the French ruling class, allowed the English to gain control of large parts of France. In 1420, the Treaty of Troyes was signed, by which the English king married the French princess Catherine and was made regent of the kingdom and heir to the throne of France. A victory on paper was thus achieved by the English, with their claims now having legal standing. Some of the French nobility refused to recognise the agreement, however, and so military subjugation was still necessary to enforce its provisions. King Henry V and, after his death, his brother John, Duke of Bedford, brought the English to the height of their power in France, with an English king crowned in Paris.\n",
            "The second half of this phase of the war was dominated by the Kingdom of France. French forces counterattacked, inspired by Joan of Arc, La Hire and the Count of Dunois, and aided by the English loss of its main allies, the Dukes of Burgundy and Brittany. Charles VII of France was crowned in Notre-Dame de Reims in 1429, and from then a slow but steady reconquest of English-held French territories ensued. Ultimately the English would be expelled from France and lose all of their continental territories, except the Pale of Calais (which would be re-captured by the French in 1558).\n",
            "The Battle of Castillon (1453) was the final action of the Hundred Years' War, but France and England remained formally at war until the Treaty of Picquigny in 1475. English, and later British monarchs would continue to nominally claim the French throne until 1801, though they would never agai\u001b[0m\n",
            "Thought:\u001b[32;1m\u001b[1;3m I now know the final answer\n",
            "Final Answer: The First Hundred Year War was fought from 1337 to 1453 between the kingdoms of England and France.\u001b[0m\n",
            "\n",
            "\u001b[1m> Finished chain.\u001b[0m\n",
            "\n",
            "\n",
            "\u001b[1m> Entering new AgentExecutor chain...\u001b[0m\n",
            "\u001b[32;1m\u001b[1;3m I need to find out when the war was fought and who was involved.\n",
            "Action: Wikipedia\n",
            "Action Input: American Civil War\u001b[0m\n",
            "Observation: \u001b[36;1m\u001b[1;3mPage: American Civil War\n",
            "Summary: The American Civil War (April 12, 1861 – May 26, 1865; also known by other names) was a civil war in the United States between the Union (\"the North\") and the Confederacy (\"the South\"), which had been formed by states that had seceded from the Union. The cause of the war was the dispute over whether slavery would be permitted to expand into the western territories, leading to more slave states, or be prevented from doing so, which many believed would place slavery on a course of ultimate extinction.\n",
            "Decades of political controversy over slavery were brought to a head by the victory in the 1860 U.S. presidential election of Abraham Lincoln, who opposed slavery's expansion into the western territories. Seven southern slave states responded to Lincoln's victory by seceding from the United States and forming the Confederacy. The Confederacy seized U.S. forts and other federal assets within their borders. Four more southern states seceded after the war began and, led by Confederate President Jefferson Davis, the Confederacy asserted control over about a third of the U.S. population in eleven states. Four years of intense combat, mostly in the South, ensued.\n",
            "During 1861–1862 in the Western Theater, the Union made significant permanent gains—though in the Eastern Theater the conflict was inconclusive. The abolition of slavery became a Union war goal on January 1, 1863, when Lincoln issued the Emancipation Proclamation, which declared all slaves in rebel states to be free, which applied to more than 3.5 million of the 4 million enslaved people in the country. To the west, the Union first destroyed the Confederacy's river navy by the summer of 1862, then much of its western armies, and later seized New Orleans. The successful 1863 Union siege of Vicksburg split the Confederacy in two at the Mississippi River. In 1863, Confederate General Robert E. Lee's incursion north ended at the Battle of Gettysburg. Western successes led to General Ulysses S. Grant's command of all Union armies in 1864. Inflicting an ever-tightening naval blockade of Confederate ports, the Union marshaled resources and manpower to attack the Confederacy from all directions. This led to the fall of Atlanta in 1864 to Union General William Tecumseh Sherman, followed by his March to the Sea. The last significant battles raged around the ten-month Siege of Petersburg, gateway to the Confederate capital of Richmond. The Confederates abandoned Richmond, and on April 9, 1865, Lee surrendered to Grant following the Battle of Appomattox Court House, setting in motion the end of the war.\n",
            "A wave of Confederate surrenders followed. On April 14, just five days after Lee's surrender, Lincoln was assassinated. On May 26, the last military department of the Confederacy, the Department of the Trans-Mississippi, effectively surrendered, but the conclusion of the American Civil War lacks a clear end date, and Appomattox is often symbolically referred to. Small confederate ground forces continued surrendering past the May 26 surrender date until June 23. By the end of the war, much of the South's infrastructure was destroyed, especially its railroads. The Confederacy collapsed, slavery was abolished, and four million enslaved black people were freed. The war-torn nation then entered the Reconstruction era in an attempt to rebuild the country, bring the former Confederate states back into the United States, and grant civil rights to freed slaves.\n",
            "The Civil War is one of the most extensively studied and written about episodes in U.S. history. It remains the subject of cultural and historiographical debate. Of particular interest is the persisting myth of the Lost Cause of the Confederacy. The American Civil War was among the first wars to use industrial warfare. Railroads, the telegraph, steamships, the ironclad warship, and mass-produced weapons were all widely used during the war. In total, the war left between 620,000 and 750,000 soldiers dead, along\u001b[0m\n",
            "Thought:\u001b[32;1m\u001b[1;3m I now know the general information about the American Civil War.\n",
            "Final Answer: The American Civil War was fought from April 12, 1861 to May 26, 1865 between the Union (\"the North\") and the Confederacy (\"the South\"), which had been formed by states that had seceded from the Union. The cause of the war was the dispute over whether slavery would be permitted to expand into the western territories. The war left between 620,000 and 750,000 soldiers dead.\u001b[0m\n",
            "\n",
            "\u001b[1m> Finished chain.\u001b[0m\n",
            "\n",
            "\n",
            "\u001b[1m> Entering new AgentExecutor chain...\u001b[0m\n",
            "\u001b[32;1m\u001b[1;3m I need to find out when the battle was fought and who the leaders were.\n",
            "Action: Wikipedia\n",
            "Action Input: Battle of Waterloo\u001b[0m"
          ]
        },
        {
          "output_type": "stream",
          "name": "stderr",
          "text": [
            "/usr/local/lib/python3.10/dist-packages/wikipedia/wikipedia.py:389: GuessedAtParserWarning: No parser was explicitly specified, so I'm using the best available HTML parser for this system (\"lxml\"). This usually isn't a problem, but if you run this code on another system, or in a different virtual environment, it may use a different parser and behave differently.\n",
            "\n",
            "The code that caused this warning is on line 389 of the file /usr/local/lib/python3.10/dist-packages/wikipedia/wikipedia.py. To get rid of this warning, pass the additional argument 'features=\"lxml\"' to the BeautifulSoup constructor.\n",
            "\n",
            "  lis = BeautifulSoup(html).find_all('li')\n"
          ]
        },
        {
          "output_type": "stream",
          "name": "stdout",
          "text": [
            "\n",
            "Observation: \u001b[36;1m\u001b[1;3mPage: Battle of Waterloo\n",
            "Summary: The Battle of Waterloo (Dutch pronunciation: [ˈʋaːtərloː] ) was fought on Sunday 18 June 1815, near Waterloo (at that time in the United Kingdom of the Netherlands, now in Belgium), marking  the end of the Napoleonic Wars. A French army under the command of Napoleon was defeated by two armies of the Seventh Coalition. One of these was a British-led force with units from the United Kingdom, the Netherlands, Hanover, Brunswick, and Nassau, under the command of the Duke of Wellington (often referred to as the Anglo-allied army or Wellington's army). The other comprised three corps of the Prussian army under Field Marshal von Blücher (the fourth corps of this army fought at the Battle of Wavre on the same day). The battle was known contemporarily as the Battle of Mont Saint-Jean in France or La Belle Alliance (\"the Beautiful Alliance\") in Prussia.Upon Napoleon's return to power in March 1815 (beginning the Hundred Days), many states that had previously opposed him formed the Seventh Coalition and hurriedly mobilised their armies. Wellington's and Blücher's armies were cantoned close to the northeastern border of France. Napoleon planned to attack them separately, before they could link up and invade France with other members of the coalition.\n",
            "On 16 June, Napoleon successfully attacked the bulk of the Prussian army at the Battle of Ligny with his main force, while a small portion of the French army contested the Battle of Quatre Bras to prevent the Anglo-allied army from reinforcing the Prussians. The Anglo-allied army held their ground at Quatre Bras, and on the 17th, the Prussians withdrew from Ligny in good order, while Wellington then withdrew in parallel with the Prussians northward to Waterloo on 17 June. Napoleon sent a third of his forces to pursue the Prussians, which resulted in the separate Battle of Wavre with the Prussian rear-guard on 18–19 June, and prevented that French force from participating at Waterloo.\n",
            "Upon learning that the Prussian army was able to support him, Wellington decided to offer battle on the Mont-Saint-Jean escarpment across the Brussels road, near the village of Waterloo. Here he withstood repeated attacks by the French throughout the afternoon of 18 June and almost lost the battle, but was eventually aided by the progressively arriving 50,000 Prussians who attacked the French flank and inflicted heavy casualties. In the evening, Napoleon assaulted the Anglo-allied line with his last reserves, the senior infantry battalions of the Imperial Guard. With the Prussians breaking through on the French right flank, the Anglo-allied army repulsed the Imperial Guard, and the French army was routed.\n",
            "Waterloo was the decisive engagement of the Waterloo campaign and Napoleon's last. It was also the second bloodiest single day battle of the Napoleonic Wars, after Borodino. According to Wellington, the battle was \"the nearest-run thing you ever saw in your life\". Napoleon abdicated four days later, and coalition forces entered Paris on 7 July. The defeat at Waterloo marked the end of Napoleon's Hundred Days return from exile. It precipitated Napoleon's second and definitive abdication as Emperor of the French, and ended the First French Empire. It set a historical  milestone between serial European wars and decades of relative peace, often referred to as the Pax Britannica.  In popular culture, the phrase \"meeting one's Waterloo\" has become an expression for someone suffering a final defeat, as in the ABBA song \"Waterloo\".\n",
            "The battlefield is located in the Belgian municipalities of Braine-l'Alleud and Lasne, about 15 kilometres (9.3 mi) south of Brussels, and about 2 kilometres (1.2 mi) from the town of Waterloo. The site of the battlefield today is dominated by the monument of the Lion's Mound, a large artificial hill constructed from earth taken from the battlefield itself, but the topography of the battlefield near the mound has not been preserved.\n",
            "\n",
            "Page: Order of battle of \u001b[0m\n",
            "Thought:\u001b[32;1m\u001b[1;3m I need to find out who the leaders were.\n",
            "Action: Wikipedia\n",
            "Action Input: Order of battle of Waterloo\u001b[0m\n",
            "Observation: \u001b[36;1m\u001b[1;3mPage: Order of battle of the Waterloo campaign\n",
            "Summary: This is the complete order of battle for the four major battles of the Waterloo campaign.\n",
            "\n",
            "Page: Battle of Waterloo\n",
            "Summary: The Battle of Waterloo (Dutch pronunciation: [ˈʋaːtərloː] ) was fought on Sunday 18 June 1815, near Waterloo (at that time in the United Kingdom of the Netherlands, now in Belgium), marking  the end of the Napoleonic Wars. A French army under the command of Napoleon was defeated by two armies of the Seventh Coalition. One of these was a British-led force with units from the United Kingdom, the Netherlands, Hanover, Brunswick, and Nassau, under the command of the Duke of Wellington (often referred to as the Anglo-allied army or Wellington's army). The other comprised three corps of the Prussian army under Field Marshal von Blücher (the fourth corps of this army fought at the Battle of Wavre on the same day). The battle was known contemporarily as the Battle of Mont Saint-Jean in France or La Belle Alliance (\"the Beautiful Alliance\") in Prussia.Upon Napoleon's return to power in March 1815 (beginning the Hundred Days), many states that had previously opposed him formed the Seventh Coalition and hurriedly mobilised their armies. Wellington's and Blücher's armies were cantoned close to the northeastern border of France. Napoleon planned to attack them separately, before they could link up and invade France with other members of the coalition.\n",
            "On 16 June, Napoleon successfully attacked the bulk of the Prussian army at the Battle of Ligny with his main force, while a small portion of the French army contested the Battle of Quatre Bras to prevent the Anglo-allied army from reinforcing the Prussians. The Anglo-allied army held their ground at Quatre Bras, and on the 17th, the Prussians withdrew from Ligny in good order, while Wellington then withdrew in parallel with the Prussians northward to Waterloo on 17 June. Napoleon sent a third of his forces to pursue the Prussians, which resulted in the separate Battle of Wavre with the Prussian rear-guard on 18–19 June, and prevented that French force from participating at Waterloo.\n",
            "Upon learning that the Prussian army was able to support him, Wellington decided to offer battle on the Mont-Saint-Jean escarpment across the Brussels road, near the village of Waterloo. Here he withstood repeated attacks by the French throughout the afternoon of 18 June and almost lost the battle, but was eventually aided by the progressively arriving 50,000 Prussians who attacked the French flank and inflicted heavy casualties. In the evening, Napoleon assaulted the Anglo-allied line with his last reserves, the senior infantry battalions of the Imperial Guard. With the Prussians breaking through on the French right flank, the Anglo-allied army repulsed the Imperial Guard, and the French army was routed.\n",
            "Waterloo was the decisive engagement of the Waterloo campaign and Napoleon's last. It was also the second bloodiest single day battle of the Napoleonic Wars, after Borodino. According to Wellington, the battle was \"the nearest-run thing you ever saw in your life\". Napoleon abdicated four days later, and coalition forces entered Paris on 7 July. The defeat at Waterloo marked the end of Napoleon's Hundred Days return from exile. It precipitated Napoleon's second and definitive abdication as Emperor of the French, and ended the First French Empire. It set a historical  milestone between serial European wars and decades of relative peace, often referred to as the Pax Britannica.  In popular culture, the phrase \"meeting one's Waterloo\" has become an expression for someone suffering a final defeat, as in the ABBA song \"Waterloo\".\n",
            "The battlefield is located in the Belgian municipalities of Braine-l'Alleud and Lasne, about 15 kilometres (9.3 mi) south of Brussels, and about 2 kilometres (1.2 mi) from the town of Waterloo. The site of the battlefield today is dominated by the monument of the Lion's Mound, a large artificial hill constructed fr\u001b[0m\n",
            "Thought:\u001b[32;1m\u001b[1;3m I now know the final answer.\n",
            "Final Answer: The Battle of Waterloo was fought on Sunday 18 June 1815, near Waterloo (at that time in the United Kingdom of the Netherlands, now in Belgium). The French army was led by Napoleon and the two armies of the Seventh Coalition were led by the Duke of Wellington and Field Marshal von Blücher.\u001b[0m\n",
            "\n",
            "\u001b[1m> Finished chain.\u001b[0m\n",
            "\n",
            "\n",
            "\u001b[1m> Entering new AgentExecutor chain...\u001b[0m\n",
            "\u001b[32;1m\u001b[1;3m I need to find out when the war was fought and when India got independence\n",
            "Action: Wikipedia\n",
            "Action Input: First war of Indian independence\u001b[0m"
          ]
        },
        {
          "output_type": "stream",
          "name": "stderr",
          "text": [
            "/usr/local/lib/python3.10/dist-packages/wikipedia/wikipedia.py:389: GuessedAtParserWarning: No parser was explicitly specified, so I'm using the best available HTML parser for this system (\"lxml\"). This usually isn't a problem, but if you run this code on another system, or in a different virtual environment, it may use a different parser and behave differently.\n",
            "\n",
            "The code that caused this warning is on line 389 of the file /usr/local/lib/python3.10/dist-packages/wikipedia/wikipedia.py. To get rid of this warning, pass the additional argument 'features=\"lxml\"' to the BeautifulSoup constructor.\n",
            "\n",
            "  lis = BeautifulSoup(html).find_all('li')\n"
          ]
        },
        {
          "output_type": "stream",
          "name": "stdout",
          "text": [
            "\n",
            "Observation: \u001b[36;1m\u001b[1;3mPage: Indian Rebellion of 1857\n",
            "Summary: The Indian Rebellion of 1857 was a major uprising in India in 1857–58 against the rule of the British East India Company, which functioned as a sovereign power on behalf of the British Crown. The rebellion began on 10 May 1857 in the form of a mutiny of sepoys of the Company's army in the garrison town of Meerut, 40 mi (64 km) northeast of Delhi. It then erupted into other mutinies and civilian rebellions chiefly in the upper Gangetic plain and central India, though incidents of revolt also occurred farther north and east. The rebellion posed a military threat to British power in that region, and was contained only with the rebels' defeat in Gwalior on 20 June 1858. On 1 November 1858, the British granted amnesty to all rebels not involved in murder, though they did not declare the hostilities to have formally ended until 8 July 1859. \n",
            "The name of the revolt is contested, and it is variously described as the Sepoy Mutiny, the Indian Mutiny, the Great Rebellion, the Revolt of 1857, the Indian Insurrection, and the First War of Independence.The Indian rebellion was fed by resentments born of diverse perceptions, including invasive British-style social reforms, harsh land taxes, summary treatment of some rich landowners and princes, as well as scepticism about the improvements brought about by British rule. Many Indians rose against the British; however, many also fought for the British, and the majority remained seemingly compliant to British rule. Violence, which sometimes betrayed exceptional cruelty, was inflicted on both sides, on British officers, and civilians, including women and children, by the rebels, and on the rebels, and their supporters, including sometimes entire villages, by British reprisals; the cities of Delhi and Lucknow were laid waste in the fighting and the British retaliation.After the outbreak of the mutiny in Meerut, the rebels quickly reached Delhi, whose 81-year-old Mughal ruler, Bahadur Shah Zafar, was declared the Emperor of Hindustan. Soon, the rebels had captured large tracts of the North-Western Provinces and Awadh (Oudh). The East India Company's response came rapidly as well. With help from reinforcements, Kanpur was retaken by mid-July 1857, and Delhi by the end of September. However, it then took the remainder of 1857 and the better part of 1858 for the rebellion to be suppressed in Jhansi, Lucknow, and especially the Awadh countryside. Other regions of Company-controlled India—Bengal province, the Bombay Presidency, and the Madras Presidency—remained largely calm. In the Punjab, the Sikh princes crucially helped the British by providing both soldiers and support. The large princely states, Hyderabad, Mysore, Travancore, and Kashmir, as well as the smaller ones of Rajputana, did not join the rebellion, serving the British, in the Governor-General Lord Canning's words, as \"breakwaters in a storm\".In some regions, most notably in Awadh, the rebellion took on the attributes of a patriotic revolt against British oppression. However, the rebel leaders proclaimed no articles of faith that presaged a new political system. Even so, the rebellion proved to be an important watershed in Indian and British Empire history. It led to the dissolution of the East India Company, and forced the British to reorganize the army, the financial system, and the administration in India, through passage of the Government of India Act 1858. India was thereafter administered directly by the British government in the new British Raj. On 1 November 1858, Queen Victoria issued a proclamation to Indians, which while lacking the authority of a constitutional provision, promised rights similar to those of other British subjects. In the following decades, when admission to these rights was not always forthcoming, Indians were to pointedly refer to the Queen's proclamation in growing avowals of a new nationalism.\n",
            "\n",
            "Page: Names of the Indian Rebellion of 1857\n",
            "Summary: The Indian Rebellion o\u001b[0m\n",
            "Thought:\u001b[32;1m\u001b[1;3m I need to find out when India got independence\n",
            "Action: Wikipedia\n",
            "Action Input: Indian independence\u001b[0m"
          ]
        },
        {
          "output_type": "stream",
          "name": "stderr",
          "text": [
            "/usr/local/lib/python3.10/dist-packages/wikipedia/wikipedia.py:389: GuessedAtParserWarning: No parser was explicitly specified, so I'm using the best available HTML parser for this system (\"lxml\"). This usually isn't a problem, but if you run this code on another system, or in a different virtual environment, it may use a different parser and behave differently.\n",
            "\n",
            "The code that caused this warning is on line 389 of the file /usr/local/lib/python3.10/dist-packages/wikipedia/wikipedia.py. To get rid of this warning, pass the additional argument 'features=\"lxml\"' to the BeautifulSoup constructor.\n",
            "\n",
            "  lis = BeautifulSoup(html).find_all('li')\n"
          ]
        },
        {
          "output_type": "stream",
          "name": "stdout",
          "text": [
            "\n",
            "Observation: \u001b[36;1m\u001b[1;3mPage: Indian independence movement\n",
            "Summary: The Indian independence movement was a series of historic events with the ultimate aim of ending British rule in India also known as British Raj. It lasted until 1947.\n",
            "The first nationalistic revolutionary movement for Indian independence emerged from Bengal. It later took root in the newly formed Indian National Congress with prominent moderate leaders seeking the right to appear for Indian Civil Service examinations in British India, as well as more economic rights for natives. The first half of the 20th century saw a more radical approach towards self-rule.\n",
            "The stages of the independence struggle in the 1920s were characterized by the leadership of Mahatma Gandhi and Congress' adoption of Gandhi's policy of non-violence and civil disobedience. Some of the leading followers of Gandhi's ideology were Jawaharlal Nehru, Subhas Chandra Bose, Vallabhbhai Patel, Abdul Ghaffar Khan, Maulana Azad, and others. Intellectuals such as Rabindranath Tagore, Subramania Bharati, and Bankim Chandra Chattopadhyay spread patriotic awareness. Female leaders like Sarojini Naidu, Vijaya Lakshmi Pandit, Pritilata Waddedar, and Kasturba Gandhi promoted the emancipation of Indian women and their participation in the freedom struggle.\n",
            "Few leaders followed a more violent approach, which became especially popular after the Rowlatt Act, which permitted indefinite detention. The Act sparked protests across India, especially in the Punjab province, where they were violently suppressed in the Jallianwala Bagh massacre.\n",
            "The Indian independence movement was in constant ideological evolution. Essentially anti-colonial, it was supplemented by visions of independent, economic development with a secular, democratic, republican, and civil-libertarian political structure. After the 1930s, the movement took on a strong socialist orientation. It culminated in the Indian Independence Act 1947, which ended Crown suzerainty and partitioned British Raj into Dominion of India and Dominion of Pakistan.\n",
            "India remained a Crown Dominion until 26 January 1950, when the Constitution of India established the Republic of India. Pakistan remained a dominion until 1956 when it adopted its first constitution. In 1971, East Pakistan declared its own independence as Bangladesh.\n",
            "\n",
            "Page: Indian Rebellion of 1857\n",
            "Summary: The Indian Rebellion of 1857 was a major uprising in India in 1857–58 against the rule of the British East India Company, which functioned as a sovereign power on behalf of the British Crown. The rebellion began on 10 May 1857 in the form of a mutiny of sepoys of the Company's army in the garrison town of Meerut, 40 mi (64 km) northeast of Delhi. It then erupted into other mutinies and civilian rebellions chiefly in the upper Gangetic plain and central India, though incidents of revolt also occurred farther north and east. The rebellion posed a military threat to British power in that region, and was contained only with the rebels' defeat in Gwalior on 20 June 1858. On 1 November 1858, the British granted amnesty to all rebels not involved in murder, though they did not declare the hostilities to have formally ended until 8 July 1859. \n",
            "The name of the revolt is contested, and it is variously described as the Sepoy Mutiny, the Indian Mutiny, the Great Rebellion, the Revolt of 1857, the Indian Insurrection, and the First War of Independence.The Indian rebellion was fed by resentments born of diverse perceptions, including invasive British-style social reforms, harsh land taxes, summary treatment of some rich landowners and princes, as well as scepticism about the improvements brought about by British rule. Many Indians rose against the British; however, many also fought for the British, and the majority remained seemingly compliant to British rule. Violence, which sometimes betrayed exceptional cruelty, was inflicted on both sides, on British officers, and civilians, including women and children, by the rebels, and on the rebels\u001b[0m\n",
            "Thought:\u001b[32;1m\u001b[1;3m I now know the final answer\n",
            "Final Answer: The First War of Indian Independence was fought in 1857-1858 and India gained independence in 1947, with a time gap of 89 years.\u001b[0m\n",
            "\n",
            "\u001b[1m> Finished chain.\u001b[0m\n",
            "\n",
            "\n",
            "\u001b[1m> Entering new AgentExecutor chain...\u001b[0m\n",
            "\u001b[32;1m\u001b[1;3m I need to find out when the Han dynasty was established and how long it lasted.\n",
            "Action: Wikipedia\n",
            "Action Input: Han dynasty\u001b[0m\n",
            "Observation: \u001b[36;1m\u001b[1;3mPage: Han dynasty\n",
            "Summary: The Han dynasty (UK: , US: ; traditional Chinese: 漢朝; simplified Chinese: 汉朝; pinyin: Hàncháo) was an imperial dynasty of China (202 BC – 9 AD, 25–220 AD), established by Liu Bang and ruled by the House of Liu. The dynasty was preceded by the short-lived Qin dynasty (221–207 BC) and a warring interregnum known as the Chu–Han contention (206–202 BC), and it was succeeded by the Three Kingdoms period (220–280 AD). The dynasty was briefly interrupted by the Xin dynasty (9–23 AD) established by usurping regent Wang Mang, and is thus separated into two periods—the Western Han (202 BC – 9 AD) and the Eastern Han (25–220 AD). Spanning over four centuries, the Han dynasty is considered a golden age in Chinese history, and it has influenced the identity of the Chinese civilization ever since. Modern China's majority ethnic group refer to themselves as the \"Han people\" or \"Han Chinese\". The spoken Sinitic language and written Chinese are referred to respectively as the \"Han language\" and \"Han characters\".The emperor was at the pinnacle of Han society. He presided over the Han government but shared power with both the nobility and appointed ministers who came largely from the scholarly gentry class. The Han Empire was divided into areas directly controlled by the central government called commanderies, as well as a number of semi-autonomous kingdoms. These kingdoms gradually lost all vestiges of their independence, particularly following the Rebellion of the Seven States. From the reign of Emperor Wu (r. 141–87 BC) onward, the Chinese court officially sponsored Confucianism in education and court politics, synthesized with the cosmology of later scholars such as Dong Zhongshu. This policy endured until the fall of the Qing dynasty in 1912.\n",
            "The Han dynasty saw an age of economic prosperity and witnessed a significant growth of the money economy first established during the Zhou dynasty (c. 1050–256 BC). The coinage minted by the central government in 119 BC remained the standard coinage of China until the Tang dynasty (618–907 AD). The period saw a number of limited institutional innovations. To finance its military campaigns and the settlement of newly conquered frontier territories, the Han government nationalized the private salt and iron industries in 117 BC, though these government monopolies were later repealed during the Eastern Han dynasty. Science and technology during the Han period saw significant advances, including the process of papermaking, the nautical steering ship rudder, the use of negative numbers in mathematics, the raised-relief map, the hydraulic-powered armillary sphere for astronomy, and a seismometer employing an inverted pendulum that could be used to discern the cardinal direction of distant earthquakes.\n",
            "The Han dynasty had many conflicts with the Xiongnu, a nomadic confederation centered in the eastern Eurasian steppe. The Xiongnu defeated the Han in 200 BC, prompting the Han to appease the Xiongnu with a policy of marriage alliance and payments of tribute, though the Xiongnu continued to raid the Han's northern borders. Han policy changed in 133 BC, under Emperor Wu, when Han forces began a series of military campaigns to quell the Xiongnu. The Han ultimately defeated the Xiongnu, forcing them to accept vassal status as Han tributaries, and the Xiongnu confederation fragmented. The Han conquered the Hexi Corridor and Inner Asian territory of the Tarim Basin from the Xiongnu, helping to establish the vast trade network known as the Silk Road. The lands north of the Han's borders were later overrun by the nomadic Xianbei confederation. Emperor Wu also launched successful conquests in the south, annexing Nanyue in 111 BC and Dian in 109 BC. He further expanded Han territory into the northern Korean Peninsula, where Han forces conquered Gojoseon and established the Xuantu and Lelang Commanderies in 108 BC. After 92 AD, the palace eunuchs increasingly involved themselves in the dynasty's\u001b[0m\n",
            "Thought:\u001b[32;1m\u001b[1;3m I now know when the Han dynasty was established and how long it lasted.\n",
            "Final Answer: The Han dynasty was established in 202 BC and lasted until 220 AD, spanning over four centuries.\u001b[0m\n",
            "\n",
            "\u001b[1m> Finished chain.\u001b[0m\n",
            "\n",
            "\n",
            "\u001b[1m> Entering new AgentExecutor chain...\u001b[0m\n",
            "\u001b[32;1m\u001b[1;3m I need to find out when the war was fought and who was involved\n",
            "Action: Wikipedia\n",
            "Action Input: Spanish Civil War\u001b[0m\n",
            "Observation: \u001b[36;1m\u001b[1;3mPage: Spanish Civil War\n",
            "Summary: The Spanish Civil War (Spanish: Guerra Civil Española) was fought from 1936 to 1939 between the Republicans and the Nationalists. Republicans were loyal to the left-leaning Popular Front government of the Second Spanish Republic, and consisted of various socialist, communist, separatist, anarchist, and republican parties, some of which had opposed the government in the pre-war period. The opposing Nationalists were an alliance of Falangists, monarchists, conservatives, and traditionalists led by a military junta among whom General Francisco Franco quickly achieved a preponderant role. Due to the international political climate at the time, the war had many facets and was variously viewed as class struggle, a religious struggle, a struggle between dictatorship and republican democracy, between revolution and counterrevolution, and between fascism and communism. According to Claude Bowers, U.S. ambassador to Spain during the war, it was the \"dress rehearsal\" for World War II. The Nationalists won the war, which ended in early 1939, and ruled Spain until Franco's death in November 1975.\n",
            "The war began after the partial failure of the coup d'état of July 1936 against the Republican government by a group of generals of the Spanish Republican Armed Forces, with General Emilio Mola as the primary planner and leader and having General José Sanjurjo as a figurehead. The government at the time was a coalition of Republicans, supported in the Cortes by communist and socialist parties, under the leadership of centre-left President Manuel Azaña. The Nationalist faction was supported by a number of conservative groups, including CEDA, monarchists, including both the opposing Alfonsists and the religious conservative Carlists, and the Falange Española de las JONS, a fascist political party. After the deaths of Sanjurjo, Emilio Mola and Manuel Goded Llopis, Franco emerged as the remaining leader of the Nationalist side.\n",
            "The coup was supported by military units in Morocco, Pamplona, Burgos, Zaragoza, Valladolid, Cádiz, Córdoba, and Seville. However, rebelling units in almost all important cities—such as Madrid, Barcelona, Valencia, Bilbao, and Málaga—did not gain control, and those cities remained under the control of the government. This left Spain militarily and politically divided. The Nationalists and the Republican government fought for control of the country. The Nationalist forces received munitions, soldiers, and air support from Fascist Italy, Nazi Germany and Portugal, while the Republican side received support from the Soviet Union and Mexico. Other countries, such as the United Kingdom, France, and the United States, continued to recognise the Republican government but followed an official policy of non-intervention. Despite this policy, tens of thousands of citizens from non-interventionist countries directly participated in the conflict. They fought mostly in the pro-Republican International Brigades, which also included several thousand exiles from pro-Nationalist regimes.\n",
            "The Nationalists advanced from their strongholds in the south and west, capturing most of Spain's northern coastline in 1937. They also besieged Madrid and the area to its south and west for much of the war. After much of Catalonia was captured in 1938 and 1939, and Madrid cut off from Barcelona, the Republican military position became hopeless. Following the fall without resistance of Barcelona in January 1939, the Francoist regime was recognised by France and the United Kingdom in February 1939. On 5 March 1939, in response to an alleged increasing communist dominance of the republican government and the deteriorating military situation, Colonel Segismundo Casado led a military coup against the Republican government, with the intention of seeking peace with the Nationalists. These peace overtures, however, were rejected by Franco. Following internal conflict between Republican factions in Madrid in the same month, Franco enter\u001b[0m\n",
            "Thought:\u001b[32;1m\u001b[1;3m I now know the general timeline of the Spanish Civil War and who was involved\n",
            "Final Answer: The Spanish Civil War was fought from 1936 to 1939 between the Republicans and the Nationalists. Republicans were loyal to the left-leaning Popular Front government of the Second Spanish Republic, and consisted of various socialist, communist, separatist, anarchist, and republican parties, while the Nationalists were an alliance of Falangists, monarchists, conservatives, and traditionalists led by a military junta among whom General Francisco Franco quickly achieved a preponderant role.\u001b[0m\n",
            "\n",
            "\u001b[1m> Finished chain.\u001b[0m\n",
            "Serial executed in 99.73 seconds.\n",
            "\n",
            "\n",
            "\u001b[1m> Entering new AgentExecutor chain...\u001b[0m\n",
            "\n",
            "\n",
            "\u001b[1m> Entering new AgentExecutor chain...\u001b[0m\n",
            "\n",
            "\n",
            "\u001b[1m> Entering new AgentExecutor chain...\u001b[0m\n",
            "\n",
            "\n",
            "\u001b[1m> Entering new AgentExecutor chain...\u001b[0m\n",
            "\n",
            "\n",
            "\u001b[1m> Entering new AgentExecutor chain...\u001b[0m\n",
            "\n",
            "\n",
            "\u001b[1m> Entering new AgentExecutor chain...\u001b[0m\n",
            "\n",
            "\n",
            "\u001b[1m> Entering new AgentExecutor chain...\u001b[0m\n",
            "\n",
            "\n",
            "\u001b[1m> Entering new AgentExecutor chain...\u001b[0m\n",
            "\n",
            "\n",
            "\u001b[1m> Entering new AgentExecutor chain...\u001b[0m\n",
            "\n",
            "\n",
            "\u001b[1m> Entering new AgentExecutor chain...\u001b[0m\n",
            "\n",
            "\n",
            "\u001b[1m> Entering new AgentExecutor chain...\u001b[0m\n",
            "\n",
            "\u001b[1m> Entering new AgentExecutor chain...\u001b[0m\n",
            "\n",
            "\u001b[32;1m\u001b[1;3m I need to find out when the battle was fought and who the leaders were.\n",
            "Action: Wikipedia\n",
            "Action Input: Battle of Waterloo\u001b[0m\u001b[32;1m\u001b[1;3m I need to find out when and which countries were involved in the First Hundred Year War.\n",
            "Action: Wikipedia\n",
            "Action Input: First Hundred Year War\u001b[0m\u001b[32;1m\u001b[1;3m I need to find out when and which countries were involved in the First Hundred Year War.\n",
            "Action: Wikipedia\n",
            "Action Input: First Hundred Year War\u001b[0m\u001b[32;1m\u001b[1;3m I need to find out when the war was fought and who was involved\n",
            "Action: Wikipedia\n",
            "Action Input: Spanish Civil War\u001b[0m\u001b[32;1m\u001b[1;3m I need to find out when the war was fought and who was involved\n",
            "Action: Wikipedia\n",
            "Action Input: Spanish Civil War\u001b[0m\u001b[32;1m\u001b[1;3m I need to find out when the battle was fought and who the leaders were.\n",
            "Action: Wikipedia\n",
            "Action Input: Battle of Waterloo\u001b[0m\u001b[32;1m\u001b[1;3m I need to find out when the war was fought and who was involved.\n",
            "Action: Wikipedia\n",
            "Action Input: American Civil War\u001b[0m"
          ]
        },
        {
          "output_type": "stream",
          "name": "stderr",
          "text": [
            "/usr/local/lib/python3.10/dist-packages/wikipedia/wikipedia.py:389: GuessedAtParserWarning: No parser was explicitly specified, so I'm using the best available HTML parser for this system (\"lxml\"). This usually isn't a problem, but if you run this code on another system, or in a different virtual environment, it may use a different parser and behave differently.\n",
            "\n",
            "The code that caused this warning is on line 389 of the file /usr/local/lib/python3.10/dist-packages/wikipedia/wikipedia.py. To get rid of this warning, pass the additional argument 'features=\"lxml\"' to the BeautifulSoup constructor.\n",
            "\n",
            "  lis = BeautifulSoup(html).find_all('li')\n"
          ]
        },
        {
          "output_type": "stream",
          "name": "stdout",
          "text": [
            "\n",
            "Observation: \u001b[36;1m\u001b[1;3mPage: Hundred Years' War\n",
            "Summary: The Hundred Years' War (French: Guerre de Cent Ans; 1337–1453) was a series of armed conflicts fought between the kingdoms of England and France during the Late Middle Ages. It originated from English claims to the French throne. The war grew into a broader power struggle involving factions from across Western Europe, fueled by emerging nationalism on both sides. The periodization of the war takes place over 116 years, wherein the war was interrupted by several years of truces.\n",
            "The Hundred Years' War was a significant conflict in the Middle Ages. During the war, five generations of kings from two rival dynasties fought for the throne of France, which was then the dominant kingdom in Western Europe. The war had a lasting effect on European history. Both sides produced innovations in military technology and tactics, including professional standing armies and artillery, that permanently changed warfare in Europe; chivalry, which reached its height during the conflict, subsequently declined. Stronger national identities took root in both countries, which became more centralised and gradually rose as global powers.The term \"Hundred Years' War\" was adopted by later historians as a historiographical periodisation to encompass related conflicts, constructing the longest military conflict in European history. The war is commonly divided into three phases separated by truces: the Edwardian War (1337–1360), the Caroline War (1369–1389), and the Lancastrian War (1415–1453). Each side drew many allies into the conflict, with English forces initially prevailing; however, the French forces under the House of Valois ultimately retained control over the Kingdom of France. The French and English monarchies, previously intertwined, thereafter remained separate.\n",
            "\n",
            "Page: Hundred Years' War, 1369–1389\n",
            "Summary: The Caroline War was the second phase of the Hundred Years' War between France and England, following the Edwardian War. It was so-named after Charles V of France, who resumed the war nine years after the Treaty of Brétigny (signed 1360). The Kingdom of France dominated this phase of the war.\n",
            "The Black Prince, eldest son and heir of Edward III of England, spent a huge sum of money in order to restore Peter the Cruel to the throne of Castile. The Castilian King was unable to repay him, however, so the Black Prince raised taxes in his domains in Aquitaine. The people's complaints were unheeded, so they appealed to the French King Charles V. In May 1369, the Black Prince received summons from the French king demanding his presence in Paris. The prince refused, and Charles responded by declaring war. He immediately set out to reverse the territorial losses imposed at Brétigny and he was largely successful in his lifetime. His successor, Charles VI, made peace with the son of the Black Prince, Richard II, in 1389. This truce was extended many times until the war was resumed in 1415.\n",
            "\n",
            "Page: Hundred Years' War, 1415–1453\n",
            "Summary: The Lancastrian War was the third and final phase of the Hundred Years' War between England and France. It lasted from 1415, when King Henry V of England invaded Normandy, to 1453, when the English lost Bordeaux. It followed a long period of peace from the end of the Caroline War in 1389. The phase is named after the House of Lancaster, the ruling house of the Kingdom of England, to which Henry V belonged.\n",
            "The first half of this phase of the war was dominated by the Kingdom of England. Initial English successes, notably at the famous Battle of Agincourt, coupled with divisions among the French ruling class, allowed the English to gain control of large parts of France. In 1420, the Treaty of Troyes was signed, by which the English king married the French princess Catherine and was made regent of the kingdom and heir to the throne of France. A victory on paper was thus achieved by the English, with their claims now having legal standing. Some of the French nobility refused to recognise the agr\u001b[0m\n",
            "Thought:\n",
            "Observation: \u001b[36;1m\u001b[1;3mPage: Battle of Waterloo\n",
            "Summary: The Battle of Waterloo (Dutch pronunciation: [ˈʋaːtərloː] ) was fought on Sunday 18 June 1815, near Waterloo (at that time in the United Kingdom of the Netherlands, now in Belgium), marking  the end of the Napoleonic Wars. A French army under the command of Napoleon was defeated by two armies of the Seventh Coalition. One of these was a British-led force with units from the United Kingdom, the Netherlands, Hanover, Brunswick, and Nassau, under the command of the Duke of Wellington (often referred to as the Anglo-allied army or Wellington's army). The other comprised three corps of the Prussian army under Field Marshal von Blücher (the fourth corps of this army fought at the Battle of Wavre on the same day). The battle was known contemporarily as the Battle of Mont Saint-Jean in France or La Belle Alliance (\"the Beautiful Alliance\") in Prussia.Upon Napoleon's return to power in March 1815 (beginning the Hundred Days), many states that had previously opposed him formed the Seventh Coalition and hurriedly mobilised their armies. Wellington's and Blücher's armies were cantoned close to the northeastern border of France. Napoleon planned to attack them separately, before they could link up and invade France with other members of the coalition.\n",
            "On 16 June, Napoleon successfully attacked the bulk of the Prussian army at the Battle of Ligny with his main force, while a small portion of the French army contested the Battle of Quatre Bras to prevent the Anglo-allied army from reinforcing the Prussians. The Anglo-allied army held their ground at Quatre Bras, and on the 17th, the Prussians withdrew from Ligny in good order, while Wellington then withdrew in parallel with the Prussians northward to Waterloo on 17 June. Napoleon sent a third of his forces to pursue the Prussians, which resulted in the separate Battle of Wavre with the Prussian rear-guard on 18–19 June, and prevented that French force from participating at Waterloo.\n",
            "Upon learning that the Prussian army was able to support him, Wellington decided to offer battle on the Mont-Saint-Jean escarpment across the Brussels road, near the village of Waterloo. Here he withstood repeated attacks by the French throughout the afternoon of 18 June and almost lost the battle, but was eventually aided by the progressively arriving 50,000 Prussians who attacked the French flank and inflicted heavy casualties. In the evening, Napoleon assaulted the Anglo-allied line with his last reserves, the senior infantry battalions of the Imperial Guard. With the Prussians breaking through on the French right flank, the Anglo-allied army repulsed the Imperial Guard, and the French army was routed.\n",
            "Waterloo was the decisive engagement of the Waterloo campaign and Napoleon's last. It was also the second bloodiest single day battle of the Napoleonic Wars, after Borodino. According to Wellington, the battle was \"the nearest-run thing you ever saw in your life\". Napoleon abdicated four days later, and coalition forces entered Paris on 7 July. The defeat at Waterloo marked the end of Napoleon's Hundred Days return from exile. It precipitated Napoleon's second and definitive abdication as Emperor of the French, and ended the First French Empire. It set a historical  milestone between serial European wars and decades of relative peace, often referred to as the Pax Britannica.  In popular culture, the phrase \"meeting one's Waterloo\" has become an expression for someone suffering a final defeat, as in the ABBA song \"Waterloo\".\n",
            "The battlefield is located in the Belgian municipalities of Braine-l'Alleud and Lasne, about 15 kilometres (9.3 mi) south of Brussels, and about 2 kilometres (1.2 mi) from the town of Waterloo. The site of the battlefield today is dominated by the monument of the Lion's Mound, a large artificial hill constructed from earth taken from the battlefield itself, but the topography of the battlefield near the mound has not been preserved.\n",
            "\n",
            "Page: Order of battle of \u001b[0m\n",
            "Thought:\u001b[32;1m\u001b[1;3m I need to find out when the war was fought and who was involved.\n",
            "Action: Wikipedia\n",
            "Action Input: American Civil War\u001b[0m\u001b[32;1m\u001b[1;3m I need to find out when the war was fought and when India got independence\n",
            "Action: Wikipedia\n",
            "Action Input: First war of Indian independence\u001b[0m\u001b[32;1m\u001b[1;3m I need to find out when the Han dynasty was established and how long it lasted.\n",
            "Action: Wikipedia\n",
            "Action Input: Han dynasty\u001b[0m\u001b[32;1m\u001b[1;3m I need to find out when the war was fought and when India got independence\n",
            "Action: Wikipedia\n",
            "Action Input: First war of Indian independence\u001b[0m\u001b[32;1m\u001b[1;3m I need to find out when the Han dynasty was established and how long it lasted.\n",
            "Action: Wikipedia\n",
            "Action Input: Han dynasty\u001b[0m\n",
            "Observation: \u001b[36;1m\u001b[1;3mPage: Battle of Waterloo\n",
            "Summary: The Battle of Waterloo (Dutch pronunciation: [ˈʋaːtərloː] ) was fought on Sunday 18 June 1815, near Waterloo (at that time in the United Kingdom of the Netherlands, now in Belgium), marking  the end of the Napoleonic Wars. A French army under the command of Napoleon was defeated by two armies of the Seventh Coalition. One of these was a British-led force with units from the United Kingdom, the Netherlands, Hanover, Brunswick, and Nassau, under the command of the Duke of Wellington (often referred to as the Anglo-allied army or Wellington's army). The other comprised three corps of the Prussian army under Field Marshal von Blücher (the fourth corps of this army fought at the Battle of Wavre on the same day). The battle was known contemporarily as the Battle of Mont Saint-Jean in France or La Belle Alliance (\"the Beautiful Alliance\") in Prussia.Upon Napoleon's return to power in March 1815 (beginning the Hundred Days), many states that had previously opposed him formed the Seventh Coalition and hurriedly mobilised their armies. Wellington's and Blücher's armies were cantoned close to the northeastern border of France. Napoleon planned to attack them separately, before they could link up and invade France with other members of the coalition.\n",
            "On 16 June, Napoleon successfully attacked the bulk of the Prussian army at the Battle of Ligny with his main force, while a small portion of the French army contested the Battle of Quatre Bras to prevent the Anglo-allied army from reinforcing the Prussians. The Anglo-allied army held their ground at Quatre Bras, and on the 17th, the Prussians withdrew from Ligny in good order, while Wellington then withdrew in parallel with the Prussians northward to Waterloo on 17 June. Napoleon sent a third of his forces to pursue the Prussians, which resulted in the separate Battle of Wavre with the Prussian rear-guard on 18–19 June, and prevented that French force from participating at Waterloo.\n",
            "Upon learning that the Prussian army was able to support him, Wellington decided to offer battle on the Mont-Saint-Jean escarpment across the Brussels road, near the village of Waterloo. Here he withstood repeated attacks by the French throughout the afternoon of 18 June and almost lost the battle, but was eventually aided by the progressively arriving 50,000 Prussians who attacked the French flank and inflicted heavy casualties. In the evening, Napoleon assaulted the Anglo-allied line with his last reserves, the senior infantry battalions of the Imperial Guard. With the Prussians breaking through on the French right flank, the Anglo-allied army repulsed the Imperial Guard, and the French army was routed.\n",
            "Waterloo was the decisive engagement of the Waterloo campaign and Napoleon's last. It was also the second bloodiest single day battle of the Napoleonic Wars, after Borodino. According to Wellington, the battle was \"the nearest-run thing you ever saw in your life\". Napoleon abdicated four days later, and coalition forces entered Paris on 7 July. The defeat at Waterloo marked the end of Napoleon's Hundred Days return from exile. It precipitated Napoleon's second and definitive abdication as Emperor of the French, and ended the First French Empire. It set a historical  milestone between serial European wars and decades of relative peace, often referred to as the Pax Britannica.  In popular culture, the phrase \"meeting one's Waterloo\" has become an expression for someone suffering a final defeat, as in the ABBA song \"Waterloo\".\n",
            "The battlefield is located in the Belgian municipalities of Braine-l'Alleud and Lasne, about 15 kilometres (9.3 mi) south of Brussels, and about 2 kilometres (1.2 mi) from the town of Waterloo. The site of the battlefield today is dominated by the monument of the Lion's Mound, a large artificial hill constructed from earth taken from the battlefield itself, but the topography of the battlefield near the mound has not been preserved.\n",
            "\n",
            "Page: Order of battle of \u001b[0m\n",
            "Thought:\n",
            "Observation: \u001b[36;1m\u001b[1;3mPage: Hundred Years' War\n",
            "Summary: The Hundred Years' War (French: Guerre de Cent Ans; 1337–1453) was a series of armed conflicts fought between the kingdoms of England and France during the Late Middle Ages. It originated from English claims to the French throne. The war grew into a broader power struggle involving factions from across Western Europe, fueled by emerging nationalism on both sides. The periodization of the war takes place over 116 years, wherein the war was interrupted by several years of truces.\n",
            "The Hundred Years' War was a significant conflict in the Middle Ages. During the war, five generations of kings from two rival dynasties fought for the throne of France, which was then the dominant kingdom in Western Europe. The war had a lasting effect on European history. Both sides produced innovations in military technology and tactics, including professional standing armies and artillery, that permanently changed warfare in Europe; chivalry, which reached its height during the conflict, subsequently declined. Stronger national identities took root in both countries, which became more centralised and gradually rose as global powers.The term \"Hundred Years' War\" was adopted by later historians as a historiographical periodisation to encompass related conflicts, constructing the longest military conflict in European history. The war is commonly divided into three phases separated by truces: the Edwardian War (1337–1360), the Caroline War (1369–1389), and the Lancastrian War (1415–1453). Each side drew many allies into the conflict, with English forces initially prevailing; however, the French forces under the House of Valois ultimately retained control over the Kingdom of France. The French and English monarchies, previously intertwined, thereafter remained separate.\n",
            "\n",
            "Page: Hundred Years' War, 1415–1453\n",
            "Summary: The Lancastrian War was the third and final phase of the Hundred Years' War between England and France. It lasted from 1415, when King Henry V of England invaded Normandy, to 1453, when the English lost Bordeaux. It followed a long period of peace from the end of the Caroline War in 1389. The phase is named after the House of Lancaster, the ruling house of the Kingdom of England, to which Henry V belonged.\n",
            "The first half of this phase of the war was dominated by the Kingdom of England. Initial English successes, notably at the famous Battle of Agincourt, coupled with divisions among the French ruling class, allowed the English to gain control of large parts of France. In 1420, the Treaty of Troyes was signed, by which the English king married the French princess Catherine and was made regent of the kingdom and heir to the throne of France. A victory on paper was thus achieved by the English, with their claims now having legal standing. Some of the French nobility refused to recognise the agreement, however, and so military subjugation was still necessary to enforce its provisions. King Henry V and, after his death, his brother John, Duke of Bedford, brought the English to the height of their power in France, with an English king crowned in Paris.\n",
            "The second half of this phase of the war was dominated by the Kingdom of France. French forces counterattacked, inspired by Joan of Arc, La Hire and the Count of Dunois, and aided by the English loss of its main allies, the Dukes of Burgundy and Brittany. Charles VII of France was crowned in Notre-Dame de Reims in 1429, and from then a slow but steady reconquest of English-held French territories ensued. Ultimately the English would be expelled from France and lose all of their continental territories, except the Pale of Calais (which would be re-captured by the French in 1558).\n",
            "The Battle of Castillon (1453) was the final action of the Hundred Years' War, but France and England remained formally at war until the Treaty of Picquigny in 1475. English, and later British monarchs would continue to nominally claim the French throne until 1801, though they would never agai\u001b[0m\n",
            "Thought:\n",
            "Observation: \u001b[36;1m\u001b[1;3mPage: Spanish Civil War\n",
            "Summary: The Spanish Civil War (Spanish: Guerra Civil Española) was fought from 1936 to 1939 between the Republicans and the Nationalists. Republicans were loyal to the left-leaning Popular Front government of the Second Spanish Republic, and consisted of various socialist, communist, separatist, anarchist, and republican parties, some of which had opposed the government in the pre-war period. The opposing Nationalists were an alliance of Falangists, monarchists, conservatives, and traditionalists led by a military junta among whom General Francisco Franco quickly achieved a preponderant role. Due to the international political climate at the time, the war had many facets and was variously viewed as class struggle, a religious struggle, a struggle between dictatorship and republican democracy, between revolution and counterrevolution, and between fascism and communism. According to Claude Bowers, U.S. ambassador to Spain during the war, it was the \"dress rehearsal\" for World War II. The Nationalists won the war, which ended in early 1939, and ruled Spain until Franco's death in November 1975.\n",
            "The war began after the partial failure of the coup d'état of July 1936 against the Republican government by a group of generals of the Spanish Republican Armed Forces, with General Emilio Mola as the primary planner and leader and having General José Sanjurjo as a figurehead. The government at the time was a coalition of Republicans, supported in the Cortes by communist and socialist parties, under the leadership of centre-left President Manuel Azaña. The Nationalist faction was supported by a number of conservative groups, including CEDA, monarchists, including both the opposing Alfonsists and the religious conservative Carlists, and the Falange Española de las JONS, a fascist political party. After the deaths of Sanjurjo, Emilio Mola and Manuel Goded Llopis, Franco emerged as the remaining leader of the Nationalist side.\n",
            "The coup was supported by military units in Morocco, Pamplona, Burgos, Zaragoza, Valladolid, Cádiz, Córdoba, and Seville. However, rebelling units in almost all important cities—such as Madrid, Barcelona, Valencia, Bilbao, and Málaga—did not gain control, and those cities remained under the control of the government. This left Spain militarily and politically divided. The Nationalists and the Republican government fought for control of the country. The Nationalist forces received munitions, soldiers, and air support from Fascist Italy, Nazi Germany and Portugal, while the Republican side received support from the Soviet Union and Mexico. Other countries, such as the United Kingdom, France, and the United States, continued to recognise the Republican government but followed an official policy of non-intervention. Despite this policy, tens of thousands of citizens from non-interventionist countries directly participated in the conflict. They fought mostly in the pro-Republican International Brigades, which also included several thousand exiles from pro-Nationalist regimes.\n",
            "The Nationalists advanced from their strongholds in the south and west, capturing most of Spain's northern coastline in 1937. They also besieged Madrid and the area to its south and west for much of the war. After much of Catalonia was captured in 1938 and 1939, and Madrid cut off from Barcelona, the Republican military position became hopeless. Following the fall without resistance of Barcelona in January 1939, the Francoist regime was recognised by France and the United Kingdom in February 1939. On 5 March 1939, in response to an alleged increasing communist dominance of the republican government and the deteriorating military situation, Colonel Segismundo Casado led a military coup against the Republican government, with the intention of seeking peace with the Nationalists. These peace overtures, however, were rejected by Franco. Following internal conflict between Republican factions in Madrid in the same month, Franco enter\u001b[0m\n",
            "Thought:\n",
            "Observation: \u001b[36;1m\u001b[1;3mPage: Spanish Civil War\n",
            "Summary: The Spanish Civil War (Spanish: Guerra Civil Española) was fought from 1936 to 1939 between the Republicans and the Nationalists. Republicans were loyal to the left-leaning Popular Front government of the Second Spanish Republic, and consisted of various socialist, communist, separatist, anarchist, and republican parties, some of which had opposed the government in the pre-war period. The opposing Nationalists were an alliance of Falangists, monarchists, conservatives, and traditionalists led by a military junta among whom General Francisco Franco quickly achieved a preponderant role. Due to the international political climate at the time, the war had many facets and was variously viewed as class struggle, a religious struggle, a struggle between dictatorship and republican democracy, between revolution and counterrevolution, and between fascism and communism. According to Claude Bowers, U.S. ambassador to Spain during the war, it was the \"dress rehearsal\" for World War II. The Nationalists won the war, which ended in early 1939, and ruled Spain until Franco's death in November 1975.\n",
            "The war began after the partial failure of the coup d'état of July 1936 against the Republican government by a group of generals of the Spanish Republican Armed Forces, with General Emilio Mola as the primary planner and leader and having General José Sanjurjo as a figurehead. The government at the time was a coalition of Republicans, supported in the Cortes by communist and socialist parties, under the leadership of centre-left President Manuel Azaña. The Nationalist faction was supported by a number of conservative groups, including CEDA, monarchists, including both the opposing Alfonsists and the religious conservative Carlists, and the Falange Española de las JONS, a fascist political party. After the deaths of Sanjurjo, Emilio Mola and Manuel Goded Llopis, Franco emerged as the remaining leader of the Nationalist side.\n",
            "The coup was supported by military units in Morocco, Pamplona, Burgos, Zaragoza, Valladolid, Cádiz, Córdoba, and Seville. However, rebelling units in almost all important cities—such as Madrid, Barcelona, Valencia, Bilbao, and Málaga—did not gain control, and those cities remained under the control of the government. This left Spain militarily and politically divided. The Nationalists and the Republican government fought for control of the country. The Nationalist forces received munitions, soldiers, and air support from Fascist Italy, Nazi Germany and Portugal, while the Republican side received support from the Soviet Union and Mexico. Other countries, such as the United Kingdom, France, and the United States, continued to recognise the Republican government but followed an official policy of non-intervention. Despite this policy, tens of thousands of citizens from non-interventionist countries directly participated in the conflict. They fought mostly in the pro-Republican International Brigades, which also included several thousand exiles from pro-Nationalist regimes.\n",
            "The Nationalists advanced from their strongholds in the south and west, capturing most of Spain's northern coastline in 1937. They also besieged Madrid and the area to its south and west for much of the war. After much of Catalonia was captured in 1938 and 1939, and Madrid cut off from Barcelona, the Republican military position became hopeless. Following the fall without resistance of Barcelona in January 1939, the Francoist regime was recognised by France and the United Kingdom in February 1939. On 5 March 1939, in response to an alleged increasing communist dominance of the republican government and the deteriorating military situation, Colonel Segismundo Casado led a military coup against the Republican government, with the intention of seeking peace with the Nationalists. These peace overtures, however, were rejected by Franco. Following internal conflict between Republican factions in Madrid in the same month, Franco enter\u001b[0m\n",
            "Thought:\n",
            "Observation: \u001b[36;1m\u001b[1;3mPage: American Civil War\n",
            "Summary: The American Civil War (April 12, 1861 – May 26, 1865; also known by other names) was a civil war in the United States between the Union (\"the North\") and the Confederacy (\"the South\"), which had been formed by states that had seceded from the Union. The cause of the war was the dispute over whether slavery would be permitted to expand into the western territories, leading to more slave states, or be prevented from doing so, which many believed would place slavery on a course of ultimate extinction.\n",
            "Decades of political controversy over slavery were brought to a head by the victory in the 1860 U.S. presidential election of Abraham Lincoln, who opposed slavery's expansion into the western territories. Seven southern slave states responded to Lincoln's victory by seceding from the United States and forming the Confederacy. The Confederacy seized U.S. forts and other federal assets within their borders. Four more southern states seceded after the war began and, led by Confederate President Jefferson Davis, the Confederacy asserted control over about a third of the U.S. population in eleven states. Four years of intense combat, mostly in the South, ensued.\n",
            "During 1861–1862 in the Western Theater, the Union made significant permanent gains—though in the Eastern Theater the conflict was inconclusive. The abolition of slavery became a Union war goal on January 1, 1863, when Lincoln issued the Emancipation Proclamation, which declared all slaves in rebel states to be free, which applied to more than 3.5 million of the 4 million enslaved people in the country. To the west, the Union first destroyed the Confederacy's river navy by the summer of 1862, then much of its western armies, and later seized New Orleans. The successful 1863 Union siege of Vicksburg split the Confederacy in two at the Mississippi River. In 1863, Confederate General Robert E. Lee's incursion north ended at the Battle of Gettysburg. Western successes led to General Ulysses S. Grant's command of all Union armies in 1864. Inflicting an ever-tightening naval blockade of Confederate ports, the Union marshaled resources and manpower to attack the Confederacy from all directions. This led to the fall of Atlanta in 1864 to Union General William Tecumseh Sherman, followed by his March to the Sea. The last significant battles raged around the ten-month Siege of Petersburg, gateway to the Confederate capital of Richmond. The Confederates abandoned Richmond, and on April 9, 1865, Lee surrendered to Grant following the Battle of Appomattox Court House, setting in motion the end of the war.\n",
            "A wave of Confederate surrenders followed. On April 14, just five days after Lee's surrender, Lincoln was assassinated. On May 26, the last military department of the Confederacy, the Department of the Trans-Mississippi, effectively surrendered, but the conclusion of the American Civil War lacks a clear end date, and Appomattox is often symbolically referred to. Small confederate ground forces continued surrendering past the May 26 surrender date until June 23. By the end of the war, much of the South's infrastructure was destroyed, especially its railroads. The Confederacy collapsed, slavery was abolished, and four million enslaved black people were freed. The war-torn nation then entered the Reconstruction era in an attempt to rebuild the country, bring the former Confederate states back into the United States, and grant civil rights to freed slaves.\n",
            "The Civil War is one of the most extensively studied and written about episodes in U.S. history. It remains the subject of cultural and historiographical debate. Of particular interest is the persisting myth of the Lost Cause of the Confederacy. The American Civil War was among the first wars to use industrial warfare. Railroads, the telegraph, steamships, the ironclad warship, and mass-produced weapons were all widely used during the war. In total, the war left between 620,000 and 750,000 soldiers dead, along\u001b[0m\n",
            "Thought:\u001b[32;1m\u001b[1;3m I need to find out who the leaders were.\n",
            "Action: Wikipedia\n",
            "Action Input: Order of battle of Waterloo\u001b[0m\u001b[32;1m\u001b[1;3m I now know the final answer\n",
            "Final Answer: The First Hundred Year War was fought from 1337 to 1453 between the kingdoms of England and France.\u001b[0m\n",
            "\n",
            "\u001b[1m> Finished chain.\u001b[0m\n",
            "\n",
            "Observation: \u001b[36;1m\u001b[1;3mPage: Han dynasty\n",
            "Summary: The Han dynasty (UK: , US: ; traditional Chinese: 漢朝; simplified Chinese: 汉朝; pinyin: Hàncháo) was an imperial dynasty of China (202 BC – 9 AD, 25–220 AD), established by Liu Bang and ruled by the House of Liu. The dynasty was preceded by the short-lived Qin dynasty (221–207 BC) and a warring interregnum known as the Chu–Han contention (206–202 BC), and it was succeeded by the Three Kingdoms period (220–280 AD). The dynasty was briefly interrupted by the Xin dynasty (9–23 AD) established by usurping regent Wang Mang, and is thus separated into two periods—the Western Han (202 BC – 9 AD) and the Eastern Han (25–220 AD). Spanning over four centuries, the Han dynasty is considered a golden age in Chinese history, and it has influenced the identity of the Chinese civilization ever since. Modern China's majority ethnic group refer to themselves as the \"Han people\" or \"Han Chinese\". The spoken Sinitic language and written Chinese are referred to respectively as the \"Han language\" and \"Han characters\".The emperor was at the pinnacle of Han society. He presided over the Han government but shared power with both the nobility and appointed ministers who came largely from the scholarly gentry class. The Han Empire was divided into areas directly controlled by the central government called commanderies, as well as a number of semi-autonomous kingdoms. These kingdoms gradually lost all vestiges of their independence, particularly following the Rebellion of the Seven States. From the reign of Emperor Wu (r. 141–87 BC) onward, the Chinese court officially sponsored Confucianism in education and court politics, synthesized with the cosmology of later scholars such as Dong Zhongshu. This policy endured until the fall of the Qing dynasty in 1912.\n",
            "The Han dynasty saw an age of economic prosperity and witnessed a significant growth of the money economy first established during the Zhou dynasty (c. 1050–256 BC). The coinage minted by the central government in 119 BC remained the standard coinage of China until the Tang dynasty (618–907 AD). The period saw a number of limited institutional innovations. To finance its military campaigns and the settlement of newly conquered frontier territories, the Han government nationalized the private salt and iron industries in 117 BC, though these government monopolies were later repealed during the Eastern Han dynasty. Science and technology during the Han period saw significant advances, including the process of papermaking, the nautical steering ship rudder, the use of negative numbers in mathematics, the raised-relief map, the hydraulic-powered armillary sphere for astronomy, and a seismometer employing an inverted pendulum that could be used to discern the cardinal direction of distant earthquakes.\n",
            "The Han dynasty had many conflicts with the Xiongnu, a nomadic confederation centered in the eastern Eurasian steppe. The Xiongnu defeated the Han in 200 BC, prompting the Han to appease the Xiongnu with a policy of marriage alliance and payments of tribute, though the Xiongnu continued to raid the Han's northern borders. Han policy changed in 133 BC, under Emperor Wu, when Han forces began a series of military campaigns to quell the Xiongnu. The Han ultimately defeated the Xiongnu, forcing them to accept vassal status as Han tributaries, and the Xiongnu confederation fragmented. The Han conquered the Hexi Corridor and Inner Asian territory of the Tarim Basin from the Xiongnu, helping to establish the vast trade network known as the Silk Road. The lands north of the Han's borders were later overrun by the nomadic Xianbei confederation. Emperor Wu also launched successful conquests in the south, annexing Nanyue in 111 BC and Dian in 109 BC. He further expanded Han territory into the northern Korean Peninsula, where Han forces conquered Gojoseon and established the Xuantu and Lelang Commanderies in 108 BC. After 92 AD, the palace eunuchs increasingly involved themselves in the dynasty's\u001b[0m\n",
            "Thought:\u001b[32;1m\u001b[1;3m I need to find out who the leaders were.\n",
            "Action: Wikipedia\n",
            "Action Input: Order of battle of Waterloo\u001b[0m\n",
            "Observation: \u001b[36;1m\u001b[1;3mPage: American Civil War\n",
            "Summary: The American Civil War (April 12, 1861 – May 26, 1865; also known by other names) was a civil war in the United States between the Union (\"the North\") and the Confederacy (\"the South\"), which had been formed by states that had seceded from the Union. The cause of the war was the dispute over whether slavery would be permitted to expand into the western territories, leading to more slave states, or be prevented from doing so, which many believed would place slavery on a course of ultimate extinction.\n",
            "Decades of political controversy over slavery were brought to a head by the victory in the 1860 U.S. presidential election of Abraham Lincoln, who opposed slavery's expansion into the western territories. Seven southern slave states responded to Lincoln's victory by seceding from the United States and forming the Confederacy. The Confederacy seized U.S. forts and other federal assets within their borders. Four more southern states seceded after the war began and, led by Confederate President Jefferson Davis, the Confederacy asserted control over about a third of the U.S. population in eleven states. Four years of intense combat, mostly in the South, ensued.\n",
            "During 1861–1862 in the Western Theater, the Union made significant permanent gains—though in the Eastern Theater the conflict was inconclusive. The abolition of slavery became a Union war goal on January 1, 1863, when Lincoln issued the Emancipation Proclamation, which declared all slaves in rebel states to be free, which applied to more than 3.5 million of the 4 million enslaved people in the country. To the west, the Union first destroyed the Confederacy's river navy by the summer of 1862, then much of its western armies, and later seized New Orleans. The successful 1863 Union siege of Vicksburg split the Confederacy in two at the Mississippi River. In 1863, Confederate General Robert E. Lee's incursion north ended at the Battle of Gettysburg. Western successes led to General Ulysses S. Grant's command of all Union armies in 1864. Inflicting an ever-tightening naval blockade of Confederate ports, the Union marshaled resources and manpower to attack the Confederacy from all directions. This led to the fall of Atlanta in 1864 to Union General William Tecumseh Sherman, followed by his March to the Sea. The last significant battles raged around the ten-month Siege of Petersburg, gateway to the Confederate capital of Richmond. The Confederates abandoned Richmond, and on April 9, 1865, Lee surrendered to Grant following the Battle of Appomattox Court House, setting in motion the end of the war.\n",
            "A wave of Confederate surrenders followed. On April 14, just five days after Lee's surrender, Lincoln was assassinated. On May 26, the last military department of the Confederacy, the Department of the Trans-Mississippi, effectively surrendered, but the conclusion of the American Civil War lacks a clear end date, and Appomattox is often symbolically referred to. Small confederate ground forces continued surrendering past the May 26 surrender date until June 23. By the end of the war, much of the South's infrastructure was destroyed, especially its railroads. The Confederacy collapsed, slavery was abolished, and four million enslaved black people were freed. The war-torn nation then entered the Reconstruction era in an attempt to rebuild the country, bring the former Confederate states back into the United States, and grant civil rights to freed slaves.\n",
            "The Civil War is one of the most extensively studied and written about episodes in U.S. history. It remains the subject of cultural and historiographical debate. Of particular interest is the persisting myth of the Lost Cause of the Confederacy. The American Civil War was among the first wars to use industrial warfare. Railroads, the telegraph, steamships, the ironclad warship, and mass-produced weapons were all widely used during the war. In total, the war left between 620,000 and 750,000 soldiers dead, along\u001b[0m\n",
            "Thought:\n",
            "Observation: \u001b[36;1m\u001b[1;3mPage: Indian Rebellion of 1857\n",
            "Summary: The Indian Rebellion of 1857 was a major uprising in India in 1857–58 against the rule of the British East India Company, which functioned as a sovereign power on behalf of the British Crown. The rebellion began on 10 May 1857 in the form of a mutiny of sepoys of the Company's army in the garrison town of Meerut, 40 mi (64 km) northeast of Delhi. It then erupted into other mutinies and civilian rebellions chiefly in the upper Gangetic plain and central India, though incidents of revolt also occurred farther north and east. The rebellion posed a military threat to British power in that region, and was contained only with the rebels' defeat in Gwalior on 20 June 1858. On 1 November 1858, the British granted amnesty to all rebels not involved in murder, though they did not declare the hostilities to have formally ended until 8 July 1859. \n",
            "The name of the revolt is contested, and it is variously described as the Sepoy Mutiny, the Indian Mutiny, the Great Rebellion, the Revolt of 1857, the Indian Insurrection, and the First War of Independence.The Indian rebellion was fed by resentments born of diverse perceptions, including invasive British-style social reforms, harsh land taxes, summary treatment of some rich landowners and princes, as well as scepticism about the improvements brought about by British rule. Many Indians rose against the British; however, many also fought for the British, and the majority remained seemingly compliant to British rule. Violence, which sometimes betrayed exceptional cruelty, was inflicted on both sides, on British officers, and civilians, including women and children, by the rebels, and on the rebels, and their supporters, including sometimes entire villages, by British reprisals; the cities of Delhi and Lucknow were laid waste in the fighting and the British retaliation.After the outbreak of the mutiny in Meerut, the rebels quickly reached Delhi, whose 81-year-old Mughal ruler, Bahadur Shah Zafar, was declared the Emperor of Hindustan. Soon, the rebels had captured large tracts of the North-Western Provinces and Awadh (Oudh). The East India Company's response came rapidly as well. With help from reinforcements, Kanpur was retaken by mid-July 1857, and Delhi by the end of September. However, it then took the remainder of 1857 and the better part of 1858 for the rebellion to be suppressed in Jhansi, Lucknow, and especially the Awadh countryside. Other regions of Company-controlled India—Bengal province, the Bombay Presidency, and the Madras Presidency—remained largely calm. In the Punjab, the Sikh princes crucially helped the British by providing both soldiers and support. The large princely states, Hyderabad, Mysore, Travancore, and Kashmir, as well as the smaller ones of Rajputana, did not join the rebellion, serving the British, in the Governor-General Lord Canning's words, as \"breakwaters in a storm\".In some regions, most notably in Awadh, the rebellion took on the attributes of a patriotic revolt against British oppression. However, the rebel leaders proclaimed no articles of faith that presaged a new political system. Even so, the rebellion proved to be an important watershed in Indian and British Empire history. It led to the dissolution of the East India Company, and forced the British to reorganize the army, the financial system, and the administration in India, through passage of the Government of India Act 1858. India was thereafter administered directly by the British government in the new British Raj. On 1 November 1858, Queen Victoria issued a proclamation to Indians, which while lacking the authority of a constitutional provision, promised rights similar to those of other British subjects. In the following decades, when admission to these rights was not always forthcoming, Indians were to pointedly refer to the Queen's proclamation in growing avowals of a new nationalism.\n",
            "\n",
            "Page: Names of the Indian Rebellion of 1857\n",
            "Summary: The Indian Rebellion o\u001b[0m\n",
            "Thought:"
          ]
        },
        {
          "output_type": "stream",
          "name": "stderr",
          "text": [
            "/usr/local/lib/python3.10/dist-packages/wikipedia/wikipedia.py:389: GuessedAtParserWarning: No parser was explicitly specified, so I'm using the best available HTML parser for this system (\"lxml\"). This usually isn't a problem, but if you run this code on another system, or in a different virtual environment, it may use a different parser and behave differently.\n",
            "\n",
            "The code that caused this warning is on line 389 of the file /usr/local/lib/python3.10/dist-packages/wikipedia/wikipedia.py. To get rid of this warning, pass the additional argument 'features=\"lxml\"' to the BeautifulSoup constructor.\n",
            "\n",
            "  lis = BeautifulSoup(html).find_all('li')\n"
          ]
        },
        {
          "output_type": "stream",
          "name": "stdout",
          "text": [
            "\n",
            "Observation: \u001b[36;1m\u001b[1;3mPage: Indian Rebellion of 1857\n",
            "Summary: The Indian Rebellion of 1857 was a major uprising in India in 1857–58 against the rule of the British East India Company, which functioned as a sovereign power on behalf of the British Crown. The rebellion began on 10 May 1857 in the form of a mutiny of sepoys of the Company's army in the garrison town of Meerut, 40 mi (64 km) northeast of Delhi. It then erupted into other mutinies and civilian rebellions chiefly in the upper Gangetic plain and central India, though incidents of revolt also occurred farther north and east. The rebellion posed a military threat to British power in that region, and was contained only with the rebels' defeat in Gwalior on 20 June 1858. On 1 November 1858, the British granted amnesty to all rebels not involved in murder, though they did not declare the hostilities to have formally ended until 8 July 1859. \n",
            "The name of the revolt is contested, and it is variously described as the Sepoy Mutiny, the Indian Mutiny, the Great Rebellion, the Revolt of 1857, the Indian Insurrection, and the First War of Independence.The Indian rebellion was fed by resentments born of diverse perceptions, including invasive British-style social reforms, harsh land taxes, summary treatment of some rich landowners and princes, as well as scepticism about the improvements brought about by British rule. Many Indians rose against the British; however, many also fought for the British, and the majority remained seemingly compliant to British rule. Violence, which sometimes betrayed exceptional cruelty, was inflicted on both sides, on British officers, and civilians, including women and children, by the rebels, and on the rebels, and their supporters, including sometimes entire villages, by British reprisals; the cities of Delhi and Lucknow were laid waste in the fighting and the British retaliation.After the outbreak of the mutiny in Meerut, the rebels quickly reached Delhi, whose 81-year-old Mughal ruler, Bahadur Shah Zafar, was declared the Emperor of Hindustan. Soon, the rebels had captured large tracts of the North-Western Provinces and Awadh (Oudh). The East India Company's response came rapidly as well. With help from reinforcements, Kanpur was retaken by mid-July 1857, and Delhi by the end of September. However, it then took the remainder of 1857 and the better part of 1858 for the rebellion to be suppressed in Jhansi, Lucknow, and especially the Awadh countryside. Other regions of Company-controlled India—Bengal province, the Bombay Presidency, and the Madras Presidency—remained largely calm. In the Punjab, the Sikh princes crucially helped the British by providing both soldiers and support. The large princely states, Hyderabad, Mysore, Travancore, and Kashmir, as well as the smaller ones of Rajputana, did not join the rebellion, serving the British, in the Governor-General Lord Canning's words, as \"breakwaters in a storm\".In some regions, most notably in Awadh, the rebellion took on the attributes of a patriotic revolt against British oppression. However, the rebel leaders proclaimed no articles of faith that presaged a new political system. Even so, the rebellion proved to be an important watershed in Indian and British Empire history. It led to the dissolution of the East India Company, and forced the British to reorganize the army, the financial system, and the administration in India, through passage of the Government of India Act 1858. India was thereafter administered directly by the British government in the new British Raj. On 1 November 1858, Queen Victoria issued a proclamation to Indians, which while lacking the authority of a constitutional provision, promised rights similar to those of other British subjects. In the following decades, when admission to these rights was not always forthcoming, Indians were to pointedly refer to the Queen's proclamation in growing avowals of a new nationalism.\n",
            "\n",
            "Page: Names of the Indian Rebellion of 1857\n",
            "Summary: The Indian Rebellion o\u001b[0m\n",
            "Thought:\n",
            "Observation: \u001b[36;1m\u001b[1;3mPage: Han dynasty\n",
            "Summary: The Han dynasty (UK: , US: ; traditional Chinese: 漢朝; simplified Chinese: 汉朝; pinyin: Hàncháo) was an imperial dynasty of China (202 BC – 9 AD, 25–220 AD), established by Liu Bang and ruled by the House of Liu. The dynasty was preceded by the short-lived Qin dynasty (221–207 BC) and a warring interregnum known as the Chu–Han contention (206–202 BC), and it was succeeded by the Three Kingdoms period (220–280 AD). The dynasty was briefly interrupted by the Xin dynasty (9–23 AD) established by usurping regent Wang Mang, and is thus separated into two periods—the Western Han (202 BC – 9 AD) and the Eastern Han (25–220 AD). Spanning over four centuries, the Han dynasty is considered a golden age in Chinese history, and it has influenced the identity of the Chinese civilization ever since. Modern China's majority ethnic group refer to themselves as the \"Han people\" or \"Han Chinese\". The spoken Sinitic language and written Chinese are referred to respectively as the \"Han language\" and \"Han characters\".The emperor was at the pinnacle of Han society. He presided over the Han government but shared power with both the nobility and appointed ministers who came largely from the scholarly gentry class. The Han Empire was divided into areas directly controlled by the central government called commanderies, as well as a number of semi-autonomous kingdoms. These kingdoms gradually lost all vestiges of their independence, particularly following the Rebellion of the Seven States. From the reign of Emperor Wu (r. 141–87 BC) onward, the Chinese court officially sponsored Confucianism in education and court politics, synthesized with the cosmology of later scholars such as Dong Zhongshu. This policy endured until the fall of the Qing dynasty in 1912.\n",
            "The Han dynasty saw an age of economic prosperity and witnessed a significant growth of the money economy first established during the Zhou dynasty (c. 1050–256 BC). The coinage minted by the central government in 119 BC remained the standard coinage of China until the Tang dynasty (618–907 AD). The period saw a number of limited institutional innovations. To finance its military campaigns and the settlement of newly conquered frontier territories, the Han government nationalized the private salt and iron industries in 117 BC, though these government monopolies were later repealed during the Eastern Han dynasty. Science and technology during the Han period saw significant advances, including the process of papermaking, the nautical steering ship rudder, the use of negative numbers in mathematics, the raised-relief map, the hydraulic-powered armillary sphere for astronomy, and a seismometer employing an inverted pendulum that could be used to discern the cardinal direction of distant earthquakes.\n",
            "The Han dynasty had many conflicts with the Xiongnu, a nomadic confederation centered in the eastern Eurasian steppe. The Xiongnu defeated the Han in 200 BC, prompting the Han to appease the Xiongnu with a policy of marriage alliance and payments of tribute, though the Xiongnu continued to raid the Han's northern borders. Han policy changed in 133 BC, under Emperor Wu, when Han forces began a series of military campaigns to quell the Xiongnu. The Han ultimately defeated the Xiongnu, forcing them to accept vassal status as Han tributaries, and the Xiongnu confederation fragmented. The Han conquered the Hexi Corridor and Inner Asian territory of the Tarim Basin from the Xiongnu, helping to establish the vast trade network known as the Silk Road. The lands north of the Han's borders were later overrun by the nomadic Xianbei confederation. Emperor Wu also launched successful conquests in the south, annexing Nanyue in 111 BC and Dian in 109 BC. He further expanded Han territory into the northern Korean Peninsula, where Han forces conquered Gojoseon and established the Xuantu and Lelang Commanderies in 108 BC. After 92 AD, the palace eunuchs increasingly involved themselves in the dynasty's\u001b[0m\n",
            "Thought:\u001b[32;1m\u001b[1;3m I now know when the Han dynasty was established and how long it lasted.\n",
            "Final Answer: The Han dynasty was established in 202 BC and lasted until 220 AD, spanning over four centuries.\u001b[0m\n",
            "\n",
            "\u001b[1m> Finished chain.\u001b[0m\n",
            "\u001b[32;1m\u001b[1;3m I now know the final answer\n",
            "Final Answer: The First Hundred Year War was fought from 1337 to 1453 between the kingdoms of England and France.\u001b[0m\n",
            "\u001b[32;1m\u001b[1;3m I need to find out when India got independence\n",
            "Action: Wikipedia\n",
            "Action Input: Indian independence\u001b[0m\n",
            "\u001b[1m> Finished chain.\u001b[0m\n",
            "\u001b[32;1m\u001b[1;3m I need to find out when India got independence\n",
            "Action: Wikipedia\n",
            "Action Input: Indian independence\u001b[0m\u001b[32;1m\u001b[1;3m I now know when the Han dynasty was established and how long it lasted.\n",
            "Final Answer: The Han dynasty was established in 202 BC and lasted until 220 AD, spanning over four centuries.\u001b[0m\n",
            "\n",
            "\u001b[1m> Finished chain.\u001b[0m\n",
            "\u001b[32;1m\u001b[1;3m I now know the general information about the American Civil War.\n",
            "Final Answer: The American Civil War was fought from April 12, 1861 to May 26, 1865 between the Union (\"the North\") and the Confederacy (\"the South\"), which had been formed by states that had seceded from the Union. The cause of the war was the dispute over whether slavery would be permitted to expand into the western territories. The war left between 620,000 and 750,000 soldiers dead.\u001b[0m\n",
            "\n",
            "\u001b[1m> Finished chain.\u001b[0m\n",
            "\u001b[32;1m\u001b[1;3m I now know the general information about the American Civil War.\n",
            "Final Answer: The American Civil War was fought from April 12, 1861 to May 26, 1865 between the Union (\"the North\") and the Confederacy (\"the South\"), which had been formed by states that had seceded from the Union. The cause of the war was the dispute over whether slavery would be permitted to expand into the western territories. The war left between 620,000 and 750,000 soldiers dead.\u001b[0m\n",
            "\n",
            "\u001b[1m> Finished chain.\u001b[0m\n",
            "\u001b[32;1m\u001b[1;3m I now know the general timeline of the Spanish Civil War and who was involved\n",
            "Final Answer: The Spanish Civil War was fought from 1936 to 1939 between the Republicans and the Nationalists. Republicans were loyal to the left-leaning Popular Front government of the Second Spanish Republic, and consisted of various socialist, communist, separatist, anarchist, and republican parties, while the Nationalists were an alliance of Falangists, monarchists, conservatives, and traditionalists led by a military junta among whom General Francisco Franco quickly achieved a preponderant role. The Nationalists won the war in early 1939.\u001b[0m\n",
            "\n",
            "\u001b[1m> Finished chain.\u001b[0m\n",
            "\u001b[32;1m\u001b[1;3m I now know the general timeline of the Spanish Civil War and who was involved\n",
            "Final Answer: The Spanish Civil War was fought from 1936 to 1939 between the Republicans and the Nationalists. Republicans were loyal to the left-leaning Popular Front government of the Second Spanish Republic, and consisted of various socialist, communist, separatist, anarchist, and republican parties, while the Nationalists were an alliance of Falangists, monarchists, conservatives, and traditionalists led by a military junta among whom General Francisco Franco quickly achieved a preponderant role. The Nationalists won the war in early 1939.\u001b[0m\n",
            "\n",
            "\u001b[1m> Finished chain.\u001b[0m\n",
            "\n",
            "Observation: \u001b[36;1m\u001b[1;3mPage: Order of battle of the Waterloo campaign\n",
            "Summary: This is the complete order of battle for the four major battles of the Waterloo campaign.\n",
            "\n",
            "Page: Battle of Waterloo\n",
            "Summary: The Battle of Waterloo (Dutch pronunciation: [ˈʋaːtərloː] ) was fought on Sunday 18 June 1815, near Waterloo (at that time in the United Kingdom of the Netherlands, now in Belgium), marking  the end of the Napoleonic Wars. A French army under the command of Napoleon was defeated by two armies of the Seventh Coalition. One of these was a British-led force with units from the United Kingdom, the Netherlands, Hanover, Brunswick, and Nassau, under the command of the Duke of Wellington (often referred to as the Anglo-allied army or Wellington's army). The other comprised three corps of the Prussian army under Field Marshal von Blücher (the fourth corps of this army fought at the Battle of Wavre on the same day). The battle was known contemporarily as the Battle of Mont Saint-Jean in France or La Belle Alliance (\"the Beautiful Alliance\") in Prussia.Upon Napoleon's return to power in March 1815 (beginning the Hundred Days), many states that had previously opposed him formed the Seventh Coalition and hurriedly mobilised their armies. Wellington's and Blücher's armies were cantoned close to the northeastern border of France. Napoleon planned to attack them separately, before they could link up and invade France with other members of the coalition.\n",
            "On 16 June, Napoleon successfully attacked the bulk of the Prussian army at the Battle of Ligny with his main force, while a small portion of the French army contested the Battle of Quatre Bras to prevent the Anglo-allied army from reinforcing the Prussians. The Anglo-allied army held their ground at Quatre Bras, and on the 17th, the Prussians withdrew from Ligny in good order, while Wellington then withdrew in parallel with the Prussians northward to Waterloo on 17 June. Napoleon sent a third of his forces to pursue the Prussians, which resulted in the separate Battle of Wavre with the Prussian rear-guard on 18–19 June, and prevented that French force from participating at Waterloo.\n",
            "Upon learning that the Prussian army was able to support him, Wellington decided to offer battle on the Mont-Saint-Jean escarpment across the Brussels road, near the village of Waterloo. Here he withstood repeated attacks by the French throughout the afternoon of 18 June and almost lost the battle, but was eventually aided by the progressively arriving 50,000 Prussians who attacked the French flank and inflicted heavy casualties. In the evening, Napoleon assaulted the Anglo-allied line with his last reserves, the senior infantry battalions of the Imperial Guard. With the Prussians breaking through on the French right flank, the Anglo-allied army repulsed the Imperial Guard, and the French army was routed.\n",
            "Waterloo was the decisive engagement of the Waterloo campaign and Napoleon's last. It was also the second bloodiest single day battle of the Napoleonic Wars, after Borodino. According to Wellington, the battle was \"the nearest-run thing you ever saw in your life\". Napoleon abdicated four days later, and coalition forces entered Paris on 7 July. The defeat at Waterloo marked the end of Napoleon's Hundred Days return from exile. It precipitated Napoleon's second and definitive abdication as Emperor of the French, and ended the First French Empire. It set a historical  milestone between serial European wars and decades of relative peace, often referred to as the Pax Britannica.  In popular culture, the phrase \"meeting one's Waterloo\" has become an expression for someone suffering a final defeat, as in the ABBA song \"Waterloo\".\n",
            "The battlefield is located in the Belgian municipalities of Braine-l'Alleud and Lasne, about 15 kilometres (9.3 mi) south of Brussels, and about 2 kilometres (1.2 mi) from the town of Waterloo. The site of the battlefield today is dominated by the monument of the Lion's Mound, a large artificial hill constructed fr\u001b[0m\n",
            "Thought:"
          ]
        },
        {
          "output_type": "stream",
          "name": "stderr",
          "text": [
            "/usr/local/lib/python3.10/dist-packages/wikipedia/wikipedia.py:389: GuessedAtParserWarning: No parser was explicitly specified, so I'm using the best available HTML parser for this system (\"lxml\"). This usually isn't a problem, but if you run this code on another system, or in a different virtual environment, it may use a different parser and behave differently.\n",
            "\n",
            "The code that caused this warning is on line 389 of the file /usr/local/lib/python3.10/dist-packages/wikipedia/wikipedia.py. To get rid of this warning, pass the additional argument 'features=\"lxml\"' to the BeautifulSoup constructor.\n",
            "\n",
            "  lis = BeautifulSoup(html).find_all('li')\n"
          ]
        },
        {
          "output_type": "stream",
          "name": "stdout",
          "text": [
            "\n",
            "Observation: \u001b[36;1m\u001b[1;3mPage: Order of battle of the Waterloo campaign\n",
            "Summary: This is the complete order of battle for the four major battles of the Waterloo campaign.\n",
            "\n",
            "Page: Battle of Waterloo\n",
            "Summary: The Battle of Waterloo (Dutch pronunciation: [ˈʋaːtərloː] ) was fought on Sunday 18 June 1815, near Waterloo (at that time in the United Kingdom of the Netherlands, now in Belgium), marking  the end of the Napoleonic Wars. A French army under the command of Napoleon was defeated by two armies of the Seventh Coalition. One of these was a British-led force with units from the United Kingdom, the Netherlands, Hanover, Brunswick, and Nassau, under the command of the Duke of Wellington (often referred to as the Anglo-allied army or Wellington's army). The other comprised three corps of the Prussian army under Field Marshal von Blücher (the fourth corps of this army fought at the Battle of Wavre on the same day). The battle was known contemporarily as the Battle of Mont Saint-Jean in France or La Belle Alliance (\"the Beautiful Alliance\") in Prussia.Upon Napoleon's return to power in March 1815 (beginning the Hundred Days), many states that had previously opposed him formed the Seventh Coalition and hurriedly mobilised their armies. Wellington's and Blücher's armies were cantoned close to the northeastern border of France. Napoleon planned to attack them separately, before they could link up and invade France with other members of the coalition.\n",
            "On 16 June, Napoleon successfully attacked the bulk of the Prussian army at the Battle of Ligny with his main force, while a small portion of the French army contested the Battle of Quatre Bras to prevent the Anglo-allied army from reinforcing the Prussians. The Anglo-allied army held their ground at Quatre Bras, and on the 17th, the Prussians withdrew from Ligny in good order, while Wellington then withdrew in parallel with the Prussians northward to Waterloo on 17 June. Napoleon sent a third of his forces to pursue the Prussians, which resulted in the separate Battle of Wavre with the Prussian rear-guard on 18–19 June, and prevented that French force from participating at Waterloo.\n",
            "Upon learning that the Prussian army was able to support him, Wellington decided to offer battle on the Mont-Saint-Jean escarpment across the Brussels road, near the village of Waterloo. Here he withstood repeated attacks by the French throughout the afternoon of 18 June and almost lost the battle, but was eventually aided by the progressively arriving 50,000 Prussians who attacked the French flank and inflicted heavy casualties. In the evening, Napoleon assaulted the Anglo-allied line with his last reserves, the senior infantry battalions of the Imperial Guard. With the Prussians breaking through on the French right flank, the Anglo-allied army repulsed the Imperial Guard, and the French army was routed.\n",
            "Waterloo was the decisive engagement of the Waterloo campaign and Napoleon's last. It was also the second bloodiest single day battle of the Napoleonic Wars, after Borodino. According to Wellington, the battle was \"the nearest-run thing you ever saw in your life\". Napoleon abdicated four days later, and coalition forces entered Paris on 7 July. The defeat at Waterloo marked the end of Napoleon's Hundred Days return from exile. It precipitated Napoleon's second and definitive abdication as Emperor of the French, and ended the First French Empire. It set a historical  milestone between serial European wars and decades of relative peace, often referred to as the Pax Britannica.  In popular culture, the phrase \"meeting one's Waterloo\" has become an expression for someone suffering a final defeat, as in the ABBA song \"Waterloo\".\n",
            "The battlefield is located in the Belgian municipalities of Braine-l'Alleud and Lasne, about 15 kilometres (9.3 mi) south of Brussels, and about 2 kilometres (1.2 mi) from the town of Waterloo. The site of the battlefield today is dominated by the monument of the Lion's Mound, a large artificial hill constructed fr\u001b[0m\n",
            "Thought:\n",
            "Observation: \u001b[36;1m\u001b[1;3mPage: Indian independence movement\n",
            "Summary: The Indian independence movement was a series of historic events with the ultimate aim of ending British rule in India also known as British Raj. It lasted until 1947.\n",
            "The first nationalistic revolutionary movement for Indian independence emerged from Bengal. It later took root in the newly formed Indian National Congress with prominent moderate leaders seeking the right to appear for Indian Civil Service examinations in British India, as well as more economic rights for natives. The first half of the 20th century saw a more radical approach towards self-rule.\n",
            "The stages of the independence struggle in the 1920s were characterized by the leadership of Mahatma Gandhi and Congress' adoption of Gandhi's policy of non-violence and civil disobedience. Some of the leading followers of Gandhi's ideology were Jawaharlal Nehru, Subhas Chandra Bose, Vallabhbhai Patel, Abdul Ghaffar Khan, Maulana Azad, and others. Intellectuals such as Rabindranath Tagore, Subramania Bharati, and Bankim Chandra Chattopadhyay spread patriotic awareness. Female leaders like Sarojini Naidu, Vijaya Lakshmi Pandit, Pritilata Waddedar, and Kasturba Gandhi promoted the emancipation of Indian women and their participation in the freedom struggle.\n",
            "Few leaders followed a more violent approach, which became especially popular after the Rowlatt Act, which permitted indefinite detention. The Act sparked protests across India, especially in the Punjab province, where they were violently suppressed in the Jallianwala Bagh massacre.\n",
            "The Indian independence movement was in constant ideological evolution. Essentially anti-colonial, it was supplemented by visions of independent, economic development with a secular, democratic, republican, and civil-libertarian political structure. After the 1930s, the movement took on a strong socialist orientation. It culminated in the Indian Independence Act 1947, which ended Crown suzerainty and partitioned British Raj into Dominion of India and Dominion of Pakistan.\n",
            "India remained a Crown Dominion until 26 January 1950, when the Constitution of India established the Republic of India. Pakistan remained a dominion until 1956 when it adopted its first constitution. In 1971, East Pakistan declared its own independence as Bangladesh.\n",
            "\n",
            "Page: Indian Rebellion of 1857\n",
            "Summary: The Indian Rebellion of 1857 was a major uprising in India in 1857–58 against the rule of the British East India Company, which functioned as a sovereign power on behalf of the British Crown. The rebellion began on 10 May 1857 in the form of a mutiny of sepoys of the Company's army in the garrison town of Meerut, 40 mi (64 km) northeast of Delhi. It then erupted into other mutinies and civilian rebellions chiefly in the upper Gangetic plain and central India, though incidents of revolt also occurred farther north and east. The rebellion posed a military threat to British power in that region, and was contained only with the rebels' defeat in Gwalior on 20 June 1858. On 1 November 1858, the British granted amnesty to all rebels not involved in murder, though they did not declare the hostilities to have formally ended until 8 July 1859. \n",
            "The name of the revolt is contested, and it is variously described as the Sepoy Mutiny, the Indian Mutiny, the Great Rebellion, the Revolt of 1857, the Indian Insurrection, and the First War of Independence.The Indian rebellion was fed by resentments born of diverse perceptions, including invasive British-style social reforms, harsh land taxes, summary treatment of some rich landowners and princes, as well as scepticism about the improvements brought about by British rule. Many Indians rose against the British; however, many also fought for the British, and the majority remained seemingly compliant to British rule. Violence, which sometimes betrayed exceptional cruelty, was inflicted on both sides, on British officers, and civilians, including women and children, by the rebels, and on the rebels\u001b[0m\n",
            "Thought:\n",
            "Observation: \u001b[36;1m\u001b[1;3mPage: Indian independence movement\n",
            "Summary: The Indian independence movement was a series of historic events with the ultimate aim of ending British rule in India also known as British Raj. It lasted until 1947.\n",
            "The first nationalistic revolutionary movement for Indian independence emerged from Bengal. It later took root in the newly formed Indian National Congress with prominent moderate leaders seeking the right to appear for Indian Civil Service examinations in British India, as well as more economic rights for natives. The first half of the 20th century saw a more radical approach towards self-rule.\n",
            "The stages of the independence struggle in the 1920s were characterized by the leadership of Mahatma Gandhi and Congress' adoption of Gandhi's policy of non-violence and civil disobedience. Some of the leading followers of Gandhi's ideology were Jawaharlal Nehru, Subhas Chandra Bose, Vallabhbhai Patel, Abdul Ghaffar Khan, Maulana Azad, and others. Intellectuals such as Rabindranath Tagore, Subramania Bharati, and Bankim Chandra Chattopadhyay spread patriotic awareness. Female leaders like Sarojini Naidu, Vijaya Lakshmi Pandit, Pritilata Waddedar, and Kasturba Gandhi promoted the emancipation of Indian women and their participation in the freedom struggle.\n",
            "Few leaders followed a more violent approach, which became especially popular after the Rowlatt Act, which permitted indefinite detention. The Act sparked protests across India, especially in the Punjab province, where they were violently suppressed in the Jallianwala Bagh massacre.\n",
            "The Indian independence movement was in constant ideological evolution. Essentially anti-colonial, it was supplemented by visions of independent, economic development with a secular, democratic, republican, and civil-libertarian political structure. After the 1930s, the movement took on a strong socialist orientation. It culminated in the Indian Independence Act 1947, which ended Crown suzerainty and partitioned British Raj into Dominion of India and Dominion of Pakistan.\n",
            "India remained a Crown Dominion until 26 January 1950, when the Constitution of India established the Republic of India. Pakistan remained a dominion until 1956 when it adopted its first constitution. In 1971, East Pakistan declared its own independence as Bangladesh.\n",
            "\n",
            "Page: Indian Rebellion of 1857\n",
            "Summary: The Indian Rebellion of 1857 was a major uprising in India in 1857–58 against the rule of the British East India Company, which functioned as a sovereign power on behalf of the British Crown. The rebellion began on 10 May 1857 in the form of a mutiny of sepoys of the Company's army in the garrison town of Meerut, 40 mi (64 km) northeast of Delhi. It then erupted into other mutinies and civilian rebellions chiefly in the upper Gangetic plain and central India, though incidents of revolt also occurred farther north and east. The rebellion posed a military threat to British power in that region, and was contained only with the rebels' defeat in Gwalior on 20 June 1858. On 1 November 1858, the British granted amnesty to all rebels not involved in murder, though they did not declare the hostilities to have formally ended until 8 July 1859. \n",
            "The name of the revolt is contested, and it is variously described as the Sepoy Mutiny, the Indian Mutiny, the Great Rebellion, the Revolt of 1857, the Indian Insurrection, and the First War of Independence.The Indian rebellion was fed by resentments born of diverse perceptions, including invasive British-style social reforms, harsh land taxes, summary treatment of some rich landowners and princes, as well as scepticism about the improvements brought about by British rule. Many Indians rose against the British; however, many also fought for the British, and the majority remained seemingly compliant to British rule. Violence, which sometimes betrayed exceptional cruelty, was inflicted on both sides, on British officers, and civilians, including women and children, by the rebels, and on the rebels\u001b[0m\n",
            "Thought:\u001b[32;1m\u001b[1;3m I now know the final answer.\n",
            "Final Answer: The Battle of Waterloo was fought on Sunday 18 June 1815, near Waterloo (at that time in the United Kingdom of the Netherlands, now in Belgium). The French army was led by Napoleon and the two armies of the Seventh Coalition were led by the Duke of Wellington and Field Marshal von Blücher.\u001b[0m\n",
            "\n",
            "\u001b[1m> Finished chain.\u001b[0m\n",
            "\u001b[32;1m\u001b[1;3m I now know the final answer.\n",
            "Final Answer: The Battle of Waterloo was fought on Sunday 18 June 1815, near Waterloo (at that time in the United Kingdom of the Netherlands, now in Belgium). The French army was led by Napoleon and the two armies of the Seventh Coalition were led by the Duke of Wellington and Field Marshal von Blücher.\u001b[0m\n",
            "\n",
            "\u001b[1m> Finished chain.\u001b[0m\n",
            "\u001b[32;1m\u001b[1;3m I now know the final answer\n",
            "Final Answer: The First War of Indian Independence was fought in 1857-1858 and India gained independence in 1947, with a time gap of 89 years.\u001b[0m\n",
            "\u001b[32;1m\u001b[1;3m I now know the final answer\n",
            "Final Answer: The First War of Indian Independence was fought in 1857-1858 and India gained independence in 1947, with a time gap of 89 years.\u001b[0m\n",
            "\n",
            "\u001b[1m> Finished chain.\u001b[0m\n",
            "\n",
            "\u001b[1m> Finished chain.\u001b[0m\n",
            "Concurrent executed in 22.44 seconds.\n"
          ]
        }
      ]
    },
    {
      "cell_type": "code",
      "source": [
        "import numpy as np\n",
        "import matplotlib.pyplot as plt\n",
        "from sklearn.linear_model import LinearRegression\n",
        "\n",
        "# Data\n",
        "questions = [1, 2, 3, 4, 5, 6, 9, 12]\n",
        "serial_times = [4.95, 9.42, 15.38, 22.11, 25.19, 31.71, 76.99, 99.73]\n",
        "concurrent_times = [3.49, 4.78, 7.22, 8.81, 11.03, 11.45, 18.48, 22.44]\n",
        "\n",
        "# Linear regression\n",
        "serial_x = np.array(questions).reshape(-1, 1)\n",
        "serial_y = np.array(serial_times)\n",
        "concurrent_x = np.array(questions).reshape(-1, 1)\n",
        "concurrent_y = np.array(concurrent_times)\n",
        "\n",
        "serial_reg = LinearRegression().fit(serial_x, serial_y)\n",
        "concurrent_reg = LinearRegression().fit(concurrent_x, concurrent_y)\n",
        "\n",
        "# Predictions\n",
        "serial_pred = serial_reg.predict(serial_x)\n",
        "concurrent_pred = concurrent_reg.predict(concurrent_x)\n",
        "\n",
        "# Plot\n",
        "plt.figure(figsize=(10, 6))\n",
        "plt.scatter(questions, serial_times, color='orange', label='Serial')\n",
        "plt.plot(questions, serial_pred, linestyle='--', color='orange')\n",
        "plt.scatter(questions, concurrent_times, color='grey', label='Concurrent')\n",
        "plt.plot(questions, concurrent_pred, linestyle='--', color='grey')\n",
        "\n",
        "plt.xlabel('# Questions')\n",
        "plt.ylabel('Time (seconds)')\n",
        "plt.legend()\n",
        "plt.title('Linear Regression of Time vs. # Questions')\n",
        "plt.grid(True)\n",
        "plt.show()\n"
      ],
      "metadata": {
        "colab": {
          "base_uri": "https://localhost:8080/",
          "height": 564
        },
        "id": "I5mQwNDkWzP1",
        "outputId": "f6d4c58b-0bd7-4de2-c9ec-5c27c0bd7c73"
      },
      "execution_count": null,
      "outputs": [
        {
          "output_type": "display_data",
          "data": {
            "text/plain": [
              "<Figure size 1000x600 with 1 Axes>"
            ],
            "image/png": "[encoded data removed]"
          },
          "metadata": {}
        }
      ]
    },
    {
      "cell_type": "markdown",
      "source": [
        "It is direct to see that both the Serial and Concurrent methods increases the execution time when the number of questions increases. The Concuerrent has a lower slope and fits reasonably good with a linear regression.\n",
        "\n",
        "Concurrent execution should be faster than serial execution because it allows multiple tasks to run simultaneously, reducing the overall time required. This might result in a linear relationship between the number of questions and execution time.\n",
        "\n",
        "On the other hand, serial execution processes each question one after the other, and as the number of questions increases, the execution time increases linearly or possibly even exponentially if the processing time for each question increases with the number of questions."
      ],
      "metadata": {
        "id": "mtirCuhiYBXs"
      }
    },
    {
      "cell_type": "code",
      "source": [
        "import numpy as np\n",
        "import matplotlib.pyplot as plt\n",
        "from scipy.optimize import curve_fit\n",
        "\n",
        "# Data\n",
        "questions = np.array([1, 2, 3, 4, 5, 6, 9, 12])\n",
        "serial_times = np.array([4.95, 9.42, 15.38, 22.11, 25.19, 31.71, 76.99, 99.73])\n",
        "concurrent_times = np.array([3.49, 4.78, 7.22, 8.81, 11.03, 11.45, 18.48, 22.44])\n",
        "\n",
        "# Define an exponential function\n",
        "def exponential_func(x, a, b, c):\n",
        "    return a * np.exp(b * x) + c\n",
        "\n",
        "# Fit the exponential model to the serial data\n",
        "popt, _ = curve_fit(exponential_func, questions, serial_times)\n",
        "\n",
        "# Generate values for the fitted curve\n",
        "serial_fitted = exponential_func(questions, *popt)\n",
        "\n",
        "# Plot the data and fitted curves\n",
        "plt.figure(figsize=(10, 6))\n",
        "plt.scatter(questions, serial_times, color='orange', label='Serial')\n",
        "plt.plot(questions, serial_fitted, linestyle='--', color='orange')\n",
        "plt.scatter(questions, concurrent_times, color='grey', label='Concurrent')\n",
        "plt.xlabel('# Questions')\n",
        "plt.ylabel('Time (seconds)')\n",
        "plt.legend()\n",
        "plt.title('Exponential Regression of Time vs. # Questions (Serial)')\n",
        "plt.grid(True)\n",
        "plt.show()\n"
      ],
      "metadata": {
        "colab": {
          "base_uri": "https://localhost:8080/",
          "height": 564
        },
        "id": "OvHXM4R6YByo",
        "outputId": "21703205-148b-4007-b8bf-2d94a724c91e"
      },
      "execution_count": null,
      "outputs": [
        {
          "output_type": "display_data",
          "data": {
            "text/plain": [
              "<Figure size 1000x600 with 1 Axes>"
            ],
            "image/png": "[encoded data removed]"
          },
          "metadata": {}
        }
      ]
    },
    {
      "cell_type": "markdown",
      "source": [
        "According to this data, is possible to see that the Serial responds more to an exponential function."
      ],
      "metadata": {
        "id": "7ht6Tb3EYgB2"
      }
    },
    {
      "cell_type": "markdown",
      "source": [
        "## Part 3"
      ],
      "metadata": {
        "id": "GqB8fM2zBuEw"
      }
    },
    {
      "cell_type": "markdown",
      "source": [
        "Use of pydantic for formatting output"
      ],
      "metadata": {
        "id": "MXgb9wDUB9NC"
      }
    },
    {
      "cell_type": "markdown",
      "source": [
        "### Subpart 1"
      ],
      "metadata": {
        "id": "Du1jQuUXQ7eg"
      }
    },
    {
      "cell_type": "markdown",
      "source": [
        "As you did in HW1, write a prompt to extract the following from the review above"
      ],
      "metadata": {
        "id": "M-ym8TvmCAa3"
      }
    },
    {
      "cell_type": "code",
      "source": [
        "from langchain import PromptTemplate\n",
        "from langchain.chains import LLMChain"
      ],
      "metadata": {
        "id": "3xPiNTjoDhgg"
      },
      "execution_count": null,
      "outputs": []
    },
    {
      "cell_type": "code",
      "source": [
        "# Define the template for analyzing a restaurant overall score\n",
        "template_overall = \"\"\"\n",
        "Analyze this restaurant review: {review}\n",
        "Give the overall sentiment using 1-5 scale, where 1=poor, 5=excellent. Just give me a number. Nothing else.\n",
        "\"\"\"\n",
        "\n",
        "prompt_template_overall = PromptTemplate(\n",
        "  template=template_overall,\n",
        "  input_variables=[\"review\"],\n",
        ")\n",
        "\n",
        "# Define the template to extract score from each attribute\n",
        "template_attscore = \"\"\"\n",
        "In the context of {review}.\n",
        "- Is the Food mentioned? If not directly mentioned, look for similar words such as flavor, or spicyness, what is the sentiment (Positive or Negative = Boolean, i.e., binary)\n",
        "- Is the Service mentioned? If not directly mentioned, look for similar words such as speed(positive), or mood, what is the sentiment (Positive or Negative = Boolean, i.e., binary)\n",
        "Do not reply anything yet.\n",
        "Regarding {attribute} select which represent the sentiment the most: positive, negative.\n",
        "Just one word. Nothing else.\n",
        "\"\"\"\n",
        "\n",
        "prompt_template_attscore = PromptTemplate(\n",
        "  template=template_attscore,\n",
        "  input_variables=[\"review\",\"attribute\"],\n",
        ")\n",
        "\n",
        "# Initialize ChatOpenAI with the API key\n",
        "llm = ChatOpenAI(temperature=0, model_name=\"gpt-4\", openai_api_key=OPENAI_API_KEY)\n",
        "\n",
        "# Define the LLMChains\n",
        "chain_overall = LLMChain(llm=llm, prompt=prompt_template_overall)\n",
        "chain_attscore = LLMChain(llm=llm, prompt=prompt_template_attscore)\n",
        "\n",
        "# Example restaurant review\n",
        "review_1 = \"\"\"\n",
        "“My husband and I came here for a quick dinner last night, before visiting The Hideaway club down the road. From the moment we walked in, we were greeted with a warm and friendly service. The decor is quirky and inviting and we immediately felt comfortable. I love that the menu is quite small and uncomplicated. We chose several starter dishes and two main dishes, which was plenty to fill us up - This is not your “run of the mill” Chinese food. Everything is cooked fresh and you can taste the difference in comparison to some other restaurants.”\n",
        "\"\"\"\n",
        "\n",
        "# Define a dictionary to store the analysis results\n",
        "results = {\n",
        "    1: {\"Overall\": None, \"Food\": None},\n",
        "\n",
        "}\n",
        "\n",
        "# Run the chain with the review\n",
        "reviews = [review_1]\n",
        "\n",
        "for i, review in enumerate(reviews, start=1):\n",
        "    sentiment = chain_overall.run(review=review)\n",
        "    print(f\"Overall Sentiment for Review {i}: {sentiment}\")\n",
        "    print(\"-------------\")\n",
        "\n",
        "    attributes = [\"Food\", \"Service\"]\n",
        "    attr_scores = {}\n",
        "    for attribute in attributes:\n",
        "        score = chain_attscore.run(review=review, attribute=attribute)\n",
        "        attr_scores[attribute] = score\n",
        "        print(f\"{attribute}: {score}\")\n",
        "\n",
        "    # Update the results dictionary\n",
        "    results[i] = {\"Overall\": sentiment, **attr_scores}\n",
        "    print(\"-------------\\n\")\n",
        "\n"
      ],
      "metadata": {
        "colab": {
          "base_uri": "https://localhost:8080/"
        },
        "id": "2dTLkEV0DGDh",
        "outputId": "92a682be-c84f-477a-f47c-478aebe72ccd"
      },
      "execution_count": null,
      "outputs": [
        {
          "output_type": "stream",
          "name": "stdout",
          "text": [
            "Overall Sentiment for Review 1: 5\n",
            "-------------\n",
            "Food: Positive\n",
            "Service: Positive\n",
            "-------------\n",
            "\n"
          ]
        }
      ]
    },
    {
      "cell_type": "markdown",
      "source": [
        "### Subpart 2"
      ],
      "metadata": {
        "id": "_y-NN_gFB1In"
      }
    },
    {
      "cell_type": "markdown",
      "source": [
        "Use pydantic to ensure the types and also the conditions (1-5, Boolean etc.). Show output\n"
      ],
      "metadata": {
        "id": "Tmuq5xIxCLRZ"
      }
    },
    {
      "cell_type": "code",
      "source": [
        "#Using pydantic for parsiing\n",
        "from langchain.output_parsers import PydanticOutputParser\n",
        "from pydantic import BaseModel, Field, validator        #Pydantic objects\n",
        "\n",
        "# Define your desired output data structure.\n",
        "class ReviewScore(BaseModel):\n",
        "    overall: int = Field(description=\"Overall score\", ge=1, le=5)\n",
        "    food: bool = Field(description=\"This is a binary variable, 0: positive 1: negative\")\n",
        "    service: bool = Field(description=\"This is a binary variable, 0: positive 1: negative\")\n",
        "\n",
        "# Custom validator for overall score\n",
        "    @validator('overall')\n",
        "    def validate_overall(cls, value):\n",
        "        if not (1 <= value <= 5):\n",
        "            raise ValueError(\"Overall score must be between 1 and 5\")\n",
        "        return value\n",
        "\n",
        "    # Custom validator for food score\n",
        "    @validator('food')\n",
        "    def validate_food(cls, value):\n",
        "        if value not in (0, 1):\n",
        "            raise ValueError(\"Food score must be 0 or 1\")\n",
        "        return value\n",
        "\n",
        "    # Custom validator for service score\n",
        "    @validator('service')\n",
        "    def validate_service(cls, value):\n",
        "        if value not in (0, 1):\n",
        "            raise ValueError(\"Service score must be 0 or 1\")\n",
        "        return value\n",
        "\n",
        "\n",
        "\n",
        "# Set up a parser + inject instructions into the prompt template.\n",
        "pydantic_parser = PydanticOutputParser(pydantic_object=ReviewScore)\n",
        "format_instructions = pydantic_parser.get_format_instructions()\n",
        "print(format_instructions)"
      ],
      "metadata": {
        "colab": {
          "base_uri": "https://localhost:8080/"
        },
        "id": "YT1V4Y8pGKHh",
        "outputId": "c87eeab0-2b50-4a29-b258-1ee1bb3f6887"
      },
      "execution_count": null,
      "outputs": [
        {
          "output_type": "stream",
          "name": "stdout",
          "text": [
            "The output should be formatted as a JSON instance that conforms to the JSON schema below.\n",
            "\n",
            "As an example, for the schema {\"properties\": {\"foo\": {\"title\": \"Foo\", \"description\": \"a list of strings\", \"type\": \"array\", \"items\": {\"type\": \"string\"}}}, \"required\": [\"foo\"]}\n",
            "the object {\"foo\": [\"bar\", \"baz\"]} is a well-formatted instance of the schema. The object {\"properties\": {\"foo\": [\"bar\", \"baz\"]}} is not well-formatted.\n",
            "\n",
            "Here is the output schema:\n",
            "```\n",
            "{\"properties\": {\"overall\": {\"title\": \"Overall\", \"description\": \"Overall score\", \"minimum\": 1, \"maximum\": 5, \"type\": \"integer\"}, \"food\": {\"title\": \"Food\", \"description\": \"This is a binary variable, 0: positive 1: negative\", \"type\": \"boolean\"}, \"service\": {\"title\": \"Service\", \"description\": \"This is a binary variable, 0: positive 1: negative\", \"type\": \"boolean\"}}, \"required\": [\"overall\", \"food\", \"service\"]}\n",
            "```\n"
          ]
        }
      ]
    },
    {
      "cell_type": "markdown",
      "source": [
        "### Subpart 3"
      ],
      "metadata": {
        "id": "5zCZEtwhB3Of"
      }
    },
    {
      "cell_type": "markdown",
      "source": [
        "Parse the JSON output from pydantic and check the three types."
      ],
      "metadata": {
        "id": "xpbasJJPCNb8"
      }
    },
    {
      "cell_type": "code",
      "source": [
        "from langchain.chat_models import ChatOpenAI\n",
        "from langchain import PromptTemplate\n",
        "\n",
        "# Example restaurant review\n",
        "review = \"\"\"\n",
        "“My husband and I came here for a quick dinner last night, before visiting The Hideaway club down the road. From the moment we walked in, we were greeted with a warm and friendly service. The decor is quirky and inviting and we immediately felt comfortable. I love that the menu is quite small and uncomplicated. We chose several starter dishes and two main dishes, which was plenty to fill us up - This is not your “run of the mill” Chinese food. Everything is cooked fresh and you can taste the difference in comparison to some other restaurants.”\n",
        "\"\"\"\n",
        "\n",
        "# Define the template to extract score from each attribute\n",
        "template = \"\"\"\n",
        "In the context of {review}.\n",
        "- Give the overall sentiment using 1-5 scale, where 1=poor, 5=excellent. Just give me a number. Nothing else.\n",
        "- Is the Food mentioned? If not directly mentioned, look for similar words such as flavor, or spicyness, what is the sentiment (Positive or Negative = Boolean, i.e., binary)\n",
        "- Is the Service mentioned? If not directly mentioned, look for similar words such as speed(positive), or mood, what is the sentiment (Positive or Negative = Boolean, i.e., binary)\n",
        "Do not reply anything yet.\n",
        "Regarding {attribute} select which represent the sentiment the most: positive, negative.\n",
        "Just one word. Nothing else.\n",
        "\n",
        "{format_instructions}\n",
        "\"\"\"\n",
        "\n",
        "\n",
        "prompt_template = PromptTemplate(\n",
        "  template=template,\n",
        "  input_variables=[\"review\"],\n",
        ")\n",
        "\n",
        "# Initialize ChatOpenAI with the API key\n",
        "llm = ChatOpenAI(temperature=0, model_name=\"gpt-4\", openai_api_key=OPENAI_API_KEY)\n",
        "\n",
        "# Define the LLMChains\n",
        "\n",
        "chain = LLMChain(llm=llm, prompt=prompt_template)\n",
        "\n",
        "score = chain.run(review=review, attribute=attribute, format_instructions=format_instructions)\n",
        "print(score)"
      ],
      "metadata": {
        "colab": {
          "base_uri": "https://localhost:8080/"
        },
        "id": "yBvvLw9iI0ZI",
        "outputId": "bd3c1ec0-5730-4109-dc06-87126c9d6ea1"
      },
      "execution_count": null,
      "outputs": [
        {
          "output_type": "stream",
          "name": "stdout",
          "text": [
            "{\"overall\": 5, \"food\": false, \"service\": false}\n"
          ]
        }
      ]
    },
    {
      "cell_type": "code",
      "source": [
        "review = pydantic_parser.parse(score)\n",
        "\n",
        "review"
      ],
      "metadata": {
        "colab": {
          "base_uri": "https://localhost:8080/"
        },
        "id": "91XshQJBPv6f",
        "outputId": "c611255e-da1d-404c-d34b-411458103295"
      },
      "execution_count": null,
      "outputs": [
        {
          "output_type": "execute_result",
          "data": {
            "text/plain": [
              "ReviewScore(overall=5, food=False, service=False)"
            ]
          },
          "metadata": {},
          "execution_count": 137
        }
      ]
    },
    {
      "cell_type": "code",
      "source": [
        "review.overall"
      ],
      "metadata": {
        "colab": {
          "base_uri": "https://localhost:8080/"
        },
        "id": "yuRxx5QvQFkm",
        "outputId": "15506165-94f2-47f4-8b4f-aec75130085a"
      },
      "execution_count": null,
      "outputs": [
        {
          "output_type": "execute_result",
          "data": {
            "text/plain": [
              "5"
            ]
          },
          "metadata": {},
          "execution_count": 138
        }
      ]
    },
    {
      "cell_type": "code",
      "source": [
        "type(review.overall)"
      ],
      "metadata": {
        "colab": {
          "base_uri": "https://localhost:8080/"
        },
        "id": "77pvqs7OQIXx",
        "outputId": "6c59a7ea-3f49-4860-eaf0-8faf4374c9db"
      },
      "execution_count": null,
      "outputs": [
        {
          "output_type": "execute_result",
          "data": {
            "text/plain": [
              "int"
            ]
          },
          "metadata": {},
          "execution_count": 139
        }
      ]
    },
    {
      "cell_type": "code",
      "source": [
        "review.food"
      ],
      "metadata": {
        "colab": {
          "base_uri": "https://localhost:8080/"
        },
        "id": "PeIvU37LQL6I",
        "outputId": "b92ba6de-c609-4d41-8725-4cae8dd093e5"
      },
      "execution_count": null,
      "outputs": [
        {
          "output_type": "execute_result",
          "data": {
            "text/plain": [
              "False"
            ]
          },
          "metadata": {},
          "execution_count": 140
        }
      ]
    },
    {
      "cell_type": "code",
      "source": [
        "type(review.food)"
      ],
      "metadata": {
        "colab": {
          "base_uri": "https://localhost:8080/"
        },
        "id": "AphzUXi5QOgP",
        "outputId": "610a2b7a-e579-46c9-bcce-c05d3ed8036d"
      },
      "execution_count": null,
      "outputs": [
        {
          "output_type": "execute_result",
          "data": {
            "text/plain": [
              "bool"
            ]
          },
          "metadata": {},
          "execution_count": 141
        }
      ]
    },
    {
      "cell_type": "code",
      "source": [
        "review.service"
      ],
      "metadata": {
        "colab": {
          "base_uri": "https://localhost:8080/"
        },
        "id": "3duWaH0fQRqF",
        "outputId": "8d5c0fe6-72f7-4ac1-e3b4-6b1e147cac51"
      },
      "execution_count": null,
      "outputs": [
        {
          "output_type": "execute_result",
          "data": {
            "text/plain": [
              "False"
            ]
          },
          "metadata": {},
          "execution_count": 142
        }
      ]
    },
    {
      "cell_type": "code",
      "source": [
        "type(review.service)"
      ],
      "metadata": {
        "colab": {
          "base_uri": "https://localhost:8080/"
        },
        "id": "sYDSBewKQUq0",
        "outputId": "63102c3c-31f3-40a7-d92a-a9428375299c"
      },
      "execution_count": null,
      "outputs": [
        {
          "output_type": "execute_result",
          "data": {
            "text/plain": [
              "bool"
            ]
          },
          "metadata": {},
          "execution_count": 143
        }
      ]
    }
  ],
  "metadata": {
    "colab": {
      "provenance": [],
      "collapsed_sections": [
        "166xTcOvz_ST"
      ]
    },
    "kernelspec": {
      "display_name": "Python 3",
      "name": "python3"
    },
    "language_info": {
      "name": "python"
    }
  },
  "nbformat": 4,
  "nbformat_minor": 0
}
